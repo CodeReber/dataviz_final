{
 "cells": [
  {
   "cell_type": "code",
   "execution_count": 1,
   "metadata": {},
   "outputs": [
    {
     "name": "stdout",
     "output_type": "stream",
     "text": [
      "Requirement already up-to-date: sklearn in /opt/anaconda3/envs/PythonAdv/lib/python3.6/site-packages (0.0)\n",
      "Requirement already satisfied, skipping upgrade: scikit-learn in /opt/anaconda3/envs/PythonAdv/lib/python3.6/site-packages (from sklearn) (0.23.1)\n",
      "Requirement already satisfied, skipping upgrade: joblib>=0.11 in /opt/anaconda3/envs/PythonAdv/lib/python3.6/site-packages (from scikit-learn->sklearn) (0.15.1)\n",
      "Requirement already satisfied, skipping upgrade: scipy>=0.19.1 in /opt/anaconda3/envs/PythonAdv/lib/python3.6/site-packages (from scikit-learn->sklearn) (1.5.0)\n",
      "Requirement already satisfied, skipping upgrade: threadpoolctl>=2.0.0 in /opt/anaconda3/envs/PythonAdv/lib/python3.6/site-packages (from scikit-learn->sklearn) (2.1.0)\n",
      "Requirement already satisfied, skipping upgrade: numpy>=1.13.3 in /opt/anaconda3/envs/PythonAdv/lib/python3.6/site-packages (from scikit-learn->sklearn) (1.18.5)\n"
     ]
    }
   ],
   "source": [
    "# Update sklearn to prevent version mismatches\n",
    "!pip install sklearn --upgrade"
   ]
  },
  {
   "cell_type": "code",
   "execution_count": 2,
   "metadata": {},
   "outputs": [
    {
     "name": "stdout",
     "output_type": "stream",
     "text": [
      "Requirement already satisfied: joblib in /opt/anaconda3/envs/PythonAdv/lib/python3.6/site-packages (0.15.1)\r\n"
     ]
    }
   ],
   "source": [
    "# install joblib for saving\n",
    "# Restart kernel after installing \n",
    "!pip install joblib"
   ]
  },
  {
   "cell_type": "code",
   "execution_count": 93,
   "metadata": {},
   "outputs": [],
   "source": [
    "import pandas as pd\n",
    "import matplotlib.pyplot as plt"
   ]
  },
  {
   "cell_type": "code",
   "execution_count": 67,
   "metadata": {},
   "outputs": [],
   "source": [
    "df = pd.read_csv(\"data/ml_compile.csv\")"
   ]
  },
  {
   "cell_type": "code",
   "execution_count": 68,
   "metadata": {},
   "outputs": [
    {
     "data": {
      "text/plain": [
       "Index(['year_month', 'land_avg_temp', 'land_max_temp', 'land_min_temp',\n",
       "       'land_ocean_avg_temp', 'north_min_temp_anomoly',\n",
       "       'north_max_temp_anomoly', 'north_mean_temp_anomoly', 'global_avg_co2',\n",
       "       'seaice_extent', 'bear_rsf_mean', 'bear_rsf_var'],\n",
       "      dtype='object')"
      ]
     },
     "execution_count": 68,
     "metadata": {},
     "output_type": "execute_result"
    }
   ],
   "source": [
    "df.columns"
   ]
  },
  {
   "cell_type": "code",
   "execution_count": 69,
   "metadata": {
    "scrolled": true
   },
   "outputs": [
    {
     "data": {
      "text/html": [
       "<div>\n",
       "<style scoped>\n",
       "    .dataframe tbody tr th:only-of-type {\n",
       "        vertical-align: middle;\n",
       "    }\n",
       "\n",
       "    .dataframe tbody tr th {\n",
       "        vertical-align: top;\n",
       "    }\n",
       "\n",
       "    .dataframe thead th {\n",
       "        text-align: right;\n",
       "    }\n",
       "</style>\n",
       "<table border=\"1\" class=\"dataframe\">\n",
       "  <thead>\n",
       "    <tr style=\"text-align: right;\">\n",
       "      <th></th>\n",
       "      <th>land_avg_temp</th>\n",
       "      <th>land_max_temp</th>\n",
       "      <th>land_min_temp</th>\n",
       "      <th>land_ocean_avg_temp</th>\n",
       "      <th>north_min_temp_anomoly</th>\n",
       "      <th>north_max_temp_anomoly</th>\n",
       "      <th>north_mean_temp_anomoly</th>\n",
       "      <th>global_avg_co2</th>\n",
       "      <th>seaice_extent</th>\n",
       "      <th>bear_rsf_mean</th>\n",
       "      <th>bear_rsf_var</th>\n",
       "    </tr>\n",
       "  </thead>\n",
       "  <tbody>\n",
       "    <tr>\n",
       "      <th>count</th>\n",
       "      <td>1392.000000</td>\n",
       "      <td>1392.000000</td>\n",
       "      <td>1392.000000</td>\n",
       "      <td>1392.000000</td>\n",
       "      <td>1428.000000</td>\n",
       "      <td>1434.000000</td>\n",
       "      <td>1446.000000</td>\n",
       "      <td>752.000000</td>\n",
       "      <td>506.000000</td>\n",
       "      <td>334.000000</td>\n",
       "      <td>334.000000</td>\n",
       "    </tr>\n",
       "    <tr>\n",
       "      <th>mean</th>\n",
       "      <td>8.762454</td>\n",
       "      <td>14.516995</td>\n",
       "      <td>3.000047</td>\n",
       "      <td>15.317030</td>\n",
       "      <td>0.122602</td>\n",
       "      <td>0.213536</td>\n",
       "      <td>0.213620</td>\n",
       "      <td>355.582926</td>\n",
       "      <td>11.405146</td>\n",
       "      <td>15.820979</td>\n",
       "      <td>3.045457</td>\n",
       "    </tr>\n",
       "    <tr>\n",
       "      <th>std</th>\n",
       "      <td>4.199958</td>\n",
       "      <td>4.294911</td>\n",
       "      <td>4.114758</td>\n",
       "      <td>1.259405</td>\n",
       "      <td>0.709268</td>\n",
       "      <td>0.620087</td>\n",
       "      <td>0.630979</td>\n",
       "      <td>28.949294</td>\n",
       "      <td>3.252910</td>\n",
       "      <td>2.430975</td>\n",
       "      <td>1.087362</td>\n",
       "    </tr>\n",
       "    <tr>\n",
       "      <th>min</th>\n",
       "      <td>1.395000</td>\n",
       "      <td>7.082000</td>\n",
       "      <td>-4.298000</td>\n",
       "      <td>12.839000</td>\n",
       "      <td>-1.951000</td>\n",
       "      <td>-1.772000</td>\n",
       "      <td>-1.647000</td>\n",
       "      <td>312.430000</td>\n",
       "      <td>3.565600</td>\n",
       "      <td>6.093212</td>\n",
       "      <td>0.000000</td>\n",
       "    </tr>\n",
       "    <tr>\n",
       "      <th>25%</th>\n",
       "      <td>4.655750</td>\n",
       "      <td>10.426250</td>\n",
       "      <td>-1.103250</td>\n",
       "      <td>14.150750</td>\n",
       "      <td>-0.354250</td>\n",
       "      <td>-0.184750</td>\n",
       "      <td>-0.198000</td>\n",
       "      <td>329.112500</td>\n",
       "      <td>8.571152</td>\n",
       "      <td>14.872230</td>\n",
       "      <td>2.420035</td>\n",
       "    </tr>\n",
       "    <tr>\n",
       "      <th>50%</th>\n",
       "      <td>9.087500</td>\n",
       "      <td>14.899000</td>\n",
       "      <td>3.213500</td>\n",
       "      <td>15.373000</td>\n",
       "      <td>0.022500</td>\n",
       "      <td>0.140500</td>\n",
       "      <td>0.098000</td>\n",
       "      <td>352.880000</td>\n",
       "      <td>12.095933</td>\n",
       "      <td>16.388356</td>\n",
       "      <td>2.949145</td>\n",
       "    </tr>\n",
       "    <tr>\n",
       "      <th>75%</th>\n",
       "      <td>12.953000</td>\n",
       "      <td>18.867000</td>\n",
       "      <td>7.048000</td>\n",
       "      <td>16.477750</td>\n",
       "      <td>0.583250</td>\n",
       "      <td>0.563500</td>\n",
       "      <td>0.576500</td>\n",
       "      <td>378.857500</td>\n",
       "      <td>14.318582</td>\n",
       "      <td>17.471275</td>\n",
       "      <td>3.629055</td>\n",
       "    </tr>\n",
       "    <tr>\n",
       "      <th>max</th>\n",
       "      <td>15.482000</td>\n",
       "      <td>21.320000</td>\n",
       "      <td>9.715000</td>\n",
       "      <td>17.611000</td>\n",
       "      <td>2.970000</td>\n",
       "      <td>2.805000</td>\n",
       "      <td>2.877000</td>\n",
       "      <td>417.070000</td>\n",
       "      <td>16.341938</td>\n",
       "      <td>20.000000</td>\n",
       "      <td>6.027518</td>\n",
       "    </tr>\n",
       "  </tbody>\n",
       "</table>\n",
       "</div>"
      ],
      "text/plain": [
       "       land_avg_temp  land_max_temp  land_min_temp  land_ocean_avg_temp  \\\n",
       "count    1392.000000    1392.000000    1392.000000          1392.000000   \n",
       "mean        8.762454      14.516995       3.000047            15.317030   \n",
       "std         4.199958       4.294911       4.114758             1.259405   \n",
       "min         1.395000       7.082000      -4.298000            12.839000   \n",
       "25%         4.655750      10.426250      -1.103250            14.150750   \n",
       "50%         9.087500      14.899000       3.213500            15.373000   \n",
       "75%        12.953000      18.867000       7.048000            16.477750   \n",
       "max        15.482000      21.320000       9.715000            17.611000   \n",
       "\n",
       "       north_min_temp_anomoly  north_max_temp_anomoly  \\\n",
       "count             1428.000000             1434.000000   \n",
       "mean                 0.122602                0.213536   \n",
       "std                  0.709268                0.620087   \n",
       "min                 -1.951000               -1.772000   \n",
       "25%                 -0.354250               -0.184750   \n",
       "50%                  0.022500                0.140500   \n",
       "75%                  0.583250                0.563500   \n",
       "max                  2.970000                2.805000   \n",
       "\n",
       "       north_mean_temp_anomoly  global_avg_co2  seaice_extent  bear_rsf_mean  \\\n",
       "count              1446.000000      752.000000     506.000000     334.000000   \n",
       "mean                  0.213620      355.582926      11.405146      15.820979   \n",
       "std                   0.630979       28.949294       3.252910       2.430975   \n",
       "min                  -1.647000      312.430000       3.565600       6.093212   \n",
       "25%                  -0.198000      329.112500       8.571152      14.872230   \n",
       "50%                   0.098000      352.880000      12.095933      16.388356   \n",
       "75%                   0.576500      378.857500      14.318582      17.471275   \n",
       "max                   2.877000      417.070000      16.341938      20.000000   \n",
       "\n",
       "       bear_rsf_var  \n",
       "count    334.000000  \n",
       "mean       3.045457  \n",
       "std        1.087362  \n",
       "min        0.000000  \n",
       "25%        2.420035  \n",
       "50%        2.949145  \n",
       "75%        3.629055  \n",
       "max        6.027518  "
      ]
     },
     "execution_count": 69,
     "metadata": {},
     "output_type": "execute_result"
    }
   ],
   "source": [
    "df.describe()"
   ]
  },
  {
   "cell_type": "code",
   "execution_count": 79,
   "metadata": {
    "scrolled": true
   },
   "outputs": [],
   "source": [
    "df2 = df.dropna(axis=0, how=\"any\")"
   ]
  },
  {
   "cell_type": "code",
   "execution_count": 80,
   "metadata": {},
   "outputs": [
    {
     "data": {
      "text/html": [
       "<div>\n",
       "<style scoped>\n",
       "    .dataframe tbody tr th:only-of-type {\n",
       "        vertical-align: middle;\n",
       "    }\n",
       "\n",
       "    .dataframe tbody tr th {\n",
       "        vertical-align: top;\n",
       "    }\n",
       "\n",
       "    .dataframe thead th {\n",
       "        text-align: right;\n",
       "    }\n",
       "</style>\n",
       "<table border=\"1\" class=\"dataframe\">\n",
       "  <thead>\n",
       "    <tr style=\"text-align: right;\">\n",
       "      <th></th>\n",
       "      <th>land_avg_temp</th>\n",
       "      <th>land_max_temp</th>\n",
       "      <th>land_min_temp</th>\n",
       "      <th>land_ocean_avg_temp</th>\n",
       "      <th>north_min_temp_anomoly</th>\n",
       "      <th>north_max_temp_anomoly</th>\n",
       "      <th>north_mean_temp_anomoly</th>\n",
       "      <th>global_avg_co2</th>\n",
       "      <th>seaice_extent</th>\n",
       "      <th>bear_rsf_mean</th>\n",
       "      <th>bear_rsf_var</th>\n",
       "    </tr>\n",
       "  </thead>\n",
       "  <tbody>\n",
       "    <tr>\n",
       "      <th>count</th>\n",
       "      <td>331.000000</td>\n",
       "      <td>331.000000</td>\n",
       "      <td>331.000000</td>\n",
       "      <td>331.000000</td>\n",
       "      <td>331.000000</td>\n",
       "      <td>331.000000</td>\n",
       "      <td>331.000000</td>\n",
       "      <td>331.000000</td>\n",
       "      <td>331.000000</td>\n",
       "      <td>331.000000</td>\n",
       "      <td>331.000000</td>\n",
       "    </tr>\n",
       "    <tr>\n",
       "      <th>mean</th>\n",
       "      <td>9.385082</td>\n",
       "      <td>15.100323</td>\n",
       "      <td>3.750175</td>\n",
       "      <td>15.712589</td>\n",
       "      <td>0.880915</td>\n",
       "      <td>0.782644</td>\n",
       "      <td>0.798637</td>\n",
       "      <td>372.225619</td>\n",
       "      <td>11.357481</td>\n",
       "      <td>15.851405</td>\n",
       "      <td>3.050767</td>\n",
       "    </tr>\n",
       "    <tr>\n",
       "      <th>std</th>\n",
       "      <td>4.121994</td>\n",
       "      <td>4.236401</td>\n",
       "      <td>3.995320</td>\n",
       "      <td>1.225211</td>\n",
       "      <td>0.496381</td>\n",
       "      <td>0.535807</td>\n",
       "      <td>0.511061</td>\n",
       "      <td>16.649756</td>\n",
       "      <td>3.220250</td>\n",
       "      <td>2.392539</td>\n",
       "      <td>1.089249</td>\n",
       "    </tr>\n",
       "    <tr>\n",
       "      <th>min</th>\n",
       "      <td>2.710000</td>\n",
       "      <td>8.095000</td>\n",
       "      <td>-2.768000</td>\n",
       "      <td>13.566000</td>\n",
       "      <td>-0.531000</td>\n",
       "      <td>-0.800000</td>\n",
       "      <td>-0.668000</td>\n",
       "      <td>343.130000</td>\n",
       "      <td>3.565600</td>\n",
       "      <td>6.093212</td>\n",
       "      <td>0.000000</td>\n",
       "    </tr>\n",
       "    <tr>\n",
       "      <th>25%</th>\n",
       "      <td>5.552000</td>\n",
       "      <td>11.217500</td>\n",
       "      <td>-0.155000</td>\n",
       "      <td>14.511000</td>\n",
       "      <td>0.583000</td>\n",
       "      <td>0.419000</td>\n",
       "      <td>0.450000</td>\n",
       "      <td>356.145000</td>\n",
       "      <td>8.513177</td>\n",
       "      <td>14.928223</td>\n",
       "      <td>2.430938</td>\n",
       "    </tr>\n",
       "    <tr>\n",
       "      <th>50%</th>\n",
       "      <td>9.618000</td>\n",
       "      <td>15.529000</td>\n",
       "      <td>3.987000</td>\n",
       "      <td>15.811000</td>\n",
       "      <td>0.902000</td>\n",
       "      <td>0.787000</td>\n",
       "      <td>0.791000</td>\n",
       "      <td>372.250000</td>\n",
       "      <td>12.016400</td>\n",
       "      <td>16.396830</td>\n",
       "      <td>2.959421</td>\n",
       "    </tr>\n",
       "    <tr>\n",
       "      <th>75%</th>\n",
       "      <td>13.443000</td>\n",
       "      <td>19.230500</td>\n",
       "      <td>7.743500</td>\n",
       "      <td>16.884000</td>\n",
       "      <td>1.182500</td>\n",
       "      <td>1.137500</td>\n",
       "      <td>1.116000</td>\n",
       "      <td>386.235000</td>\n",
       "      <td>14.326682</td>\n",
       "      <td>17.470912</td>\n",
       "      <td>3.635628</td>\n",
       "    </tr>\n",
       "    <tr>\n",
       "      <th>max</th>\n",
       "      <td>15.482000</td>\n",
       "      <td>21.320000</td>\n",
       "      <td>9.715000</td>\n",
       "      <td>17.611000</td>\n",
       "      <td>2.554000</td>\n",
       "      <td>2.465000</td>\n",
       "      <td>2.510000</td>\n",
       "      <td>403.960000</td>\n",
       "      <td>16.050143</td>\n",
       "      <td>20.000000</td>\n",
       "      <td>6.027518</td>\n",
       "    </tr>\n",
       "  </tbody>\n",
       "</table>\n",
       "</div>"
      ],
      "text/plain": [
       "       land_avg_temp  land_max_temp  land_min_temp  land_ocean_avg_temp  \\\n",
       "count     331.000000     331.000000     331.000000           331.000000   \n",
       "mean        9.385082      15.100323       3.750175            15.712589   \n",
       "std         4.121994       4.236401       3.995320             1.225211   \n",
       "min         2.710000       8.095000      -2.768000            13.566000   \n",
       "25%         5.552000      11.217500      -0.155000            14.511000   \n",
       "50%         9.618000      15.529000       3.987000            15.811000   \n",
       "75%        13.443000      19.230500       7.743500            16.884000   \n",
       "max        15.482000      21.320000       9.715000            17.611000   \n",
       "\n",
       "       north_min_temp_anomoly  north_max_temp_anomoly  \\\n",
       "count              331.000000              331.000000   \n",
       "mean                 0.880915                0.782644   \n",
       "std                  0.496381                0.535807   \n",
       "min                 -0.531000               -0.800000   \n",
       "25%                  0.583000                0.419000   \n",
       "50%                  0.902000                0.787000   \n",
       "75%                  1.182500                1.137500   \n",
       "max                  2.554000                2.465000   \n",
       "\n",
       "       north_mean_temp_anomoly  global_avg_co2  seaice_extent  bear_rsf_mean  \\\n",
       "count               331.000000      331.000000     331.000000     331.000000   \n",
       "mean                  0.798637      372.225619      11.357481      15.851405   \n",
       "std                   0.511061       16.649756       3.220250       2.392539   \n",
       "min                  -0.668000      343.130000       3.565600       6.093212   \n",
       "25%                   0.450000      356.145000       8.513177      14.928223   \n",
       "50%                   0.791000      372.250000      12.016400      16.396830   \n",
       "75%                   1.116000      386.235000      14.326682      17.470912   \n",
       "max                   2.510000      403.960000      16.050143      20.000000   \n",
       "\n",
       "       bear_rsf_var  \n",
       "count    331.000000  \n",
       "mean       3.050767  \n",
       "std        1.089249  \n",
       "min        0.000000  \n",
       "25%        2.430938  \n",
       "50%        2.959421  \n",
       "75%        3.635628  \n",
       "max        6.027518  "
      ]
     },
     "execution_count": 80,
     "metadata": {},
     "output_type": "execute_result"
    }
   ],
   "source": [
    "df2.describe()"
   ]
  },
  {
   "cell_type": "code",
   "execution_count": 81,
   "metadata": {},
   "outputs": [
    {
     "data": {
      "image/png": "[encoded data removed]",
      "text/plain": [
       "<Figure size 1080x720 with 9 Axes>"
      ]
     },
     "metadata": {},
     "output_type": "display_data"
    }
   ],
   "source": [
    "import seaborn as sns\n",
    "import pandas as pd\n",
    "numerical = ['land_avg_temp', 'land_max_temp', 'land_min_temp',\n",
    "       'land_ocean_avg_temp', 'north_min_temp_anomoly',\n",
    "       'north_max_temp_anomoly', 'north_mean_temp_anomoly', 'global_avg_co2',\n",
    "       'seaice_extent']\n",
    "X[numerical].hist(bins=30, figsize=(15, 10), layout=(3, 3));"
   ]
  },
  {
   "cell_type": "markdown",
   "metadata": {},
   "source": [
    "# Preprocessing the Data\n",
    "\n",
    "## Assign X(features) and y(target) data"
   ]
  },
  {
   "cell_type": "code",
   "execution_count": 85,
   "metadata": {},
   "outputs": [
    {
     "name": "stdout",
     "output_type": "stream",
     "text": [
      "(331, 9) (331, 1)\n"
     ]
    }
   ],
   "source": [
    "X = df2[['land_avg_temp', 'land_max_temp', 'land_min_temp',\n",
    "       'land_ocean_avg_temp', 'north_min_temp_anomoly',\n",
    "       'north_max_temp_anomoly', 'north_mean_temp_anomoly', 'global_avg_co2',\n",
    "       'seaice_extent']]\n",
    "y_rsf = df2[\"bear_rsf_mean\"].values.reshape(-1, 1)\n",
    "y_var = df2[\"bear_rsf_var\"].values.reshape(-1, 1)\n",
    "print(X.shape, y_rsf.shape)"
   ]
  },
  {
   "cell_type": "markdown",
   "metadata": {},
   "source": [
    "## Split the data into testing and training dataset"
   ]
  },
  {
   "cell_type": "code",
   "execution_count": 86,
   "metadata": {},
   "outputs": [],
   "source": [
    "from sklearn.model_selection import train_test_split\n",
    "X_train, X_test, y_rsf_train, y_rsf_test = train_test_split(X, y_rsf, test_size=0.2, random_state=42)\n",
    "X_train, X_test, y_var_train, y_var_test = train_test_split(X, y_var, test_size=0.2, random_state=42)"
   ]
  },
  {
   "cell_type": "markdown",
   "metadata": {},
   "source": [
    "## MinMaxScalar to fit and transform X features and y target"
   ]
  },
  {
   "cell_type": "code",
   "execution_count": 87,
   "metadata": {},
   "outputs": [],
   "source": [
    "#Fit Transform using MinMaxScalar for X features\n",
    "from sklearn.preprocessing import MinMaxScaler\n",
    "X_minmax = MinMaxScaler().fit(X_train)\n",
    "y_rsf_minmax = MinMaxScaler().fit(y_rsf_train)\n",
    "y_var_minmax = MinMaxScaler().fit(y_var_train)\n",
    "\n",
    "X_train_minmax = X_minmax.transform(X_train)\n",
    "X_test_minmax = X_minmax.transform(X_test)\n",
    "\n",
    "#Target value #1\n",
    "y_rsf_train_minmax = y_rsf_minmax.transform(y_rsf_train)\n",
    "y_rsf_test_minmax = y_rsf_minmax.transform(y_rsf_test)\n",
    "\n",
    "#Target value #2\n",
    "y_var_train_minmax = y_var_minmax.transform(y_var_train)\n",
    "y_var_test_minmax = y_var_minmax.transform(y_var_test)"
   ]
  },
  {
   "cell_type": "markdown",
   "metadata": {},
   "source": [
    "# Linear Regression Analysis\n",
    "\n",
    "## RSF"
   ]
  },
  {
   "cell_type": "code",
   "execution_count": 88,
   "metadata": {},
   "outputs": [
    {
     "data": {
      "text/plain": [
       "LinearRegression()"
      ]
     },
     "execution_count": 88,
     "metadata": {},
     "output_type": "execute_result"
    }
   ],
   "source": [
    "# Creat model and fit to scaled training data\n",
    "from sklearn.linear_model import LinearRegression\n",
    "model = LinearRegression()\n",
    "model.fit(X_train_minmax, y_rsf_train_minmax)"
   ]
  },
  {
   "cell_type": "code",
   "execution_count": 94,
   "metadata": {},
   "outputs": [
    {
     "data": {
      "image/png": "[encoded data removed]",
      "text/plain": [
       "<Figure size 576x360 with 1 Axes>"
      ]
     },
     "metadata": {},
     "output_type": "display_data"
    }
   ],
   "source": [
    "# Make Prediction using a FIT model and plot ==SEE BELOW FOR ALTERNATIVES==\n",
    "predictions = model.predict(X_test_minmax)\n",
    "model.fit(X_train_minmax, y_rsf_train_minmax)\n",
    "\n",
    "plt.scatter(model.predict(X_train_minmax), model.predict(X_train_minmax) - y_rsf_train_minmax, c=\"blue\", label=\"Training Data\")\n",
    "plt.scatter(model.predict(X_test_minmax), model.predict(X_test_minmax) - y_rsf_test_minmax, c=\"orange\", label=\"Testing Data\")\n",
    "plt.legend()\n",
    "plt.hlines(y=0, xmin=y_rsf_test_minmax.min(), xmax=y_rsf_test_minmax.max())\n",
    "plt.title(\"Residual Plot\")\n",
    "plt.show()"
   ]
  },
  {
   "cell_type": "markdown",
   "metadata": {},
   "source": [
    "## RSF variability"
   ]
  },
  {
   "cell_type": "code",
   "execution_count": 97,
   "metadata": {},
   "outputs": [
    {
     "data": {
      "text/plain": [
       "LinearRegression()"
      ]
     },
     "execution_count": 97,
     "metadata": {},
     "output_type": "execute_result"
    }
   ],
   "source": [
    "# Creat model and fit to scaled training data\n",
    "from sklearn.linear_model import LinearRegression\n",
    "model = LinearRegression()\n",
    "model.fit(X_train_minmax, y_var_train_minmax)"
   ]
  },
  {
   "cell_type": "code",
   "execution_count": 98,
   "metadata": {},
   "outputs": [
    {
     "data": {
      "image/png": "[encoded data removed]",
      "text/plain": [
       "<Figure size 576x360 with 1 Axes>"
      ]
     },
     "metadata": {},
     "output_type": "display_data"
    }
   ],
   "source": [
    "predictions = model.predict(X_test_minmax)\n",
    "model.fit(X_train_minmax, y_var_train_minmax)\n",
    "\n",
    "plt.scatter(model.predict(X_train_minmax), model.predict(X_train_minmax) - y_var_train_minmax, c=\"blue\", label=\"Training Data\")\n",
    "plt.scatter(model.predict(X_test_minmax), model.predict(X_test_minmax) - y_var_test_minmax, c=\"orange\", label=\"Testing Data\")\n",
    "plt.legend()\n",
    "plt.hlines(y=0, xmin=y_var_test_minmax.min(), xmax=y_var_test_minmax.max())\n",
    "plt.title(\"Residual Plot\")\n",
    "plt.show()"
   ]
  },
  {
   "cell_type": "code",
   "execution_count": 99,
   "metadata": {},
   "outputs": [
    {
     "name": "stdout",
     "output_type": "stream",
     "text": [
      "MSE: 0.03142772673578154, R2: 0.08579100406692552\n"
     ]
    }
   ],
   "source": [
    "# Validate the Model with MSE and R2\n",
    "from sklearn.metrics import mean_squared_error\n",
    "\n",
    "MSE = mean_squared_error(y_var_test_minmax, predictions)\n",
    "r2 = model.score(X_test_minmax, y_var_test_minmax)\n",
    "\n",
    "print(f\"MSE: {MSE}, R2: {r2}\")"
   ]
  },
  {
   "cell_type": "code",
   "execution_count": null,
   "metadata": {},
   "outputs": [],
   "source": []
  }
 ],
 "metadata": {
  "kernelspec": {
   "display_name": "Python [conda env:PythonAdv] *",
   "language": "python",
   "name": "conda-env-PythonAdv-py"
  },
  "language_info": {
   "codemirror_mode": {
    "name": "ipython",
    "version": 3
   },
   "file_extension": ".py",
   "mimetype": "text/x-python",
   "name": "python",
   "nbconvert_exporter": "python",
   "pygments_lexer": "ipython3",
   "version": "3.6.10"
  }
 },
 "nbformat": 4,
 "nbformat_minor": 4
}
