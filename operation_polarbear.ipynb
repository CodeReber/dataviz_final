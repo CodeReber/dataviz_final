{
 "cells": [
  {
   "cell_type": "code",
   "execution_count": 1,
   "metadata": {},
   "outputs": [
    {
     "name": "stdout",
     "output_type": "stream",
     "text": [
      "Requirement already up-to-date: sklearn in /opt/anaconda3/envs/PythonAdv/lib/python3.6/site-packages (0.0)\r\n",
      "Requirement already satisfied, skipping upgrade: scikit-learn in /opt/anaconda3/envs/PythonAdv/lib/python3.6/site-packages (from sklearn) (0.23.1)\r\n",
      "Requirement already satisfied, skipping upgrade: joblib>=0.11 in /opt/anaconda3/envs/PythonAdv/lib/python3.6/site-packages (from scikit-learn->sklearn) (0.15.1)\r\n",
      "Requirement already satisfied, skipping upgrade: scipy>=0.19.1 in /opt/anaconda3/envs/PythonAdv/lib/python3.6/site-packages (from scikit-learn->sklearn) (1.5.0)\r\n",
      "Requirement already satisfied, skipping upgrade: threadpoolctl>=2.0.0 in /opt/anaconda3/envs/PythonAdv/lib/python3.6/site-packages (from scikit-learn->sklearn) (2.1.0)\r\n",
      "Requirement already satisfied, skipping upgrade: numpy>=1.13.3 in /opt/anaconda3/envs/PythonAdv/lib/python3.6/site-packages (from scikit-learn->sklearn) (1.18.5)\r\n"
     ]
    }
   ],
   "source": [
    "# Update sklearn to prevent version mismatches\n",
    "!pip install sklearn --upgrade"
   ]
  },
  {
   "cell_type": "code",
   "execution_count": 2,
   "metadata": {},
   "outputs": [
    {
     "name": "stdout",
     "output_type": "stream",
     "text": [
      "Requirement already satisfied: joblib in /opt/anaconda3/envs/PythonAdv/lib/python3.6/site-packages (0.15.1)\r\n"
     ]
    }
   ],
   "source": [
    "# install joblib for saving\n",
    "# Restart kernel after installing \n",
    "!pip install joblib"
   ]
  },
  {
   "cell_type": "code",
   "execution_count": 98,
   "metadata": {},
   "outputs": [],
   "source": [
    "import pandas as pd\n",
    "import matplotlib.pyplot as plt\n",
    "import numpy as np\n",
    "from pprint import pprint"
   ]
  },
  {
   "cell_type": "code",
   "execution_count": 4,
   "metadata": {},
   "outputs": [],
   "source": [
    "df = pd.read_csv(\"data/ml_compile.csv\")"
   ]
  },
  {
   "cell_type": "code",
   "execution_count": 5,
   "metadata": {},
   "outputs": [
    {
     "data": {
      "text/plain": [
       "Index(['year_month', 'land_avg_temp', 'land_max_temp', 'land_min_temp',\n",
       "       'land_ocean_avg_temp', 'north_min_temp_anomoly',\n",
       "       'north_max_temp_anomoly', 'north_mean_temp_anomoly', 'global_avg_co2',\n",
       "       'seaice_extent', 'bear_rsf_mean', 'bear_rsf_var'],\n",
       "      dtype='object')"
      ]
     },
     "execution_count": 5,
     "metadata": {},
     "output_type": "execute_result"
    }
   ],
   "source": [
    "df.columns"
   ]
  },
  {
   "cell_type": "code",
   "execution_count": 9,
   "metadata": {
    "scrolled": true
   },
   "outputs": [
    {
     "data": {
      "text/html": [
       "<div>\n",
       "<style scoped>\n",
       "    .dataframe tbody tr th:only-of-type {\n",
       "        vertical-align: middle;\n",
       "    }\n",
       "\n",
       "    .dataframe tbody tr th {\n",
       "        vertical-align: top;\n",
       "    }\n",
       "\n",
       "    .dataframe thead th {\n",
       "        text-align: right;\n",
       "    }\n",
       "</style>\n",
       "<table border=\"1\" class=\"dataframe\">\n",
       "  <thead>\n",
       "    <tr style=\"text-align: right;\">\n",
       "      <th></th>\n",
       "      <th>year_month</th>\n",
       "      <th>land_avg_temp</th>\n",
       "      <th>land_max_temp</th>\n",
       "      <th>land_min_temp</th>\n",
       "      <th>land_ocean_avg_temp</th>\n",
       "      <th>north_min_temp_anomoly</th>\n",
       "      <th>north_max_temp_anomoly</th>\n",
       "      <th>north_mean_temp_anomoly</th>\n",
       "      <th>global_avg_co2</th>\n",
       "      <th>seaice_extent</th>\n",
       "      <th>bear_rsf_mean</th>\n",
       "      <th>bear_rsf_var</th>\n",
       "    </tr>\n",
       "  </thead>\n",
       "  <tbody>\n",
       "    <tr>\n",
       "      <th>0</th>\n",
       "      <td>1900-01</td>\n",
       "      <td>1.461</td>\n",
       "      <td>7.193</td>\n",
       "      <td>-4.102</td>\n",
       "      <td>13.142</td>\n",
       "      <td>-1.518</td>\n",
       "      <td>-1.265</td>\n",
       "      <td>-1.211</td>\n",
       "      <td>NaN</td>\n",
       "      <td>NaN</td>\n",
       "      <td>NaN</td>\n",
       "      <td>NaN</td>\n",
       "    </tr>\n",
       "    <tr>\n",
       "      <th>1</th>\n",
       "      <td>1900-02</td>\n",
       "      <td>3.098</td>\n",
       "      <td>9.181</td>\n",
       "      <td>-2.814</td>\n",
       "      <td>13.777</td>\n",
       "      <td>-0.312</td>\n",
       "      <td>-0.007</td>\n",
       "      <td>-0.054</td>\n",
       "      <td>NaN</td>\n",
       "      <td>NaN</td>\n",
       "      <td>NaN</td>\n",
       "      <td>NaN</td>\n",
       "    </tr>\n",
       "    <tr>\n",
       "      <th>2</th>\n",
       "      <td>1900-03</td>\n",
       "      <td>5.492</td>\n",
       "      <td>11.377</td>\n",
       "      <td>-0.680</td>\n",
       "      <td>14.400</td>\n",
       "      <td>-0.036</td>\n",
       "      <td>0.353</td>\n",
       "      <td>0.407</td>\n",
       "      <td>NaN</td>\n",
       "      <td>NaN</td>\n",
       "      <td>NaN</td>\n",
       "      <td>NaN</td>\n",
       "    </tr>\n",
       "    <tr>\n",
       "      <th>3</th>\n",
       "      <td>1900-04</td>\n",
       "      <td>8.223</td>\n",
       "      <td>13.972</td>\n",
       "      <td>2.131</td>\n",
       "      <td>15.170</td>\n",
       "      <td>-0.531</td>\n",
       "      <td>-0.343</td>\n",
       "      <td>-0.077</td>\n",
       "      <td>NaN</td>\n",
       "      <td>NaN</td>\n",
       "      <td>NaN</td>\n",
       "      <td>NaN</td>\n",
       "    </tr>\n",
       "    <tr>\n",
       "      <th>4</th>\n",
       "      <td>1900-05</td>\n",
       "      <td>11.385</td>\n",
       "      <td>17.415</td>\n",
       "      <td>5.179</td>\n",
       "      <td>15.955</td>\n",
       "      <td>-0.233</td>\n",
       "      <td>0.416</td>\n",
       "      <td>0.375</td>\n",
       "      <td>NaN</td>\n",
       "      <td>NaN</td>\n",
       "      <td>NaN</td>\n",
       "      <td>NaN</td>\n",
       "    </tr>\n",
       "  </tbody>\n",
       "</table>\n",
       "</div>"
      ],
      "text/plain": [
       "  year_month  land_avg_temp  land_max_temp  land_min_temp  \\\n",
       "0    1900-01          1.461          7.193         -4.102   \n",
       "1    1900-02          3.098          9.181         -2.814   \n",
       "2    1900-03          5.492         11.377         -0.680   \n",
       "3    1900-04          8.223         13.972          2.131   \n",
       "4    1900-05         11.385         17.415          5.179   \n",
       "\n",
       "   land_ocean_avg_temp  north_min_temp_anomoly  north_max_temp_anomoly  \\\n",
       "0               13.142                  -1.518                  -1.265   \n",
       "1               13.777                  -0.312                  -0.007   \n",
       "2               14.400                  -0.036                   0.353   \n",
       "3               15.170                  -0.531                  -0.343   \n",
       "4               15.955                  -0.233                   0.416   \n",
       "\n",
       "   north_mean_temp_anomoly  global_avg_co2  seaice_extent  bear_rsf_mean  \\\n",
       "0                   -1.211             NaN            NaN            NaN   \n",
       "1                   -0.054             NaN            NaN            NaN   \n",
       "2                    0.407             NaN            NaN            NaN   \n",
       "3                   -0.077             NaN            NaN            NaN   \n",
       "4                    0.375             NaN            NaN            NaN   \n",
       "\n",
       "   bear_rsf_var  \n",
       "0           NaN  \n",
       "1           NaN  \n",
       "2           NaN  \n",
       "3           NaN  \n",
       "4           NaN  "
      ]
     },
     "execution_count": 9,
     "metadata": {},
     "output_type": "execute_result"
    }
   ],
   "source": [
    "df.head()"
   ]
  },
  {
   "cell_type": "code",
   "execution_count": 7,
   "metadata": {
    "scrolled": true
   },
   "outputs": [],
   "source": [
    "#Change Threshold to 9\n",
    "df_drop_null = df.dropna(axis=0)"
   ]
  },
  {
   "cell_type": "code",
   "execution_count": 10,
   "metadata": {},
   "outputs": [
    {
     "data": {
      "text/html": [
       "<div>\n",
       "<style scoped>\n",
       "    .dataframe tbody tr th:only-of-type {\n",
       "        vertical-align: middle;\n",
       "    }\n",
       "\n",
       "    .dataframe tbody tr th {\n",
       "        vertical-align: top;\n",
       "    }\n",
       "\n",
       "    .dataframe thead th {\n",
       "        text-align: right;\n",
       "    }\n",
       "</style>\n",
       "<table border=\"1\" class=\"dataframe\">\n",
       "  <thead>\n",
       "    <tr style=\"text-align: right;\">\n",
       "      <th></th>\n",
       "      <th>land_avg_temp</th>\n",
       "      <th>land_max_temp</th>\n",
       "      <th>land_min_temp</th>\n",
       "      <th>land_ocean_avg_temp</th>\n",
       "      <th>north_min_temp_anomoly</th>\n",
       "      <th>north_max_temp_anomoly</th>\n",
       "      <th>north_mean_temp_anomoly</th>\n",
       "      <th>global_avg_co2</th>\n",
       "      <th>seaice_extent</th>\n",
       "      <th>bear_rsf_mean</th>\n",
       "      <th>bear_rsf_var</th>\n",
       "    </tr>\n",
       "  </thead>\n",
       "  <tbody>\n",
       "    <tr>\n",
       "      <th>count</th>\n",
       "      <td>331.000000</td>\n",
       "      <td>331.000000</td>\n",
       "      <td>331.000000</td>\n",
       "      <td>331.000000</td>\n",
       "      <td>331.000000</td>\n",
       "      <td>331.000000</td>\n",
       "      <td>331.000000</td>\n",
       "      <td>331.000000</td>\n",
       "      <td>331.000000</td>\n",
       "      <td>331.000000</td>\n",
       "      <td>331.000000</td>\n",
       "    </tr>\n",
       "    <tr>\n",
       "      <th>mean</th>\n",
       "      <td>9.385082</td>\n",
       "      <td>15.100323</td>\n",
       "      <td>3.750175</td>\n",
       "      <td>15.712589</td>\n",
       "      <td>0.880915</td>\n",
       "      <td>0.782644</td>\n",
       "      <td>0.798637</td>\n",
       "      <td>372.225619</td>\n",
       "      <td>11.357481</td>\n",
       "      <td>15.851405</td>\n",
       "      <td>3.050767</td>\n",
       "    </tr>\n",
       "    <tr>\n",
       "      <th>std</th>\n",
       "      <td>4.121994</td>\n",
       "      <td>4.236401</td>\n",
       "      <td>3.995320</td>\n",
       "      <td>1.225211</td>\n",
       "      <td>0.496381</td>\n",
       "      <td>0.535807</td>\n",
       "      <td>0.511061</td>\n",
       "      <td>16.649756</td>\n",
       "      <td>3.220250</td>\n",
       "      <td>2.392539</td>\n",
       "      <td>1.089249</td>\n",
       "    </tr>\n",
       "    <tr>\n",
       "      <th>min</th>\n",
       "      <td>2.710000</td>\n",
       "      <td>8.095000</td>\n",
       "      <td>-2.768000</td>\n",
       "      <td>13.566000</td>\n",
       "      <td>-0.531000</td>\n",
       "      <td>-0.800000</td>\n",
       "      <td>-0.668000</td>\n",
       "      <td>343.130000</td>\n",
       "      <td>3.565600</td>\n",
       "      <td>6.093212</td>\n",
       "      <td>0.000000</td>\n",
       "    </tr>\n",
       "    <tr>\n",
       "      <th>25%</th>\n",
       "      <td>5.552000</td>\n",
       "      <td>11.217500</td>\n",
       "      <td>-0.155000</td>\n",
       "      <td>14.511000</td>\n",
       "      <td>0.583000</td>\n",
       "      <td>0.419000</td>\n",
       "      <td>0.450000</td>\n",
       "      <td>356.145000</td>\n",
       "      <td>8.513177</td>\n",
       "      <td>14.928223</td>\n",
       "      <td>2.430938</td>\n",
       "    </tr>\n",
       "    <tr>\n",
       "      <th>50%</th>\n",
       "      <td>9.618000</td>\n",
       "      <td>15.529000</td>\n",
       "      <td>3.987000</td>\n",
       "      <td>15.811000</td>\n",
       "      <td>0.902000</td>\n",
       "      <td>0.787000</td>\n",
       "      <td>0.791000</td>\n",
       "      <td>372.250000</td>\n",
       "      <td>12.016400</td>\n",
       "      <td>16.396830</td>\n",
       "      <td>2.959421</td>\n",
       "    </tr>\n",
       "    <tr>\n",
       "      <th>75%</th>\n",
       "      <td>13.443000</td>\n",
       "      <td>19.230500</td>\n",
       "      <td>7.743500</td>\n",
       "      <td>16.884000</td>\n",
       "      <td>1.182500</td>\n",
       "      <td>1.137500</td>\n",
       "      <td>1.116000</td>\n",
       "      <td>386.235000</td>\n",
       "      <td>14.326682</td>\n",
       "      <td>17.470912</td>\n",
       "      <td>3.635628</td>\n",
       "    </tr>\n",
       "    <tr>\n",
       "      <th>max</th>\n",
       "      <td>15.482000</td>\n",
       "      <td>21.320000</td>\n",
       "      <td>9.715000</td>\n",
       "      <td>17.611000</td>\n",
       "      <td>2.554000</td>\n",
       "      <td>2.465000</td>\n",
       "      <td>2.510000</td>\n",
       "      <td>403.960000</td>\n",
       "      <td>16.050143</td>\n",
       "      <td>20.000000</td>\n",
       "      <td>6.027518</td>\n",
       "    </tr>\n",
       "  </tbody>\n",
       "</table>\n",
       "</div>"
      ],
      "text/plain": [
       "       land_avg_temp  land_max_temp  land_min_temp  land_ocean_avg_temp  \\\n",
       "count     331.000000     331.000000     331.000000           331.000000   \n",
       "mean        9.385082      15.100323       3.750175            15.712589   \n",
       "std         4.121994       4.236401       3.995320             1.225211   \n",
       "min         2.710000       8.095000      -2.768000            13.566000   \n",
       "25%         5.552000      11.217500      -0.155000            14.511000   \n",
       "50%         9.618000      15.529000       3.987000            15.811000   \n",
       "75%        13.443000      19.230500       7.743500            16.884000   \n",
       "max        15.482000      21.320000       9.715000            17.611000   \n",
       "\n",
       "       north_min_temp_anomoly  north_max_temp_anomoly  \\\n",
       "count              331.000000              331.000000   \n",
       "mean                 0.880915                0.782644   \n",
       "std                  0.496381                0.535807   \n",
       "min                 -0.531000               -0.800000   \n",
       "25%                  0.583000                0.419000   \n",
       "50%                  0.902000                0.787000   \n",
       "75%                  1.182500                1.137500   \n",
       "max                  2.554000                2.465000   \n",
       "\n",
       "       north_mean_temp_anomoly  global_avg_co2  seaice_extent  bear_rsf_mean  \\\n",
       "count               331.000000      331.000000     331.000000     331.000000   \n",
       "mean                  0.798637      372.225619      11.357481      15.851405   \n",
       "std                   0.511061       16.649756       3.220250       2.392539   \n",
       "min                  -0.668000      343.130000       3.565600       6.093212   \n",
       "25%                   0.450000      356.145000       8.513177      14.928223   \n",
       "50%                   0.791000      372.250000      12.016400      16.396830   \n",
       "75%                   1.116000      386.235000      14.326682      17.470912   \n",
       "max                   2.510000      403.960000      16.050143      20.000000   \n",
       "\n",
       "       bear_rsf_var  \n",
       "count    331.000000  \n",
       "mean       3.050767  \n",
       "std        1.089249  \n",
       "min        0.000000  \n",
       "25%        2.430938  \n",
       "50%        2.959421  \n",
       "75%        3.635628  \n",
       "max        6.027518  "
      ]
     },
     "execution_count": 10,
     "metadata": {},
     "output_type": "execute_result"
    }
   ],
   "source": [
    "df_drop_null.describe()"
   ]
  },
  {
   "cell_type": "code",
   "execution_count": 11,
   "metadata": {},
   "outputs": [
    {
     "data": {
      "image/png": "[encoded data removed]",
      "text/plain": [
       "<Figure size 1080x720 with 9 Axes>"
      ]
     },
     "metadata": {
      "needs_background": "light"
     },
     "output_type": "display_data"
    }
   ],
   "source": [
    "import seaborn as sns\n",
    "import pandas as pd\n",
    "numerical = ['land_avg_temp', 'land_max_temp', 'land_min_temp',\n",
    "       'land_ocean_avg_temp', 'north_min_temp_anomoly',\n",
    "       'north_max_temp_anomoly', 'north_mean_temp_anomoly', 'global_avg_co2',\n",
    "       'seaice_extent']\n",
    "df_drop_null[numerical].hist(bins=30, figsize=(15, 10), layout=(3, 3));"
   ]
  },
  {
   "cell_type": "markdown",
   "metadata": {},
   "source": [
    "# Preprocessing the Data\n",
    "\n",
    "## Assign X(features) and y(target) data"
   ]
  },
  {
   "cell_type": "code",
   "execution_count": 12,
   "metadata": {},
   "outputs": [
    {
     "name": "stdout",
     "output_type": "stream",
     "text": [
      "(331, 9) (331, 1)\n"
     ]
    }
   ],
   "source": [
    "X = df_drop_null[['land_avg_temp', 'land_max_temp', 'land_min_temp',\n",
    "       'land_ocean_avg_temp', 'north_min_temp_anomoly',\n",
    "       'north_max_temp_anomoly', 'north_mean_temp_anomoly', 'global_avg_co2',\n",
    "       'seaice_extent']]\n",
    "y_rsf = df_drop_null[\"bear_rsf_mean\"].values.reshape(-1, 1)\n",
    "y_var = df_drop_null[\"bear_rsf_var\"].values.reshape(-1, 1)\n",
    "print(X.shape, y_rsf.shape)"
   ]
  },
  {
   "cell_type": "markdown",
   "metadata": {},
   "source": [
    "## Split the data into testing and training dataset"
   ]
  },
  {
   "cell_type": "code",
   "execution_count": 13,
   "metadata": {},
   "outputs": [],
   "source": [
    "from sklearn.model_selection import train_test_split\n",
    "X_train, X_test, y_rsf_train, y_rsf_test = train_test_split(X, y_rsf, test_size=0.2, random_state=42)\n",
    "X_train, X_test, y_var_train, y_var_test = train_test_split(X, y_var, test_size=0.2, random_state=42)"
   ]
  },
  {
   "cell_type": "markdown",
   "metadata": {},
   "source": [
    "## MinMaxScalar to fit and transform X features and y target"
   ]
  },
  {
   "cell_type": "code",
   "execution_count": 14,
   "metadata": {},
   "outputs": [],
   "source": [
    "#Fit Transform using MinMaxScalar for X features\n",
    "from sklearn.preprocessing import MinMaxScaler\n",
    "X_minmax = MinMaxScaler().fit(X_train)\n",
    "y_rsf_minmax = MinMaxScaler().fit(y_rsf_train)\n",
    "y_var_minmax = MinMaxScaler().fit(y_var_train)\n",
    "\n",
    "X_train_minmax = X_minmax.transform(X_train)\n",
    "X_test_minmax = X_minmax.transform(X_test)\n",
    "\n",
    "#Target value #1\n",
    "y_rsf_train_minmax = y_rsf_minmax.transform(y_rsf_train)\n",
    "y_rsf_test_minmax = y_rsf_minmax.transform(y_rsf_test)\n",
    "\n",
    "#Target value #2\n",
    "y_var_train_minmax = y_var_minmax.transform(y_var_train)\n",
    "y_var_test_minmax = y_var_minmax.transform(y_var_test)"
   ]
  },
  {
   "cell_type": "markdown",
   "metadata": {},
   "source": [
    "# Linear Regression Analysis\n",
    "\n",
    "## RSF"
   ]
  },
  {
   "cell_type": "code",
   "execution_count": 15,
   "metadata": {},
   "outputs": [
    {
     "data": {
      "text/plain": [
       "LinearRegression()"
      ]
     },
     "execution_count": 15,
     "metadata": {},
     "output_type": "execute_result"
    }
   ],
   "source": [
    "# Creat model and fit to scaled training data\n",
    "from sklearn.linear_model import LinearRegression\n",
    "model = LinearRegression()\n",
    "model.fit(X_train_minmax, y_rsf_train_minmax)"
   ]
  },
  {
   "cell_type": "code",
   "execution_count": 16,
   "metadata": {},
   "outputs": [
    {
     "data": {
      "image/png": "[encoded data removed]",
      "text/plain": [
       "<Figure size 432x288 with 1 Axes>"
      ]
     },
     "metadata": {
      "needs_background": "light"
     },
     "output_type": "display_data"
    }
   ],
   "source": [
    "# Make Prediction using a FIT model and plot ==SEE BELOW FOR ALTERNATIVES==\n",
    "predictions = model.predict(X_test_minmax)\n",
    "model.fit(X_train_minmax, y_rsf_train_minmax)\n",
    "\n",
    "plt.scatter(model.predict(X_train_minmax), model.predict(X_train_minmax) - y_rsf_train_minmax, c=\"blue\", label=\"Training Data\")\n",
    "plt.scatter(model.predict(X_test_minmax), model.predict(X_test_minmax) - y_rsf_test_minmax, c=\"orange\", label=\"Testing Data\")\n",
    "plt.legend()\n",
    "plt.hlines(y=0, xmin=y_rsf_test_minmax.min(), xmax=y_rsf_test_minmax.max())\n",
    "plt.title(\"Residual Plot\")\n",
    "plt.show()"
   ]
  },
  {
   "cell_type": "code",
   "execution_count": 17,
   "metadata": {},
   "outputs": [
    {
     "name": "stdout",
     "output_type": "stream",
     "text": [
      "MSE: 0.021368190908656506, R2: 0.37455271251727373\n"
     ]
    }
   ],
   "source": [
    "# Validate the Model with MSE and R2\n",
    "from sklearn.metrics import mean_squared_error\n",
    "\n",
    "MSE = mean_squared_error(y_rsf_test_minmax, predictions)\n",
    "r2 = model.score(X_test_minmax, y_rsf_test_minmax)\n",
    "\n",
    "print(f\"MSE: {MSE}, R2: {r2}\")"
   ]
  },
  {
   "cell_type": "markdown",
   "metadata": {},
   "source": [
    "## RSF variability"
   ]
  },
  {
   "cell_type": "code",
   "execution_count": 18,
   "metadata": {},
   "outputs": [
    {
     "data": {
      "text/plain": [
       "LinearRegression()"
      ]
     },
     "execution_count": 18,
     "metadata": {},
     "output_type": "execute_result"
    }
   ],
   "source": [
    "# Creat model and fit to scaled training data\n",
    "from sklearn.linear_model import LinearRegression\n",
    "model = LinearRegression()\n",
    "model.fit(X_train_minmax, y_var_train_minmax)"
   ]
  },
  {
   "cell_type": "code",
   "execution_count": 19,
   "metadata": {},
   "outputs": [
    {
     "data": {
      "image/png": "[encoded data removed]",
      "text/plain": [
       "<Figure size 432x288 with 1 Axes>"
      ]
     },
     "metadata": {
      "needs_background": "light"
     },
     "output_type": "display_data"
    }
   ],
   "source": [
    "predictions = model.predict(X_test_minmax)\n",
    "model.fit(X_train_minmax, y_var_train_minmax)\n",
    "\n",
    "plt.scatter(model.predict(X_train_minmax), model.predict(X_train_minmax) - y_var_train_minmax, c=\"blue\", label=\"Training Data\")\n",
    "plt.scatter(model.predict(X_test_minmax), model.predict(X_test_minmax) - y_var_test_minmax, c=\"orange\", label=\"Testing Data\")\n",
    "plt.legend()\n",
    "plt.hlines(y=0, xmin=y_var_test_minmax.min(), xmax=y_var_test_minmax.max())\n",
    "plt.title(\"Residual Plot\")\n",
    "plt.show()"
   ]
  },
  {
   "cell_type": "code",
   "execution_count": 20,
   "metadata": {},
   "outputs": [
    {
     "name": "stdout",
     "output_type": "stream",
     "text": [
      "MSE: 0.03142772673578154, R2: 0.08579100406692552\n"
     ]
    }
   ],
   "source": [
    "# Validate the Model with MSE and R2\n",
    "from sklearn.metrics import mean_squared_error\n",
    "\n",
    "MSE = mean_squared_error(y_var_test_minmax, predictions)\n",
    "r2 = model.score(X_test_minmax, y_var_test_minmax)\n",
    "\n",
    "print(f\"MSE: {MSE}, R2: {r2}\")"
   ]
  },
  {
   "cell_type": "markdown",
   "metadata": {},
   "source": [
    "## Preprocessing - Transform RSF values to Categorical"
   ]
  },
  {
   "cell_type": "code",
   "execution_count": 42,
   "metadata": {},
   "outputs": [],
   "source": [
    "df[\"bear_rsf_mean\"].fillna(0, inplace=True)"
   ]
  },
  {
   "cell_type": "code",
   "execution_count": 43,
   "metadata": {},
   "outputs": [],
   "source": [
    "conditions = [(df[\"bear_rsf_mean\"] < 6), (df[\"bear_rsf_mean\"] > 6) & (df[\"bear_rsf_mean\"] < 10), (df[\"bear_rsf_mean\"] > 10) & (df[\"bear_rsf_mean\"] < 15), (df[\"bear_rsf_mean\"]>15)]\n",
    "values = ['unknown','low', 'mid', 'high']\n",
    "df[\"bear_mean_cat\"] = np.select(conditions,values)"
   ]
  },
  {
   "cell_type": "code",
   "execution_count": 44,
   "metadata": {},
   "outputs": [
    {
     "data": {
      "text/html": [
       "<div>\n",
       "<style scoped>\n",
       "    .dataframe tbody tr th:only-of-type {\n",
       "        vertical-align: middle;\n",
       "    }\n",
       "\n",
       "    .dataframe tbody tr th {\n",
       "        vertical-align: top;\n",
       "    }\n",
       "\n",
       "    .dataframe thead th {\n",
       "        text-align: right;\n",
       "    }\n",
       "</style>\n",
       "<table border=\"1\" class=\"dataframe\">\n",
       "  <thead>\n",
       "    <tr style=\"text-align: right;\">\n",
       "      <th></th>\n",
       "      <th>year_month</th>\n",
       "      <th>land_avg_temp</th>\n",
       "      <th>land_max_temp</th>\n",
       "      <th>land_min_temp</th>\n",
       "      <th>land_ocean_avg_temp</th>\n",
       "      <th>north_min_temp_anomoly</th>\n",
       "      <th>north_max_temp_anomoly</th>\n",
       "      <th>north_mean_temp_anomoly</th>\n",
       "      <th>global_avg_co2</th>\n",
       "      <th>seaice_extent</th>\n",
       "      <th>bear_rsf_mean</th>\n",
       "      <th>bear_rsf_var</th>\n",
       "      <th>bear_mean_cat</th>\n",
       "    </tr>\n",
       "  </thead>\n",
       "  <tbody>\n",
       "    <tr>\n",
       "      <th>0</th>\n",
       "      <td>1900-01</td>\n",
       "      <td>1.461</td>\n",
       "      <td>7.193</td>\n",
       "      <td>-4.102</td>\n",
       "      <td>13.142</td>\n",
       "      <td>-1.518</td>\n",
       "      <td>-1.265</td>\n",
       "      <td>-1.211</td>\n",
       "      <td>NaN</td>\n",
       "      <td>NaN</td>\n",
       "      <td>0.0</td>\n",
       "      <td>NaN</td>\n",
       "      <td>unknown</td>\n",
       "    </tr>\n",
       "    <tr>\n",
       "      <th>1</th>\n",
       "      <td>1900-02</td>\n",
       "      <td>3.098</td>\n",
       "      <td>9.181</td>\n",
       "      <td>-2.814</td>\n",
       "      <td>13.777</td>\n",
       "      <td>-0.312</td>\n",
       "      <td>-0.007</td>\n",
       "      <td>-0.054</td>\n",
       "      <td>NaN</td>\n",
       "      <td>NaN</td>\n",
       "      <td>0.0</td>\n",
       "      <td>NaN</td>\n",
       "      <td>unknown</td>\n",
       "    </tr>\n",
       "    <tr>\n",
       "      <th>2</th>\n",
       "      <td>1900-03</td>\n",
       "      <td>5.492</td>\n",
       "      <td>11.377</td>\n",
       "      <td>-0.680</td>\n",
       "      <td>14.400</td>\n",
       "      <td>-0.036</td>\n",
       "      <td>0.353</td>\n",
       "      <td>0.407</td>\n",
       "      <td>NaN</td>\n",
       "      <td>NaN</td>\n",
       "      <td>0.0</td>\n",
       "      <td>NaN</td>\n",
       "      <td>unknown</td>\n",
       "    </tr>\n",
       "    <tr>\n",
       "      <th>3</th>\n",
       "      <td>1900-04</td>\n",
       "      <td>8.223</td>\n",
       "      <td>13.972</td>\n",
       "      <td>2.131</td>\n",
       "      <td>15.170</td>\n",
       "      <td>-0.531</td>\n",
       "      <td>-0.343</td>\n",
       "      <td>-0.077</td>\n",
       "      <td>NaN</td>\n",
       "      <td>NaN</td>\n",
       "      <td>0.0</td>\n",
       "      <td>NaN</td>\n",
       "      <td>unknown</td>\n",
       "    </tr>\n",
       "    <tr>\n",
       "      <th>4</th>\n",
       "      <td>1900-05</td>\n",
       "      <td>11.385</td>\n",
       "      <td>17.415</td>\n",
       "      <td>5.179</td>\n",
       "      <td>15.955</td>\n",
       "      <td>-0.233</td>\n",
       "      <td>0.416</td>\n",
       "      <td>0.375</td>\n",
       "      <td>NaN</td>\n",
       "      <td>NaN</td>\n",
       "      <td>0.0</td>\n",
       "      <td>NaN</td>\n",
       "      <td>unknown</td>\n",
       "    </tr>\n",
       "  </tbody>\n",
       "</table>\n",
       "</div>"
      ],
      "text/plain": [
       "  year_month  land_avg_temp  land_max_temp  land_min_temp  \\\n",
       "0    1900-01          1.461          7.193         -4.102   \n",
       "1    1900-02          3.098          9.181         -2.814   \n",
       "2    1900-03          5.492         11.377         -0.680   \n",
       "3    1900-04          8.223         13.972          2.131   \n",
       "4    1900-05         11.385         17.415          5.179   \n",
       "\n",
       "   land_ocean_avg_temp  north_min_temp_anomoly  north_max_temp_anomoly  \\\n",
       "0               13.142                  -1.518                  -1.265   \n",
       "1               13.777                  -0.312                  -0.007   \n",
       "2               14.400                  -0.036                   0.353   \n",
       "3               15.170                  -0.531                  -0.343   \n",
       "4               15.955                  -0.233                   0.416   \n",
       "\n",
       "   north_mean_temp_anomoly  global_avg_co2  seaice_extent  bear_rsf_mean  \\\n",
       "0                   -1.211             NaN            NaN            0.0   \n",
       "1                   -0.054             NaN            NaN            0.0   \n",
       "2                    0.407             NaN            NaN            0.0   \n",
       "3                   -0.077             NaN            NaN            0.0   \n",
       "4                    0.375             NaN            NaN            0.0   \n",
       "\n",
       "   bear_rsf_var bear_mean_cat  \n",
       "0           NaN       unknown  \n",
       "1           NaN       unknown  \n",
       "2           NaN       unknown  \n",
       "3           NaN       unknown  \n",
       "4           NaN       unknown  "
      ]
     },
     "execution_count": 44,
     "metadata": {},
     "output_type": "execute_result"
    }
   ],
   "source": [
    "df.head()"
   ]
  },
  {
   "cell_type": "code",
   "execution_count": 45,
   "metadata": {},
   "outputs": [
    {
     "data": {
      "text/plain": [
       "array(['unknown', 'high', 'mid', 'low'], dtype=object)"
      ]
     },
     "execution_count": 45,
     "metadata": {},
     "output_type": "execute_result"
    }
   ],
   "source": [
    "df[\"bear_mean_cat\"].unique()"
   ]
  },
  {
   "cell_type": "code",
   "execution_count": 54,
   "metadata": {},
   "outputs": [],
   "source": [
    "#Change Threshold to 9\n",
    "df_cat_null = df [['land_avg_temp', 'land_max_temp', 'land_min_temp',\n",
    "       'land_ocean_avg_temp', 'north_min_temp_anomoly',\n",
    "       'north_max_temp_anomoly', 'north_mean_temp_anomoly', 'global_avg_co2',\n",
    "       'seaice_extent','bear_mean_cat']]"
   ]
  },
  {
   "cell_type": "code",
   "execution_count": 57,
   "metadata": {},
   "outputs": [],
   "source": [
    "df_cat_null = df_cat_null.dropna(axis=0, how=\"any\")"
   ]
  },
  {
   "cell_type": "code",
   "execution_count": 58,
   "metadata": {},
   "outputs": [
    {
     "data": {
      "text/html": [
       "<div>\n",
       "<style scoped>\n",
       "    .dataframe tbody tr th:only-of-type {\n",
       "        vertical-align: middle;\n",
       "    }\n",
       "\n",
       "    .dataframe tbody tr th {\n",
       "        vertical-align: top;\n",
       "    }\n",
       "\n",
       "    .dataframe thead th {\n",
       "        text-align: right;\n",
       "    }\n",
       "</style>\n",
       "<table border=\"1\" class=\"dataframe\">\n",
       "  <thead>\n",
       "    <tr style=\"text-align: right;\">\n",
       "      <th></th>\n",
       "      <th>land_avg_temp</th>\n",
       "      <th>land_max_temp</th>\n",
       "      <th>land_min_temp</th>\n",
       "      <th>land_ocean_avg_temp</th>\n",
       "      <th>north_min_temp_anomoly</th>\n",
       "      <th>north_max_temp_anomoly</th>\n",
       "      <th>north_mean_temp_anomoly</th>\n",
       "      <th>global_avg_co2</th>\n",
       "      <th>seaice_extent</th>\n",
       "    </tr>\n",
       "  </thead>\n",
       "  <tbody>\n",
       "    <tr>\n",
       "      <th>count</th>\n",
       "      <td>447.000000</td>\n",
       "      <td>447.000000</td>\n",
       "      <td>447.000000</td>\n",
       "      <td>447.000000</td>\n",
       "      <td>447.000000</td>\n",
       "      <td>447.000000</td>\n",
       "      <td>447.000000</td>\n",
       "      <td>447.000000</td>\n",
       "      <td>447.000000</td>\n",
       "    </tr>\n",
       "    <tr>\n",
       "      <th>mean</th>\n",
       "      <td>9.226651</td>\n",
       "      <td>14.930488</td>\n",
       "      <td>3.615477</td>\n",
       "      <td>15.641613</td>\n",
       "      <td>0.775022</td>\n",
       "      <td>0.659465</td>\n",
       "      <td>0.686273</td>\n",
       "      <td>366.108054</td>\n",
       "      <td>11.559153</td>\n",
       "    </tr>\n",
       "    <tr>\n",
       "      <th>std</th>\n",
       "      <td>4.134906</td>\n",
       "      <td>4.249913</td>\n",
       "      <td>4.010169</td>\n",
       "      <td>1.229699</td>\n",
       "      <td>0.528649</td>\n",
       "      <td>0.567605</td>\n",
       "      <td>0.540999</td>\n",
       "      <td>18.908570</td>\n",
       "      <td>3.185538</td>\n",
       "    </tr>\n",
       "    <tr>\n",
       "      <th>min</th>\n",
       "      <td>2.558000</td>\n",
       "      <td>8.071000</td>\n",
       "      <td>-2.853000</td>\n",
       "      <td>13.566000</td>\n",
       "      <td>-0.787000</td>\n",
       "      <td>-1.256000</td>\n",
       "      <td>-1.065000</td>\n",
       "      <td>332.410000</td>\n",
       "      <td>3.565600</td>\n",
       "    </tr>\n",
       "    <tr>\n",
       "      <th>25%</th>\n",
       "      <td>5.189000</td>\n",
       "      <td>10.696000</td>\n",
       "      <td>-0.308000</td>\n",
       "      <td>14.441000</td>\n",
       "      <td>0.413500</td>\n",
       "      <td>0.253000</td>\n",
       "      <td>0.289000</td>\n",
       "      <td>350.320000</td>\n",
       "      <td>8.842585</td>\n",
       "    </tr>\n",
       "    <tr>\n",
       "      <th>50%</th>\n",
       "      <td>9.394000</td>\n",
       "      <td>15.174000</td>\n",
       "      <td>3.759000</td>\n",
       "      <td>15.683000</td>\n",
       "      <td>0.766000</td>\n",
       "      <td>0.653000</td>\n",
       "      <td>0.671000</td>\n",
       "      <td>364.310000</td>\n",
       "      <td>12.199871</td>\n",
       "    </tr>\n",
       "    <tr>\n",
       "      <th>75%</th>\n",
       "      <td>13.185500</td>\n",
       "      <td>19.062000</td>\n",
       "      <td>7.447000</td>\n",
       "      <td>16.801500</td>\n",
       "      <td>1.101500</td>\n",
       "      <td>1.037000</td>\n",
       "      <td>1.029500</td>\n",
       "      <td>382.250000</td>\n",
       "      <td>14.409063</td>\n",
       "    </tr>\n",
       "    <tr>\n",
       "      <th>max</th>\n",
       "      <td>15.482000</td>\n",
       "      <td>21.320000</td>\n",
       "      <td>9.715000</td>\n",
       "      <td>17.611000</td>\n",
       "      <td>2.554000</td>\n",
       "      <td>2.465000</td>\n",
       "      <td>2.510000</td>\n",
       "      <td>403.960000</td>\n",
       "      <td>16.341938</td>\n",
       "    </tr>\n",
       "  </tbody>\n",
       "</table>\n",
       "</div>"
      ],
      "text/plain": [
       "       land_avg_temp  land_max_temp  land_min_temp  land_ocean_avg_temp  \\\n",
       "count     447.000000     447.000000     447.000000           447.000000   \n",
       "mean        9.226651      14.930488       3.615477            15.641613   \n",
       "std         4.134906       4.249913       4.010169             1.229699   \n",
       "min         2.558000       8.071000      -2.853000            13.566000   \n",
       "25%         5.189000      10.696000      -0.308000            14.441000   \n",
       "50%         9.394000      15.174000       3.759000            15.683000   \n",
       "75%        13.185500      19.062000       7.447000            16.801500   \n",
       "max        15.482000      21.320000       9.715000            17.611000   \n",
       "\n",
       "       north_min_temp_anomoly  north_max_temp_anomoly  \\\n",
       "count              447.000000              447.000000   \n",
       "mean                 0.775022                0.659465   \n",
       "std                  0.528649                0.567605   \n",
       "min                 -0.787000               -1.256000   \n",
       "25%                  0.413500                0.253000   \n",
       "50%                  0.766000                0.653000   \n",
       "75%                  1.101500                1.037000   \n",
       "max                  2.554000                2.465000   \n",
       "\n",
       "       north_mean_temp_anomoly  global_avg_co2  seaice_extent  \n",
       "count               447.000000      447.000000     447.000000  \n",
       "mean                  0.686273      366.108054      11.559153  \n",
       "std                   0.540999       18.908570       3.185538  \n",
       "min                  -1.065000      332.410000       3.565600  \n",
       "25%                   0.289000      350.320000       8.842585  \n",
       "50%                   0.671000      364.310000      12.199871  \n",
       "75%                   1.029500      382.250000      14.409063  \n",
       "max                   2.510000      403.960000      16.341938  "
      ]
     },
     "execution_count": 58,
     "metadata": {},
     "output_type": "execute_result"
    }
   ],
   "source": [
    "df_cat_null.describe()"
   ]
  },
  {
   "cell_type": "markdown",
   "metadata": {},
   "source": [
    "## Assign new variables"
   ]
  },
  {
   "cell_type": "code",
   "execution_count": 84,
   "metadata": {},
   "outputs": [
    {
     "name": "stdout",
     "output_type": "stream",
     "text": [
      "(447, 9) (447,)\n"
     ]
    }
   ],
   "source": [
    "X = df_cat_null[['land_avg_temp', 'land_max_temp', 'land_min_temp',\n",
    "       'land_ocean_avg_temp', 'north_min_temp_anomoly',\n",
    "       'north_max_temp_anomoly', 'north_mean_temp_anomoly', 'global_avg_co2',\n",
    "       'seaice_extent']]\n",
    "y_cat = df_cat_null[\"bear_mean_cat\"]\n",
    "print(X.shape, y_cat.shape)"
   ]
  },
  {
   "cell_type": "markdown",
   "metadata": {},
   "source": [
    "## Split the data into testing and training dataset"
   ]
  },
  {
   "cell_type": "code",
   "execution_count": 85,
   "metadata": {},
   "outputs": [],
   "source": [
    "from sklearn.model_selection import train_test_split\n",
    "X_train, X_test, y_cat_train, y_cat_test = train_test_split(X, y_cat, test_size=0.5, random_state=42)"
   ]
  },
  {
   "cell_type": "markdown",
   "metadata": {},
   "source": [
    "## MinMaxScalar to fit and transform X features and y target"
   ]
  },
  {
   "cell_type": "code",
   "execution_count": 86,
   "metadata": {},
   "outputs": [],
   "source": [
    "#Fit Transform using MinMaxScalar for X features\n",
    "from sklearn.preprocessing import MinMaxScaler\n",
    "X_minmax = MinMaxScaler().fit(X_train)\n",
    "\n",
    "X_train_minmax = X_minmax.transform(X_train)\n",
    "X_test_minmax = X_minmax.transform(X_test)"
   ]
  },
  {
   "cell_type": "markdown",
   "metadata": {},
   "source": [
    "# Logistic Regression Analysis\n",
    "\n",
    "## RSF Category"
   ]
  },
  {
   "cell_type": "code",
   "execution_count": 87,
   "metadata": {
    "scrolled": true
   },
   "outputs": [
    {
     "name": "stdout",
     "output_type": "stream",
     "text": [
      "Training Data Score: 0.18834080717488788\n",
      "Testing Data Score: 0.15625\n"
     ]
    }
   ],
   "source": [
    "# Creat model and fit to scaled training data\n",
    "from sklearn.linear_model import LogisticRegression\n",
    "classifier = LogisticRegression()\n",
    "classifier.fit(X_train_minmax, y_cat_train)\n",
    "print(f\"Training Data Score: {classifier.score(X_train, y_cat_train)}\")\n",
    "print(f\"Testing Data Score: {classifier.score(X_test, y_cat_test)}\")"
   ]
  },
  {
   "cell_type": "markdown",
   "metadata": {},
   "source": [
    "# Random Forest Analysis\n",
    "\n",
    "## RSF Category"
   ]
  },
  {
   "cell_type": "code",
   "execution_count": 91,
   "metadata": {},
   "outputs": [],
   "source": [
    "from sklearn.ensemble import RandomForestClassifier\n",
    "y_cat_rf = df_cat_null[\"bear_mean_cat\"]\n",
    "\n",
    "rf = RandomForestClassifier(n_estimators=200)\n",
    "rf = rf.fit(X_train_minmax, y_cat_train)\n",
    "score = rf.score(X_test_minmax, y_cat_test)\n"
   ]
  },
  {
   "cell_type": "code",
   "execution_count": 92,
   "metadata": {},
   "outputs": [
    {
     "data": {
      "text/plain": [
       "[(0.2964087182895357, 'global_avg_co2'),\n",
       " (0.18043965307326035, 'seaice_extent'),\n",
       " (0.09278135377875361, 'north_max_temp_anomoly'),\n",
       " (0.08075695589190385, 'north_mean_temp_anomoly'),\n",
       " (0.0785872321824017, 'north_min_temp_anomoly'),\n",
       " (0.07021741601119753, 'land_ocean_avg_temp'),\n",
       " (0.06975109188328299, 'land_min_temp'),\n",
       " (0.06903660750349662, 'land_max_temp'),\n",
       " (0.0620209713861675, 'land_avg_temp')]"
      ]
     },
     "execution_count": 92,
     "metadata": {},
     "output_type": "execute_result"
    }
   ],
   "source": [
    "importances = rf.feature_importances_\n",
    "sorted(zip(rf.feature_importances_, X.columns), reverse=True)"
   ]
  },
  {
   "cell_type": "code",
   "execution_count": 93,
   "metadata": {},
   "outputs": [
    {
     "name": "stdout",
     "output_type": "stream",
     "text": [
      "Random Forest Testing Score: 0.75\n"
     ]
    }
   ],
   "source": [
    "print(f\"Random Forest Testing Score: {score}\")"
   ]
  },
  {
   "cell_type": "markdown",
   "metadata": {},
   "source": [
    "## hypertune the model"
   ]
  },
  {
   "cell_type": "code",
   "execution_count": 94,
   "metadata": {},
   "outputs": [
    {
     "data": {
      "text/plain": [
       "dict_keys(['bootstrap', 'ccp_alpha', 'class_weight', 'criterion', 'max_depth', 'max_features', 'max_leaf_nodes', 'max_samples', 'min_impurity_decrease', 'min_impurity_split', 'min_samples_leaf', 'min_samples_split', 'min_weight_fraction_leaf', 'n_estimators', 'n_jobs', 'oob_score', 'random_state', 'verbose', 'warm_start'])"
      ]
     },
     "execution_count": 94,
     "metadata": {},
     "output_type": "execute_result"
    }
   ],
   "source": [
    "rf.get_params().keys()"
   ]
  },
  {
   "cell_type": "code",
   "execution_count": 114,
   "metadata": {
    "scrolled": true
   },
   "outputs": [
    {
     "name": "stdout",
     "output_type": "stream",
     "text": [
      "{'bootstrap': [True, False],\n",
      " 'max_depth': [10, 60, 110, None],\n",
      " 'max_features': ['auto', 'sqrt'],\n",
      " 'min_samples_leaf': [1, 2, 4],\n",
      " 'min_samples_split': [2, 5, 10],\n",
      " 'n_estimators': [200, 650, 1100, 1550, 2000]}\n"
     ]
    }
   ],
   "source": [
    "from sklearn.model_selection import RandomizedSearchCV# Number of trees in random forest\n",
    "n_estimators = [int(x) for x in np.linspace(start = 200, stop = 2000, num = 5)]\n",
    "# Number of features to consider at every split\n",
    "max_features = ['auto', 'sqrt']\n",
    "# Maximum number of levels in tree\n",
    "max_depth = [int(x) for x in np.linspace(10, 110, num = 3)]\n",
    "max_depth.append(None)\n",
    "# Minimum number of samples required to split a node\n",
    "min_samples_split = [2, 5, 10]\n",
    "# Minimum number of samples required at each leaf node\n",
    "min_samples_leaf = [1, 2, 4]\n",
    "# Method of selecting samples for training each tree\n",
    "bootstrap = [True, False]# Create the random grid\n",
    "random_grid = {'n_estimators': n_estimators,\n",
    "               'max_features': max_features,\n",
    "               'max_depth': max_depth,\n",
    "               'min_samples_split': min_samples_split,\n",
    "               'min_samples_leaf': min_samples_leaf,\n",
    "               'bootstrap': bootstrap}\n",
    "pprint(random_grid)"
   ]
  },
  {
   "cell_type": "markdown",
   "metadata": {},
   "source": [
    "### Label encoding y_cat"
   ]
  },
  {
   "cell_type": "code",
   "execution_count": 115,
   "metadata": {},
   "outputs": [],
   "source": [
    "from sklearn.preprocessing import LabelEncoder\n",
    "label_encoder = LabelEncoder()\n",
    "label_encoder.fit(y_cat_train)\n",
    "encoded_y_train = label_encoder.transform(y_cat_train)\n",
    "encoded_y_test = label_encoder.transform(y_cat_test)"
   ]
  },
  {
   "cell_type": "code",
   "execution_count": 116,
   "metadata": {},
   "outputs": [
    {
     "name": "stdout",
     "output_type": "stream",
     "text": [
      "Fitting 3 folds for each of 100 candidates, totalling 300 fits\n"
     ]
    },
    {
     "name": "stderr",
     "output_type": "stream",
     "text": [
      "[Parallel(n_jobs=-1)]: Using backend LokyBackend with 8 concurrent workers.\n",
      "[Parallel(n_jobs=-1)]: Done  25 tasks      | elapsed:    7.2s\n",
      "[Parallel(n_jobs=-1)]: Done 146 tasks      | elapsed:   43.0s\n",
      "[Parallel(n_jobs=-1)]: Done 300 out of 300 | elapsed:  1.8min finished\n"
     ]
    },
    {
     "data": {
      "text/plain": [
       "RandomizedSearchCV(cv=3, estimator=RandomForestRegressor(), n_iter=100,\n",
       "                   n_jobs=-1,\n",
       "                   param_distributions={'bootstrap': [True, False],\n",
       "                                        'max_depth': [10, 60, 110, None],\n",
       "                                        'max_features': ['auto', 'sqrt'],\n",
       "                                        'min_samples_leaf': [1, 2, 4],\n",
       "                                        'min_samples_split': [2, 5, 10],\n",
       "                                        'n_estimators': [200, 650, 1100, 1550,\n",
       "                                                         2000]},\n",
       "                   random_state=42, verbose=2)"
      ]
     },
     "execution_count": 116,
     "metadata": {},
     "output_type": "execute_result"
    }
   ],
   "source": [
    "from sklearn.ensemble import RandomForestRegressor\n",
    "# Use the random grid to search for best hyperparameters\n",
    "# First create the base model to tune\n",
    "rf = RandomForestRegressor()\n",
    "# Random search of parameters, using 3 fold cross validation, \n",
    "# search across 100 different combinations, and use all available cores\n",
    "rf_random = RandomizedSearchCV(estimator = rf, param_distributions = random_grid, n_iter = 100, cv = 3, verbose=2, random_state=42, n_jobs = -1)# Fit the random search model\n",
    "rf_random.fit(X_train_minmax, encoded_y_train)"
   ]
  },
  {
   "cell_type": "code",
   "execution_count": 117,
   "metadata": {},
   "outputs": [
    {
     "data": {
      "text/plain": [
       "{'n_estimators': 1550,\n",
       " 'min_samples_split': 10,\n",
       " 'min_samples_leaf': 4,\n",
       " 'max_features': 'auto',\n",
       " 'max_depth': 60,\n",
       " 'bootstrap': True}"
      ]
     },
     "execution_count": 117,
     "metadata": {},
     "output_type": "execute_result"
    }
   ],
   "source": [
    "rf_random.best_params_"
   ]
  },
  {
   "cell_type": "code",
   "execution_count": 113,
   "metadata": {},
   "outputs": [
    {
     "name": "stdout",
     "output_type": "stream",
     "text": [
      "Random Forest Testing Score: 0.75\n"
     ]
    }
   ],
   "source": [
    "rf2 = RandomForestClassifier(n_estimators=1550, min_samples_split =, min_samples_leaf = 4, max_features='auto', max_depth=60, bootstrap='True')\n",
    "rf2 = rf2.fit(X_train_minmax, encoded_y_train)\n",
    "score = rf2.score(X_test_minmax, encoded_y_test)\n",
    "\n",
    "print(f\"Random Forest Testing Score: {score}\")"
   ]
  },
  {
   "cell_type": "code",
   "execution_count": null,
   "metadata": {},
   "outputs": [],
   "source": []
  }
 ],
 "metadata": {
  "kernelspec": {
   "display_name": "Python [conda env:PythonAdv] *",
   "language": "python",
   "name": "conda-env-PythonAdv-py"
  },
  "language_info": {
   "codemirror_mode": {
    "name": "ipython",
    "version": 3
   },
   "file_extension": ".py",
   "mimetype": "text/x-python",
   "name": "python",
   "nbconvert_exporter": "python",
   "pygments_lexer": "ipython3",
   "version": "3.6.10"
  }
 },
 "nbformat": 4,
 "nbformat_minor": 4
}
