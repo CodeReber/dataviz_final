{
 "cells": [
  {
   "cell_type": "code",
   "execution_count": 1,
   "metadata": {
    "scrolled": false
   },
   "outputs": [
    {
     "name": "stdout",
     "output_type": "stream",
     "text": [
      "Requirement already up-to-date: sklearn in /opt/anaconda3/envs/PythonAdv/lib/python3.6/site-packages (0.0)\r\n",
      "Requirement already satisfied, skipping upgrade: scikit-learn in /opt/anaconda3/envs/PythonAdv/lib/python3.6/site-packages (from sklearn) (0.23.1)\r\n",
      "Requirement already satisfied, skipping upgrade: threadpoolctl>=2.0.0 in /opt/anaconda3/envs/PythonAdv/lib/python3.6/site-packages (from scikit-learn->sklearn) (2.1.0)\r\n",
      "Requirement already satisfied, skipping upgrade: joblib>=0.11 in /opt/anaconda3/envs/PythonAdv/lib/python3.6/site-packages (from scikit-learn->sklearn) (0.15.1)\r\n",
      "Requirement already satisfied, skipping upgrade: scipy>=0.19.1 in /opt/anaconda3/envs/PythonAdv/lib/python3.6/site-packages (from scikit-learn->sklearn) (1.5.0)\r\n",
      "Requirement already satisfied, skipping upgrade: numpy>=1.13.3 in /opt/anaconda3/envs/PythonAdv/lib/python3.6/site-packages (from scikit-learn->sklearn) (1.18.5)\r\n"
     ]
    }
   ],
   "source": [
    "# Update sklearn to prevent version mismatches\n",
    "!pip install sklearn --upgrade"
   ]
  },
  {
   "cell_type": "code",
   "execution_count": 2,
   "metadata": {},
   "outputs": [
    {
     "name": "stdout",
     "output_type": "stream",
     "text": [
      "Requirement already satisfied: joblib in /opt/anaconda3/envs/PythonAdv/lib/python3.6/site-packages (0.15.1)\r\n"
     ]
    }
   ],
   "source": [
    "# install joblib for saving\n",
    "# Restart kernel after installing \n",
    "!pip install joblib"
   ]
  },
  {
   "cell_type": "code",
   "execution_count": 47,
   "metadata": {},
   "outputs": [],
   "source": [
    "import pandas as pd\n",
    "import matplotlib.pyplot as plt\n",
    "import numpy as np\n",
    "from pprint import pprint\n"
   ]
  },
  {
   "cell_type": "code",
   "execution_count": 4,
   "metadata": {},
   "outputs": [],
   "source": [
    "df = pd.read_csv(\"../data/ml_compile.csv\")"
   ]
  },
  {
   "cell_type": "code",
   "execution_count": 5,
   "metadata": {
    "scrolled": true
   },
   "outputs": [
    {
     "data": {
      "text/plain": [
       "Index(['year_month', 'land_avg_temp', 'land_max_temp', 'land_min_temp',\n",
       "       'land_ocean_avg_temp', 'north_min_temp_anomoly',\n",
       "       'north_max_temp_anomoly', 'north_mean_temp_anomoly', 'global_avg_co2',\n",
       "       'seaice_extent', 'bear_rsf_mean', 'bear_rsf_var', 'num_bears',\n",
       "       'avg_distance_traveled', 'avg_num_land_dens', 'avg_num_ice_dens',\n",
       "       'avg_num_active_dens'],\n",
       "      dtype='object')"
      ]
     },
     "execution_count": 5,
     "metadata": {},
     "output_type": "execute_result"
    }
   ],
   "source": [
    "df.columns"
   ]
  },
  {
   "cell_type": "code",
   "execution_count": 99,
   "metadata": {},
   "outputs": [
    {
     "data": {
      "text/html": [
       "<div>\n",
       "<style scoped>\n",
       "    .dataframe tbody tr th:only-of-type {\n",
       "        vertical-align: middle;\n",
       "    }\n",
       "\n",
       "    .dataframe tbody tr th {\n",
       "        vertical-align: top;\n",
       "    }\n",
       "\n",
       "    .dataframe thead th {\n",
       "        text-align: right;\n",
       "    }\n",
       "</style>\n",
       "<table border=\"1\" class=\"dataframe\">\n",
       "  <thead>\n",
       "    <tr style=\"text-align: right;\">\n",
       "      <th></th>\n",
       "      <th>year_month</th>\n",
       "      <th>land_avg_temp</th>\n",
       "      <th>land_max_temp</th>\n",
       "      <th>land_min_temp</th>\n",
       "      <th>land_ocean_avg_temp</th>\n",
       "      <th>north_min_temp_anomoly</th>\n",
       "      <th>north_max_temp_anomoly</th>\n",
       "      <th>north_mean_temp_anomoly</th>\n",
       "      <th>global_avg_co2</th>\n",
       "      <th>seaice_extent</th>\n",
       "      <th>avg_distance_traveled</th>\n",
       "    </tr>\n",
       "  </thead>\n",
       "  <tbody>\n",
       "    <tr>\n",
       "      <th>1311</th>\n",
       "      <td>2009-04-01</td>\n",
       "      <td>9.367</td>\n",
       "      <td>15.377</td>\n",
       "      <td>3.320</td>\n",
       "      <td>15.819</td>\n",
       "      <td>1.007</td>\n",
       "      <td>1.200</td>\n",
       "      <td>1.092</td>\n",
       "      <td>389.55</td>\n",
       "      <td>14.495633</td>\n",
       "      <td>high</td>\n",
       "    </tr>\n",
       "    <tr>\n",
       "      <th>1312</th>\n",
       "      <td>2009-05-01</td>\n",
       "      <td>12.112</td>\n",
       "      <td>18.010</td>\n",
       "      <td>6.141</td>\n",
       "      <td>16.571</td>\n",
       "      <td>0.663</td>\n",
       "      <td>0.775</td>\n",
       "      <td>0.694</td>\n",
       "      <td>390.14</td>\n",
       "      <td>13.186710</td>\n",
       "      <td>low</td>\n",
       "    </tr>\n",
       "    <tr>\n",
       "      <th>1313</th>\n",
       "      <td>2009-06-01</td>\n",
       "      <td>14.201</td>\n",
       "      <td>20.056</td>\n",
       "      <td>8.300</td>\n",
       "      <td>17.260</td>\n",
       "      <td>0.779</td>\n",
       "      <td>0.794</td>\n",
       "      <td>0.770</td>\n",
       "      <td>389.48</td>\n",
       "      <td>11.320267</td>\n",
       "      <td>high</td>\n",
       "    </tr>\n",
       "    <tr>\n",
       "      <th>1314</th>\n",
       "      <td>2009-07-01</td>\n",
       "      <td>15.231</td>\n",
       "      <td>21.085</td>\n",
       "      <td>9.456</td>\n",
       "      <td>17.578</td>\n",
       "      <td>0.685</td>\n",
       "      <td>0.813</td>\n",
       "      <td>0.744</td>\n",
       "      <td>388.03</td>\n",
       "      <td>8.465452</td>\n",
       "      <td>high</td>\n",
       "    </tr>\n",
       "    <tr>\n",
       "      <th>1315</th>\n",
       "      <td>2009-08-01</td>\n",
       "      <td>14.655</td>\n",
       "      <td>20.577</td>\n",
       "      <td>8.855</td>\n",
       "      <td>17.427</td>\n",
       "      <td>0.720</td>\n",
       "      <td>0.866</td>\n",
       "      <td>0.752</td>\n",
       "      <td>386.11</td>\n",
       "      <td>6.135742</td>\n",
       "      <td>high</td>\n",
       "    </tr>\n",
       "    <tr>\n",
       "      <th>1316</th>\n",
       "      <td>2009-09-01</td>\n",
       "      <td>13.153</td>\n",
       "      <td>19.006</td>\n",
       "      <td>7.397</td>\n",
       "      <td>16.864</td>\n",
       "      <td>1.228</td>\n",
       "      <td>1.311</td>\n",
       "      <td>1.240</td>\n",
       "      <td>384.74</td>\n",
       "      <td>5.261633</td>\n",
       "      <td>high</td>\n",
       "    </tr>\n",
       "    <tr>\n",
       "      <th>1317</th>\n",
       "      <td>2009-10-01</td>\n",
       "      <td>10.136</td>\n",
       "      <td>15.790</td>\n",
       "      <td>4.563</td>\n",
       "      <td>15.910</td>\n",
       "      <td>1.083</td>\n",
       "      <td>0.754</td>\n",
       "      <td>0.895</td>\n",
       "      <td>384.43</td>\n",
       "      <td>6.920323</td>\n",
       "      <td>high</td>\n",
       "    </tr>\n",
       "    <tr>\n",
       "      <th>1318</th>\n",
       "      <td>2009-11-01</td>\n",
       "      <td>7.031</td>\n",
       "      <td>12.574</td>\n",
       "      <td>1.640</td>\n",
       "      <td>14.968</td>\n",
       "      <td>1.053</td>\n",
       "      <td>0.802</td>\n",
       "      <td>0.879</td>\n",
       "      <td>386.02</td>\n",
       "      <td>9.771733</td>\n",
       "      <td>high</td>\n",
       "    </tr>\n",
       "    <tr>\n",
       "      <th>1319</th>\n",
       "      <td>2009-12-01</td>\n",
       "      <td>4.310</td>\n",
       "      <td>9.661</td>\n",
       "      <td>-0.940</td>\n",
       "      <td>14.298</td>\n",
       "      <td>0.679</td>\n",
       "      <td>0.380</td>\n",
       "      <td>0.483</td>\n",
       "      <td>387.42</td>\n",
       "      <td>12.199871</td>\n",
       "      <td>high</td>\n",
       "    </tr>\n",
       "    <tr>\n",
       "      <th>1320</th>\n",
       "      <td>2010-01-01</td>\n",
       "      <td>3.737</td>\n",
       "      <td>9.245</td>\n",
       "      <td>-1.677</td>\n",
       "      <td>14.208</td>\n",
       "      <td>1.185</td>\n",
       "      <td>1.093</td>\n",
       "      <td>1.119</td>\n",
       "      <td>388.71</td>\n",
       "      <td>13.739065</td>\n",
       "      <td>high</td>\n",
       "    </tr>\n",
       "  </tbody>\n",
       "</table>\n",
       "</div>"
      ],
      "text/plain": [
       "     year_month  land_avg_temp  land_max_temp  land_min_temp  \\\n",
       "1311 2009-04-01          9.367         15.377          3.320   \n",
       "1312 2009-05-01         12.112         18.010          6.141   \n",
       "1313 2009-06-01         14.201         20.056          8.300   \n",
       "1314 2009-07-01         15.231         21.085          9.456   \n",
       "1315 2009-08-01         14.655         20.577          8.855   \n",
       "1316 2009-09-01         13.153         19.006          7.397   \n",
       "1317 2009-10-01         10.136         15.790          4.563   \n",
       "1318 2009-11-01          7.031         12.574          1.640   \n",
       "1319 2009-12-01          4.310          9.661         -0.940   \n",
       "1320 2010-01-01          3.737          9.245         -1.677   \n",
       "\n",
       "      land_ocean_avg_temp  north_min_temp_anomoly  north_max_temp_anomoly  \\\n",
       "1311               15.819                   1.007                   1.200   \n",
       "1312               16.571                   0.663                   0.775   \n",
       "1313               17.260                   0.779                   0.794   \n",
       "1314               17.578                   0.685                   0.813   \n",
       "1315               17.427                   0.720                   0.866   \n",
       "1316               16.864                   1.228                   1.311   \n",
       "1317               15.910                   1.083                   0.754   \n",
       "1318               14.968                   1.053                   0.802   \n",
       "1319               14.298                   0.679                   0.380   \n",
       "1320               14.208                   1.185                   1.093   \n",
       "\n",
       "      north_mean_temp_anomoly  global_avg_co2  seaice_extent  \\\n",
       "1311                    1.092          389.55      14.495633   \n",
       "1312                    0.694          390.14      13.186710   \n",
       "1313                    0.770          389.48      11.320267   \n",
       "1314                    0.744          388.03       8.465452   \n",
       "1315                    0.752          386.11       6.135742   \n",
       "1316                    1.240          384.74       5.261633   \n",
       "1317                    0.895          384.43       6.920323   \n",
       "1318                    0.879          386.02       9.771733   \n",
       "1319                    0.483          387.42      12.199871   \n",
       "1320                    1.119          388.71      13.739065   \n",
       "\n",
       "     avg_distance_traveled  \n",
       "1311                  high  \n",
       "1312                   low  \n",
       "1313                  high  \n",
       "1314                  high  \n",
       "1315                  high  \n",
       "1316                  high  \n",
       "1317                  high  \n",
       "1318                  high  \n",
       "1319                  high  \n",
       "1320                  high  "
      ]
     },
     "execution_count": 99,
     "metadata": {},
     "output_type": "execute_result"
    }
   ],
   "source": [
    "df.head(10)"
   ]
  },
  {
   "cell_type": "code",
   "execution_count": 101,
   "metadata": {},
   "outputs": [
    {
     "data": {
      "text/plain": [
       "count                      81\n",
       "unique                     81\n",
       "top       2009-09-01 00:00:00\n",
       "freq                        1\n",
       "first     2009-04-01 00:00:00\n",
       "last      2015-12-01 00:00:00\n",
       "Name: year_month, dtype: object"
      ]
     },
     "execution_count": 101,
     "metadata": {},
     "output_type": "execute_result"
    }
   ],
   "source": [
    "from datetime import datetime\n",
    "df['year_month'] = pd.to_datetime(df['year_month'], format='%Y-%m')"
   ]
  },
  {
   "cell_type": "markdown",
   "metadata": {},
   "source": [
    "# Machine Learning: Climate x Mobility\n",
    "## REMOVE ALL NULL VALUES"
   ]
  },
  {
   "cell_type": "code",
   "execution_count": 102,
   "metadata": {
    "scrolled": true
   },
   "outputs": [],
   "source": [
    "df = df [['year_month', 'land_avg_temp', 'land_max_temp', 'land_min_temp',\n",
    "       'land_ocean_avg_temp', 'north_min_temp_anomoly',\n",
    "       'north_max_temp_anomoly', 'north_mean_temp_anomoly', 'global_avg_co2',\n",
    "       'seaice_extent',\n",
    "       'avg_distance_traveled']]"
   ]
  },
  {
   "cell_type": "code",
   "execution_count": 103,
   "metadata": {
    "scrolled": true
   },
   "outputs": [
    {
     "data": {
      "text/html": [
       "<div>\n",
       "<style scoped>\n",
       "    .dataframe tbody tr th:only-of-type {\n",
       "        vertical-align: middle;\n",
       "    }\n",
       "\n",
       "    .dataframe tbody tr th {\n",
       "        vertical-align: top;\n",
       "    }\n",
       "\n",
       "    .dataframe thead th {\n",
       "        text-align: right;\n",
       "    }\n",
       "</style>\n",
       "<table border=\"1\" class=\"dataframe\">\n",
       "  <thead>\n",
       "    <tr style=\"text-align: right;\">\n",
       "      <th></th>\n",
       "      <th>land_avg_temp</th>\n",
       "      <th>land_max_temp</th>\n",
       "      <th>land_min_temp</th>\n",
       "      <th>land_ocean_avg_temp</th>\n",
       "      <th>north_min_temp_anomoly</th>\n",
       "      <th>north_max_temp_anomoly</th>\n",
       "      <th>north_mean_temp_anomoly</th>\n",
       "      <th>global_avg_co2</th>\n",
       "      <th>seaice_extent</th>\n",
       "    </tr>\n",
       "  </thead>\n",
       "  <tbody>\n",
       "    <tr>\n",
       "      <th>count</th>\n",
       "      <td>81.000000</td>\n",
       "      <td>81.000000</td>\n",
       "      <td>81.000000</td>\n",
       "      <td>81.000000</td>\n",
       "      <td>81.000000</td>\n",
       "      <td>81.000000</td>\n",
       "      <td>81.000000</td>\n",
       "      <td>81.000000</td>\n",
       "      <td>81.000000</td>\n",
       "    </tr>\n",
       "    <tr>\n",
       "      <th>mean</th>\n",
       "      <td>9.790259</td>\n",
       "      <td>15.556259</td>\n",
       "      <td>4.089877</td>\n",
       "      <td>15.928580</td>\n",
       "      <td>1.164457</td>\n",
       "      <td>1.116765</td>\n",
       "      <td>1.111099</td>\n",
       "      <td>394.353704</td>\n",
       "      <td>10.562315</td>\n",
       "    </tr>\n",
       "    <tr>\n",
       "      <th>std</th>\n",
       "      <td>4.163228</td>\n",
       "      <td>4.280008</td>\n",
       "      <td>4.030000</td>\n",
       "      <td>1.244731</td>\n",
       "      <td>0.375582</td>\n",
       "      <td>0.387919</td>\n",
       "      <td>0.372216</td>\n",
       "      <td>4.791289</td>\n",
       "      <td>3.476053</td>\n",
       "    </tr>\n",
       "    <tr>\n",
       "      <th>min</th>\n",
       "      <td>3.157000</td>\n",
       "      <td>8.691000</td>\n",
       "      <td>-2.233000</td>\n",
       "      <td>13.859000</td>\n",
       "      <td>0.158000</td>\n",
       "      <td>-0.055000</td>\n",
       "      <td>-0.008000</td>\n",
       "      <td>384.430000</td>\n",
       "      <td>3.565600</td>\n",
       "    </tr>\n",
       "    <tr>\n",
       "      <th>25%</th>\n",
       "      <td>6.101000</td>\n",
       "      <td>12.025000</td>\n",
       "      <td>0.287000</td>\n",
       "      <td>14.863000</td>\n",
       "      <td>0.923000</td>\n",
       "      <td>0.833000</td>\n",
       "      <td>0.879000</td>\n",
       "      <td>390.280000</td>\n",
       "      <td>7.454839</td>\n",
       "    </tr>\n",
       "    <tr>\n",
       "      <th>50%</th>\n",
       "      <td>10.256000</td>\n",
       "      <td>15.994000</td>\n",
       "      <td>4.663000</td>\n",
       "      <td>15.962000</td>\n",
       "      <td>1.111000</td>\n",
       "      <td>1.144000</td>\n",
       "      <td>1.112000</td>\n",
       "      <td>394.190000</td>\n",
       "      <td>11.320267</td>\n",
       "    </tr>\n",
       "    <tr>\n",
       "      <th>75%</th>\n",
       "      <td>14.201000</td>\n",
       "      <td>20.056000</td>\n",
       "      <td>8.300000</td>\n",
       "      <td>17.203000</td>\n",
       "      <td>1.381000</td>\n",
       "      <td>1.302000</td>\n",
       "      <td>1.301000</td>\n",
       "      <td>398.010000</td>\n",
       "      <td>13.729419</td>\n",
       "    </tr>\n",
       "    <tr>\n",
       "      <th>max</th>\n",
       "      <td>15.482000</td>\n",
       "      <td>21.320000</td>\n",
       "      <td>9.684000</td>\n",
       "      <td>17.611000</td>\n",
       "      <td>2.355000</td>\n",
       "      <td>2.181000</td>\n",
       "      <td>2.026000</td>\n",
       "      <td>403.960000</td>\n",
       "      <td>15.196258</td>\n",
       "    </tr>\n",
       "  </tbody>\n",
       "</table>\n",
       "</div>"
      ],
      "text/plain": [
       "       land_avg_temp  land_max_temp  land_min_temp  land_ocean_avg_temp  \\\n",
       "count      81.000000      81.000000      81.000000            81.000000   \n",
       "mean        9.790259      15.556259       4.089877            15.928580   \n",
       "std         4.163228       4.280008       4.030000             1.244731   \n",
       "min         3.157000       8.691000      -2.233000            13.859000   \n",
       "25%         6.101000      12.025000       0.287000            14.863000   \n",
       "50%        10.256000      15.994000       4.663000            15.962000   \n",
       "75%        14.201000      20.056000       8.300000            17.203000   \n",
       "max        15.482000      21.320000       9.684000            17.611000   \n",
       "\n",
       "       north_min_temp_anomoly  north_max_temp_anomoly  \\\n",
       "count               81.000000               81.000000   \n",
       "mean                 1.164457                1.116765   \n",
       "std                  0.375582                0.387919   \n",
       "min                  0.158000               -0.055000   \n",
       "25%                  0.923000                0.833000   \n",
       "50%                  1.111000                1.144000   \n",
       "75%                  1.381000                1.302000   \n",
       "max                  2.355000                2.181000   \n",
       "\n",
       "       north_mean_temp_anomoly  global_avg_co2  seaice_extent  \n",
       "count                81.000000       81.000000      81.000000  \n",
       "mean                  1.111099      394.353704      10.562315  \n",
       "std                   0.372216        4.791289       3.476053  \n",
       "min                  -0.008000      384.430000       3.565600  \n",
       "25%                   0.879000      390.280000       7.454839  \n",
       "50%                   1.112000      394.190000      11.320267  \n",
       "75%                   1.301000      398.010000      13.729419  \n",
       "max                   2.026000      403.960000      15.196258  "
      ]
     },
     "execution_count": 103,
     "metadata": {},
     "output_type": "execute_result"
    }
   ],
   "source": [
    "#Drop null values\n",
    "df.describe()"
   ]
  },
  {
   "cell_type": "code",
   "execution_count": 104,
   "metadata": {},
   "outputs": [
    {
     "data": {
      "text/html": [
       "<div>\n",
       "<style scoped>\n",
       "    .dataframe tbody tr th:only-of-type {\n",
       "        vertical-align: middle;\n",
       "    }\n",
       "\n",
       "    .dataframe tbody tr th {\n",
       "        vertical-align: top;\n",
       "    }\n",
       "\n",
       "    .dataframe thead th {\n",
       "        text-align: right;\n",
       "    }\n",
       "</style>\n",
       "<table border=\"1\" class=\"dataframe\">\n",
       "  <thead>\n",
       "    <tr style=\"text-align: right;\">\n",
       "      <th></th>\n",
       "      <th>land_avg_temp</th>\n",
       "      <th>land_max_temp</th>\n",
       "      <th>land_min_temp</th>\n",
       "      <th>land_ocean_avg_temp</th>\n",
       "      <th>north_min_temp_anomoly</th>\n",
       "      <th>north_max_temp_anomoly</th>\n",
       "      <th>north_mean_temp_anomoly</th>\n",
       "      <th>global_avg_co2</th>\n",
       "      <th>seaice_extent</th>\n",
       "    </tr>\n",
       "  </thead>\n",
       "  <tbody>\n",
       "    <tr>\n",
       "      <th>count</th>\n",
       "      <td>81.000000</td>\n",
       "      <td>81.000000</td>\n",
       "      <td>81.000000</td>\n",
       "      <td>81.000000</td>\n",
       "      <td>81.000000</td>\n",
       "      <td>81.000000</td>\n",
       "      <td>81.000000</td>\n",
       "      <td>81.000000</td>\n",
       "      <td>81.000000</td>\n",
       "    </tr>\n",
       "    <tr>\n",
       "      <th>mean</th>\n",
       "      <td>9.790259</td>\n",
       "      <td>15.556259</td>\n",
       "      <td>4.089877</td>\n",
       "      <td>15.928580</td>\n",
       "      <td>1.164457</td>\n",
       "      <td>1.116765</td>\n",
       "      <td>1.111099</td>\n",
       "      <td>394.353704</td>\n",
       "      <td>10.562315</td>\n",
       "    </tr>\n",
       "    <tr>\n",
       "      <th>std</th>\n",
       "      <td>4.163228</td>\n",
       "      <td>4.280008</td>\n",
       "      <td>4.030000</td>\n",
       "      <td>1.244731</td>\n",
       "      <td>0.375582</td>\n",
       "      <td>0.387919</td>\n",
       "      <td>0.372216</td>\n",
       "      <td>4.791289</td>\n",
       "      <td>3.476053</td>\n",
       "    </tr>\n",
       "    <tr>\n",
       "      <th>min</th>\n",
       "      <td>3.157000</td>\n",
       "      <td>8.691000</td>\n",
       "      <td>-2.233000</td>\n",
       "      <td>13.859000</td>\n",
       "      <td>0.158000</td>\n",
       "      <td>-0.055000</td>\n",
       "      <td>-0.008000</td>\n",
       "      <td>384.430000</td>\n",
       "      <td>3.565600</td>\n",
       "    </tr>\n",
       "    <tr>\n",
       "      <th>25%</th>\n",
       "      <td>6.101000</td>\n",
       "      <td>12.025000</td>\n",
       "      <td>0.287000</td>\n",
       "      <td>14.863000</td>\n",
       "      <td>0.923000</td>\n",
       "      <td>0.833000</td>\n",
       "      <td>0.879000</td>\n",
       "      <td>390.280000</td>\n",
       "      <td>7.454839</td>\n",
       "    </tr>\n",
       "    <tr>\n",
       "      <th>50%</th>\n",
       "      <td>10.256000</td>\n",
       "      <td>15.994000</td>\n",
       "      <td>4.663000</td>\n",
       "      <td>15.962000</td>\n",
       "      <td>1.111000</td>\n",
       "      <td>1.144000</td>\n",
       "      <td>1.112000</td>\n",
       "      <td>394.190000</td>\n",
       "      <td>11.320267</td>\n",
       "    </tr>\n",
       "    <tr>\n",
       "      <th>75%</th>\n",
       "      <td>14.201000</td>\n",
       "      <td>20.056000</td>\n",
       "      <td>8.300000</td>\n",
       "      <td>17.203000</td>\n",
       "      <td>1.381000</td>\n",
       "      <td>1.302000</td>\n",
       "      <td>1.301000</td>\n",
       "      <td>398.010000</td>\n",
       "      <td>13.729419</td>\n",
       "    </tr>\n",
       "    <tr>\n",
       "      <th>max</th>\n",
       "      <td>15.482000</td>\n",
       "      <td>21.320000</td>\n",
       "      <td>9.684000</td>\n",
       "      <td>17.611000</td>\n",
       "      <td>2.355000</td>\n",
       "      <td>2.181000</td>\n",
       "      <td>2.026000</td>\n",
       "      <td>403.960000</td>\n",
       "      <td>15.196258</td>\n",
       "    </tr>\n",
       "  </tbody>\n",
       "</table>\n",
       "</div>"
      ],
      "text/plain": [
       "       land_avg_temp  land_max_temp  land_min_temp  land_ocean_avg_temp  \\\n",
       "count      81.000000      81.000000      81.000000            81.000000   \n",
       "mean        9.790259      15.556259       4.089877            15.928580   \n",
       "std         4.163228       4.280008       4.030000             1.244731   \n",
       "min         3.157000       8.691000      -2.233000            13.859000   \n",
       "25%         6.101000      12.025000       0.287000            14.863000   \n",
       "50%        10.256000      15.994000       4.663000            15.962000   \n",
       "75%        14.201000      20.056000       8.300000            17.203000   \n",
       "max        15.482000      21.320000       9.684000            17.611000   \n",
       "\n",
       "       north_min_temp_anomoly  north_max_temp_anomoly  \\\n",
       "count               81.000000               81.000000   \n",
       "mean                 1.164457                1.116765   \n",
       "std                  0.375582                0.387919   \n",
       "min                  0.158000               -0.055000   \n",
       "25%                  0.923000                0.833000   \n",
       "50%                  1.111000                1.144000   \n",
       "75%                  1.381000                1.302000   \n",
       "max                  2.355000                2.181000   \n",
       "\n",
       "       north_mean_temp_anomoly  global_avg_co2  seaice_extent  \n",
       "count                81.000000       81.000000      81.000000  \n",
       "mean                  1.111099      394.353704      10.562315  \n",
       "std                   0.372216        4.791289       3.476053  \n",
       "min                  -0.008000      384.430000       3.565600  \n",
       "25%                   0.879000      390.280000       7.454839  \n",
       "50%                   1.112000      394.190000      11.320267  \n",
       "75%                   1.301000      398.010000      13.729419  \n",
       "max                   2.026000      403.960000      15.196258  "
      ]
     },
     "execution_count": 104,
     "metadata": {},
     "output_type": "execute_result"
    }
   ],
   "source": [
    "df = df.dropna(axis = 0)\n",
    "df.describe()"
   ]
  },
  {
   "cell_type": "markdown",
   "metadata": {},
   "source": [
    "## Preprocessing the Data\n",
    "\n",
    "### Assign X(features) and y(target) data"
   ]
  },
  {
   "cell_type": "code",
   "execution_count": 105,
   "metadata": {},
   "outputs": [
    {
     "name": "stdout",
     "output_type": "stream",
     "text": [
      "(81, 10) (81, 1)\n"
     ]
    }
   ],
   "source": [
    "X = df[['year_month', 'land_avg_temp', 'land_max_temp', 'land_min_temp',\n",
    "       'land_ocean_avg_temp', 'north_min_temp_anomoly',\n",
    "       'north_max_temp_anomoly', 'north_mean_temp_anomoly', 'global_avg_co2',\n",
    "       'seaice_extent']]\n",
    "y = df[\"avg_distance_traveled\"].values.reshape(-1, 1)\n",
    "\n",
    "print(X.shape, y.shape)"
   ]
  },
  {
   "cell_type": "markdown",
   "metadata": {},
   "source": [
    "### Split the data into testing and training dataset"
   ]
  },
  {
   "cell_type": "code",
   "execution_count": 106,
   "metadata": {},
   "outputs": [],
   "source": [
    "from sklearn.model_selection import train_test_split\n",
    "X_train, X_test, y_train, y_test = train_test_split(X, y, test_size=0.3, random_state=42)\n",
    "# X_train, X_test, y_var_train, y_var_test = train_test_split(X, y_var, test_size=0.2, random_state=42)"
   ]
  },
  {
   "cell_type": "markdown",
   "metadata": {},
   "source": [
    "### MinMaxScalar to fit and transform X features and y target"
   ]
  },
  {
   "cell_type": "code",
   "execution_count": 22,
   "metadata": {},
   "outputs": [],
   "source": [
    "#Fit Transform using MinMaxScalar for X features\n",
    "from sklearn.preprocessing import MinMaxScaler\n",
    "X_minmax = MinMaxScaler().fit(X_train)\n",
    "y_minmax = MinMaxScaler().fit(y_train)\n",
    "\n",
    "X_train_minmax = X_minmax.transform(X_train)\n",
    "X_test_minmax = X_minmax.transform(X_test)\n",
    "\n",
    "#Target value #1\n",
    "y_train_minmax = y_minmax.transform(y_train)\n",
    "y_test_minmax = y_minmax.transform(y_test)"
   ]
  },
  {
   "cell_type": "markdown",
   "metadata": {},
   "source": [
    "## Multiple Linear Regression Analysis\n",
    "### Resource Selection Factor Mean"
   ]
  },
  {
   "cell_type": "code",
   "execution_count": 23,
   "metadata": {},
   "outputs": [
    {
     "data": {
      "text/plain": [
       "LinearRegression()"
      ]
     },
     "execution_count": 23,
     "metadata": {},
     "output_type": "execute_result"
    }
   ],
   "source": [
    "# Creat model and fit to scaled training data\n",
    "from sklearn.linear_model import LinearRegression\n",
    "model = LinearRegression()\n",
    "model.fit(X_train_minmax, y_train_minmax)"
   ]
  },
  {
   "cell_type": "code",
   "execution_count": 24,
   "metadata": {},
   "outputs": [
    {
     "data": {
      "image/png": "[encoded data removed]",
      "text/plain": [
       "<Figure size 432x288 with 1 Axes>"
      ]
     },
     "metadata": {
      "needs_background": "light"
     },
     "output_type": "display_data"
    }
   ],
   "source": [
    "# Make Prediction using a FIT model and plot ==SEE BELOW FOR ALTERNATIVES==\n",
    "predictions = model.predict(X_test_minmax)\n",
    "model.fit(X_train_minmax, y_train_minmax)\n",
    "\n",
    "plt.scatter(model.predict(X_train_minmax), model.predict(X_train_minmax) - y_train_minmax, c=\"blue\", label=\"Training Data\")\n",
    "plt.scatter(model.predict(X_test_minmax), model.predict(X_test_minmax) - y_test_minmax, c=\"orange\", label=\"Testing Data\")\n",
    "plt.legend()\n",
    "plt.hlines(y=0, xmin=y_test_minmax.min(), xmax=y_test_minmax.max())\n",
    "plt.title(\"Residual Plot\")\n",
    "plt.show()"
   ]
  },
  {
   "cell_type": "code",
   "execution_count": 25,
   "metadata": {},
   "outputs": [
    {
     "name": "stdout",
     "output_type": "stream",
     "text": [
      "MSE: 0.037981354268160517, R2: 0.32289036633678747\n"
     ]
    }
   ],
   "source": [
    "# Validate the Model with MSE and R2\n",
    "from sklearn.metrics import mean_squared_error\n",
    "\n",
    "MSE = mean_squared_error(y_test_minmax, predictions)\n",
    "r2 = model.score(X_test_minmax, y_test_minmax)\n",
    "\n",
    "print(f\"MSE: {MSE}, R2: {r2}\")"
   ]
  },
  {
   "cell_type": "markdown",
   "metadata": {},
   "source": [
    "## Categorical Algorithms\n",
    "### Preprocessing - Transform RSF values to Categorical"
   ]
  },
  {
   "cell_type": "code",
   "execution_count": 27,
   "metadata": {},
   "outputs": [
    {
     "data": {
      "text/plain": [
       "count    8.100000e+01\n",
       "mean     6.017928e+08\n",
       "std      6.840158e+08\n",
       "min      1.784230e+05\n",
       "25%      1.324565e+08\n",
       "50%      2.650700e+08\n",
       "75%      9.822863e+08\n",
       "max      2.617030e+09\n",
       "Name: avg_distance_traveled, dtype: float64"
      ]
     },
     "execution_count": 27,
     "metadata": {},
     "output_type": "execute_result"
    }
   ],
   "source": [
    "df[\"avg_distance_traveled\"].describe()"
   ]
  },
  {
   "cell_type": "code",
   "execution_count": 28,
   "metadata": {},
   "outputs": [],
   "source": [
    "conditions = [(df[\"avg_distance_traveled\"] < 1.5e+08 ), (df[\"avg_distance_traveled\"] > 1.5e+08 ) & (df[\"avg_distance_traveled\"] < 8e+08 ), (df[\"avg_distance_traveled\"] > 8e+08)]\n",
    "values = ['low', 'mid', 'high']\n",
    "df[\"avg_distance_traveled\"] = np.select(conditions,values)"
   ]
  },
  {
   "cell_type": "code",
   "execution_count": 29,
   "metadata": {},
   "outputs": [
    {
     "data": {
      "text/html": [
       "<div>\n",
       "<style scoped>\n",
       "    .dataframe tbody tr th:only-of-type {\n",
       "        vertical-align: middle;\n",
       "    }\n",
       "\n",
       "    .dataframe tbody tr th {\n",
       "        vertical-align: top;\n",
       "    }\n",
       "\n",
       "    .dataframe thead th {\n",
       "        text-align: right;\n",
       "    }\n",
       "</style>\n",
       "<table border=\"1\" class=\"dataframe\">\n",
       "  <thead>\n",
       "    <tr style=\"text-align: right;\">\n",
       "      <th></th>\n",
       "      <th>year_month</th>\n",
       "      <th>land_avg_temp</th>\n",
       "      <th>land_max_temp</th>\n",
       "      <th>land_min_temp</th>\n",
       "      <th>land_ocean_avg_temp</th>\n",
       "      <th>north_min_temp_anomoly</th>\n",
       "      <th>north_max_temp_anomoly</th>\n",
       "      <th>north_mean_temp_anomoly</th>\n",
       "      <th>global_avg_co2</th>\n",
       "      <th>seaice_extent</th>\n",
       "      <th>avg_distance_traveled</th>\n",
       "    </tr>\n",
       "  </thead>\n",
       "  <tbody>\n",
       "    <tr>\n",
       "      <th>1311</th>\n",
       "      <td>2009-04</td>\n",
       "      <td>9.367</td>\n",
       "      <td>15.377</td>\n",
       "      <td>3.320</td>\n",
       "      <td>15.819</td>\n",
       "      <td>1.007</td>\n",
       "      <td>1.200</td>\n",
       "      <td>1.092</td>\n",
       "      <td>389.55</td>\n",
       "      <td>14.495633</td>\n",
       "      <td>high</td>\n",
       "    </tr>\n",
       "    <tr>\n",
       "      <th>1312</th>\n",
       "      <td>2009-05</td>\n",
       "      <td>12.112</td>\n",
       "      <td>18.010</td>\n",
       "      <td>6.141</td>\n",
       "      <td>16.571</td>\n",
       "      <td>0.663</td>\n",
       "      <td>0.775</td>\n",
       "      <td>0.694</td>\n",
       "      <td>390.14</td>\n",
       "      <td>13.186710</td>\n",
       "      <td>low</td>\n",
       "    </tr>\n",
       "    <tr>\n",
       "      <th>1313</th>\n",
       "      <td>2009-06</td>\n",
       "      <td>14.201</td>\n",
       "      <td>20.056</td>\n",
       "      <td>8.300</td>\n",
       "      <td>17.260</td>\n",
       "      <td>0.779</td>\n",
       "      <td>0.794</td>\n",
       "      <td>0.770</td>\n",
       "      <td>389.48</td>\n",
       "      <td>11.320267</td>\n",
       "      <td>high</td>\n",
       "    </tr>\n",
       "    <tr>\n",
       "      <th>1314</th>\n",
       "      <td>2009-07</td>\n",
       "      <td>15.231</td>\n",
       "      <td>21.085</td>\n",
       "      <td>9.456</td>\n",
       "      <td>17.578</td>\n",
       "      <td>0.685</td>\n",
       "      <td>0.813</td>\n",
       "      <td>0.744</td>\n",
       "      <td>388.03</td>\n",
       "      <td>8.465452</td>\n",
       "      <td>high</td>\n",
       "    </tr>\n",
       "    <tr>\n",
       "      <th>1315</th>\n",
       "      <td>2009-08</td>\n",
       "      <td>14.655</td>\n",
       "      <td>20.577</td>\n",
       "      <td>8.855</td>\n",
       "      <td>17.427</td>\n",
       "      <td>0.720</td>\n",
       "      <td>0.866</td>\n",
       "      <td>0.752</td>\n",
       "      <td>386.11</td>\n",
       "      <td>6.135742</td>\n",
       "      <td>high</td>\n",
       "    </tr>\n",
       "  </tbody>\n",
       "</table>\n",
       "</div>"
      ],
      "text/plain": [
       "     year_month  land_avg_temp  land_max_temp  land_min_temp  \\\n",
       "1311    2009-04          9.367         15.377          3.320   \n",
       "1312    2009-05         12.112         18.010          6.141   \n",
       "1313    2009-06         14.201         20.056          8.300   \n",
       "1314    2009-07         15.231         21.085          9.456   \n",
       "1315    2009-08         14.655         20.577          8.855   \n",
       "\n",
       "      land_ocean_avg_temp  north_min_temp_anomoly  north_max_temp_anomoly  \\\n",
       "1311               15.819                   1.007                   1.200   \n",
       "1312               16.571                   0.663                   0.775   \n",
       "1313               17.260                   0.779                   0.794   \n",
       "1314               17.578                   0.685                   0.813   \n",
       "1315               17.427                   0.720                   0.866   \n",
       "\n",
       "      north_mean_temp_anomoly  global_avg_co2  seaice_extent  \\\n",
       "1311                    1.092          389.55      14.495633   \n",
       "1312                    0.694          390.14      13.186710   \n",
       "1313                    0.770          389.48      11.320267   \n",
       "1314                    0.744          388.03       8.465452   \n",
       "1315                    0.752          386.11       6.135742   \n",
       "\n",
       "     avg_distance_traveled  \n",
       "1311                  high  \n",
       "1312                   low  \n",
       "1313                  high  \n",
       "1314                  high  \n",
       "1315                  high  "
      ]
     },
     "execution_count": 29,
     "metadata": {},
     "output_type": "execute_result"
    }
   ],
   "source": [
    "df.head()"
   ]
  },
  {
   "cell_type": "code",
   "execution_count": 31,
   "metadata": {},
   "outputs": [],
   "source": [
    "df_cat = df [['land_avg_temp', 'land_max_temp', 'land_min_temp',\n",
    "       'land_ocean_avg_temp', 'north_min_temp_anomoly',\n",
    "       'north_max_temp_anomoly', 'north_mean_temp_anomoly', 'global_avg_co2',\n",
    "       'seaice_extent','avg_distance_traveled']]"
   ]
  },
  {
   "cell_type": "markdown",
   "metadata": {},
   "source": [
    "### Assign new variables"
   ]
  },
  {
   "cell_type": "code",
   "execution_count": 32,
   "metadata": {},
   "outputs": [
    {
     "name": "stdout",
     "output_type": "stream",
     "text": [
      "(81, 9) (81,)\n"
     ]
    }
   ],
   "source": [
    "X = df_cat[['land_avg_temp', 'land_max_temp', 'land_min_temp',\n",
    "       'land_ocean_avg_temp', 'north_min_temp_anomoly',\n",
    "       'north_max_temp_anomoly', 'north_mean_temp_anomoly', 'global_avg_co2',\n",
    "       'seaice_extent']]\n",
    "y_cat = df_cat[\"avg_distance_traveled\"]\n",
    "print(X.shape, y_cat.shape)"
   ]
  },
  {
   "cell_type": "markdown",
   "metadata": {},
   "source": [
    "### Split the data into testing and training dataset"
   ]
  },
  {
   "cell_type": "code",
   "execution_count": 33,
   "metadata": {},
   "outputs": [],
   "source": [
    "from sklearn.model_selection import train_test_split\n",
    "X_train, X_test, y_cat_train, y_cat_test = train_test_split(X, y_cat, test_size=0.5, random_state=42)"
   ]
  },
  {
   "cell_type": "markdown",
   "metadata": {},
   "source": [
    "### MinMaxScalar to fit and transform X features and y target"
   ]
  },
  {
   "cell_type": "code",
   "execution_count": 35,
   "metadata": {},
   "outputs": [],
   "source": [
    "#Fit Transform using MinMaxScalar for X features\n",
    "from sklearn.preprocessing import MinMaxScaler\n",
    "X_minmax = MinMaxScaler().fit(X_train)\n",
    "\n",
    "X_train_minmax = X_minmax.transform(X_train)\n",
    "X_test_minmax = X_minmax.transform(X_test)"
   ]
  },
  {
   "cell_type": "markdown",
   "metadata": {},
   "source": [
    "## 1. Logistic Regression Analysis"
   ]
  },
  {
   "cell_type": "code",
   "execution_count": 36,
   "metadata": {
    "scrolled": true
   },
   "outputs": [
    {
     "name": "stdout",
     "output_type": "stream",
     "text": [
      "Training Data Score: 0.4\n",
      "Testing Data Score: 0.21951219512195122\n"
     ]
    }
   ],
   "source": [
    "# Creat model and fit to scaled training data\n",
    "from sklearn.linear_model import LogisticRegression\n",
    "classifier = LogisticRegression()\n",
    "classifier.fit(X_train_minmax, y_cat_train)\n",
    "print(f\"Training Data Score: {classifier.score(X_train, y_cat_train)}\")\n",
    "print(f\"Testing Data Score: {classifier.score(X_test, y_cat_test)}\")"
   ]
  },
  {
   "cell_type": "markdown",
   "metadata": {},
   "source": [
    "## 2. Random Forest Analysis"
   ]
  },
  {
   "cell_type": "code",
   "execution_count": 38,
   "metadata": {},
   "outputs": [
    {
     "data": {
      "text/plain": [
       "0.4878048780487805"
      ]
     },
     "execution_count": 38,
     "metadata": {},
     "output_type": "execute_result"
    }
   ],
   "source": [
    "from sklearn.ensemble import RandomForestClassifier\n",
    "y_cat_rf = df_cat[\"avg_distance_traveled\"]\n",
    "\n",
    "rf = RandomForestClassifier(n_estimators=200)\n",
    "rf = rf.fit(X_train_minmax, y_cat_train)\n",
    "score = rf.score(X_test_minmax, y_cat_test)"
   ]
  },
  {
   "cell_type": "code",
   "execution_count": 39,
   "metadata": {},
   "outputs": [
    {
     "data": {
      "text/plain": [
       "[(0.18287561184962453, 'seaice_extent'),\n",
       " (0.1448964122513482, 'north_min_temp_anomoly'),\n",
       " (0.12851012934294478, 'global_avg_co2'),\n",
       " (0.12015140575106811, 'north_mean_temp_anomoly'),\n",
       " (0.10328077439157174, 'north_max_temp_anomoly'),\n",
       " (0.09008950597349363, 'land_max_temp'),\n",
       " (0.08745226904113863, 'land_ocean_avg_temp'),\n",
       " (0.07394395603645529, 'land_min_temp'),\n",
       " (0.06879993536235526, 'land_avg_temp')]"
      ]
     },
     "execution_count": 39,
     "metadata": {},
     "output_type": "execute_result"
    }
   ],
   "source": [
    "importances = rf.feature_importances_\n",
    "sorted(zip(rf.feature_importances_, X.columns), reverse=True)"
   ]
  },
  {
   "cell_type": "code",
   "execution_count": 40,
   "metadata": {},
   "outputs": [
    {
     "name": "stdout",
     "output_type": "stream",
     "text": [
      "Random Forest Testing Score: 0.4878048780487805\n"
     ]
    }
   ],
   "source": [
    "print(f\"Random Forest Testing Score: {score}\")"
   ]
  },
  {
   "cell_type": "markdown",
   "metadata": {},
   "source": [
    "### hypertune the model"
   ]
  },
  {
   "cell_type": "code",
   "execution_count": 41,
   "metadata": {},
   "outputs": [
    {
     "data": {
      "text/plain": [
       "dict_keys(['bootstrap', 'ccp_alpha', 'class_weight', 'criterion', 'max_depth', 'max_features', 'max_leaf_nodes', 'max_samples', 'min_impurity_decrease', 'min_impurity_split', 'min_samples_leaf', 'min_samples_split', 'min_weight_fraction_leaf', 'n_estimators', 'n_jobs', 'oob_score', 'random_state', 'verbose', 'warm_start'])"
      ]
     },
     "execution_count": 41,
     "metadata": {},
     "output_type": "execute_result"
    }
   ],
   "source": [
    "rf.get_params().keys()"
   ]
  },
  {
   "cell_type": "code",
   "execution_count": 48,
   "metadata": {
    "scrolled": true
   },
   "outputs": [
    {
     "name": "stdout",
     "output_type": "stream",
     "text": [
      "{'bootstrap': [True, False],\n",
      " 'max_depth': [10, 60, 110, None],\n",
      " 'max_features': ['auto', 'sqrt'],\n",
      " 'min_samples_leaf': [1, 2, 4],\n",
      " 'min_samples_split': [2, 5, 10],\n",
      " 'n_estimators': [200, 650, 1100, 1550, 2000]}\n"
     ]
    }
   ],
   "source": [
    "from sklearn.model_selection import RandomizedSearchCV# Number of trees in random forest\n",
    "n_estimators = [int(x) for x in np.linspace(start = 200, stop = 2000, num = 5)]\n",
    "# Number of features to consider at every split\n",
    "max_features = ['auto', 'sqrt']\n",
    "# Maximum number of levels in tree\n",
    "max_depth = [int(x) for x in np.linspace(10, 110, num = 3)]\n",
    "max_depth.append(None)\n",
    "# Minimum number of samples required to split a node\n",
    "min_samples_split = [2, 5, 10]\n",
    "# Minimum number of samples required at each leaf node\n",
    "min_samples_leaf = [1, 2, 4]\n",
    "# Method of selecting samples for training each tree\n",
    "bootstrap = [True, False]# Create the random grid\n",
    "random_grid = {'n_estimators': n_estimators,\n",
    "               'max_features': max_features,\n",
    "               'max_depth': max_depth,\n",
    "               'min_samples_split': min_samples_split,\n",
    "               'min_samples_leaf': min_samples_leaf,\n",
    "               'bootstrap': bootstrap}\n",
    "pprint(random_grid)"
   ]
  },
  {
   "cell_type": "markdown",
   "metadata": {},
   "source": [
    "### Label encoding y_cat"
   ]
  },
  {
   "cell_type": "code",
   "execution_count": 49,
   "metadata": {},
   "outputs": [],
   "source": [
    "from sklearn.preprocessing import LabelEncoder\n",
    "label_encoder = LabelEncoder()\n",
    "label_encoder.fit(y_cat_train)\n",
    "\n",
    "encoded_y_train = label_encoder.transform(y_cat_train)\n",
    "encoded_y_test = label_encoder.transform(y_cat_test)"
   ]
  },
  {
   "cell_type": "code",
   "execution_count": 50,
   "metadata": {},
   "outputs": [
    {
     "name": "stdout",
     "output_type": "stream",
     "text": [
      "Fitting 3 folds for each of 100 candidates, totalling 300 fits\n"
     ]
    },
    {
     "name": "stderr",
     "output_type": "stream",
     "text": [
      "[Parallel(n_jobs=-1)]: Using backend LokyBackend with 8 concurrent workers.\n",
      "[Parallel(n_jobs=-1)]: Done  25 tasks      | elapsed:    7.0s\n",
      "[Parallel(n_jobs=-1)]: Done 146 tasks      | elapsed:   36.8s\n",
      "[Parallel(n_jobs=-1)]: Done 300 out of 300 | elapsed:  1.4min finished\n"
     ]
    },
    {
     "data": {
      "text/plain": [
       "RandomizedSearchCV(cv=3, estimator=RandomForestRegressor(), n_iter=100,\n",
       "                   n_jobs=-1,\n",
       "                   param_distributions={'bootstrap': [True, False],\n",
       "                                        'max_depth': [10, 60, 110, None],\n",
       "                                        'max_features': ['auto', 'sqrt'],\n",
       "                                        'min_samples_leaf': [1, 2, 4],\n",
       "                                        'min_samples_split': [2, 5, 10],\n",
       "                                        'n_estimators': [200, 650, 1100, 1550,\n",
       "                                                         2000]},\n",
       "                   random_state=42, verbose=2)"
      ]
     },
     "execution_count": 50,
     "metadata": {},
     "output_type": "execute_result"
    }
   ],
   "source": [
    "from sklearn.ensemble import RandomForestRegressor\n",
    "# Use the random grid to search for best hyperparameters\n",
    "# First create the base model to tune\n",
    "rf = RandomForestRegressor()\n",
    "# Random search of parameters, using 3 fold cross validation, \n",
    "# search across 100 different combinations, and use all available cores\n",
    "rf_random = RandomizedSearchCV(estimator = rf, param_distributions = random_grid, n_iter = 100, cv = 3, verbose=2, random_state=42, n_jobs = -1)# Fit the random search model\n",
    "rf_random.fit(X_train_minmax, encoded_y_train)"
   ]
  },
  {
   "cell_type": "code",
   "execution_count": 51,
   "metadata": {},
   "outputs": [
    {
     "data": {
      "text/plain": [
       "{'n_estimators': 200,\n",
       " 'min_samples_split': 10,\n",
       " 'min_samples_leaf': 1,\n",
       " 'max_features': 'sqrt',\n",
       " 'max_depth': 10,\n",
       " 'bootstrap': True}"
      ]
     },
     "execution_count": 51,
     "metadata": {},
     "output_type": "execute_result"
    }
   ],
   "source": [
    "rf_random.best_params_"
   ]
  },
  {
   "cell_type": "code",
   "execution_count": 54,
   "metadata": {
    "scrolled": true
   },
   "outputs": [
    {
     "name": "stdout",
     "output_type": "stream",
     "text": [
      "Random Forest Testing Score: 0.4634146341463415\n"
     ]
    }
   ],
   "source": [
    "rf2 = RandomForestClassifier(n_estimators=200, min_samples_split =10, min_samples_leaf = 1, max_features='sqrt', max_depth=10, bootstrap='True')\n",
    "rf2 = rf2.fit(X_train_minmax, encoded_y_train)\n",
    "score = rf2.score(X_test_minmax, encoded_y_test)\n",
    "\n",
    "print(f\"Random Forest Testing Score: {score}\")"
   ]
  },
  {
   "cell_type": "markdown",
   "metadata": {},
   "source": [
    "## 3. Mobility KNN"
   ]
  },
  {
   "cell_type": "code",
   "execution_count": 59,
   "metadata": {},
   "outputs": [
    {
     "name": "stdout",
     "output_type": "stream",
     "text": [
      "k: 1, Train/Test Score: 1.000/0.439\n",
      "k: 3, Train/Test Score: 0.725/0.561\n",
      "k: 5, Train/Test Score: 0.550/0.537\n",
      "k: 7, Train/Test Score: 0.500/0.561\n",
      "k: 9, Train/Test Score: 0.525/0.512\n",
      "k: 11, Train/Test Score: 0.500/0.415\n",
      "k: 13, Train/Test Score: 0.500/0.341\n",
      "k: 15, Train/Test Score: 0.525/0.390\n",
      "k: 17, Train/Test Score: 0.425/0.366\n",
      "k: 19, Train/Test Score: 0.475/0.293\n"
     ]
    },
    {
     "data": {
      "image/png": "[encoded data removed]",
      "text/plain": [
       "<Figure size 432x288 with 1 Axes>"
      ]
     },
     "metadata": {
      "needs_background": "light"
     },
     "output_type": "display_data"
    }
   ],
   "source": [
    "from sklearn.neighbors import KNeighborsClassifier\n",
    "\n",
    "train_scores = []\n",
    "test_scores = []\n",
    "for k in range (1, 20, 2):\n",
    "    knn = KNeighborsClassifier(n_neighbors = k)\n",
    "    knn.fit(X_train_minmax, y_cat_train)\n",
    "    train_score = knn.score(X_train_minmax, y_cat_train)\n",
    "    test_score = knn.score(X_test_minmax, y_cat_test)\n",
    "    train_scores.append(train_score)\n",
    "    test_scores.append(test_score)\n",
    "    print(f\"k: {k}, Train/Test Score: {train_score:.3f}/{test_score:.3f}\")\n",
    "    \n",
    "    \n",
    "plt.plot(range(1, 20, 2), train_scores, marker='o')\n",
    "plt.plot(range(1, 20, 2), test_scores, marker=\"x\")\n",
    "plt.xlabel(\"k neighbors\")\n",
    "plt.ylabel(\"Testing accuracy Score\")\n",
    "plt.show()"
   ]
  },
  {
   "cell_type": "code",
   "execution_count": 61,
   "metadata": {
    "scrolled": true
   },
   "outputs": [
    {
     "name": "stdout",
     "output_type": "stream",
     "text": [
      "k=5 Test Acc: 0.537\n"
     ]
    }
   ],
   "source": [
    "#STEP 5: re-fit classifier with optimal k value\n",
    "knn = KNeighborsClassifier(n_neighbors = 5)\n",
    "knn.fit(X_train_minmax, y_cat_train)\n",
    "print(\"k=5 Test Acc: %.3f\" %knn.score(X_test_minmax, y_cat_test))"
   ]
  },
  {
   "cell_type": "code",
   "execution_count": 84,
   "metadata": {},
   "outputs": [],
   "source": [
    "import pickle\n",
    "pickle.dump(knn, open(\"./models/knn_mob.pkl\", \"wb\"))"
   ]
  },
  {
   "cell_type": "code",
   "execution_count": 85,
   "metadata": {},
   "outputs": [],
   "source": [
    "with open(\"knn_mob.pkl\", \"rb\") as f:\n",
    "    model_object = pickle.load(f)\n",
    "    f.close()"
   ]
  },
  {
   "cell_type": "code",
   "execution_count": 83,
   "metadata": {},
   "outputs": [
    {
     "data": {
      "text/plain": [
       "KNeighborsClassifier()"
      ]
     },
     "execution_count": 83,
     "metadata": {},
     "output_type": "execute_result"
    }
   ],
   "source": [
    "model_object"
   ]
  },
  {
   "cell_type": "markdown",
   "metadata": {},
   "source": []
  }
 ],
 "metadata": {
  "kernelspec": {
   "display_name": "Python [conda env:PythonAdv] *",
   "language": "python",
   "name": "conda-env-PythonAdv-py"
  },
  "language_info": {
   "codemirror_mode": {
    "name": "ipython",
    "version": 3
   },
   "file_extension": ".py",
   "mimetype": "text/x-python",
   "name": "python",
   "nbconvert_exporter": "python",
   "pygments_lexer": "ipython3",
   "version": "3.6.10"
  }
 },
 "nbformat": 4,
 "nbformat_minor": 4
}
