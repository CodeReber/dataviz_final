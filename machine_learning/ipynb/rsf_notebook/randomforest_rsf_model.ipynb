{
 "cells": [
  {
   "cell_type": "code",
   "execution_count": 1,
   "metadata": {
    "scrolled": false
   },
   "outputs": [
    {
     "name": "stdout",
     "output_type": "stream",
     "text": [
      "Requirement already up-to-date: sklearn in /opt/anaconda3/lib/python3.7/site-packages (0.0)\r\n",
      "Requirement already satisfied, skipping upgrade: scikit-learn in /opt/anaconda3/lib/python3.7/site-packages (from sklearn) (0.22.1)\r\n",
      "Requirement already satisfied, skipping upgrade: scipy>=0.17.0 in /opt/anaconda3/lib/python3.7/site-packages (from scikit-learn->sklearn) (1.4.1)\r\n",
      "Requirement already satisfied, skipping upgrade: numpy>=1.11.0 in /opt/anaconda3/lib/python3.7/site-packages (from scikit-learn->sklearn) (1.18.1)\r\n",
      "Requirement already satisfied, skipping upgrade: joblib>=0.11 in /opt/anaconda3/lib/python3.7/site-packages (from scikit-learn->sklearn) (0.14.1)\r\n"
     ]
    }
   ],
   "source": [
    "# Update sklearn to prevent version mismatches\n",
    "!pip install sklearn --upgrade"
   ]
  },
  {
   "cell_type": "code",
   "execution_count": 2,
   "metadata": {
    "scrolled": true
   },
   "outputs": [
    {
     "name": "stdout",
     "output_type": "stream",
     "text": [
      "Requirement already satisfied: joblib in /opt/anaconda3/lib/python3.7/site-packages (0.14.1)\r\n"
     ]
    }
   ],
   "source": [
    "# install joblib for saving\n",
    "# Restart kernel after installing \n",
    "!pip install joblib"
   ]
  },
  {
   "cell_type": "code",
   "execution_count": 3,
   "metadata": {},
   "outputs": [],
   "source": [
    "import pandas as pd\n",
    "import matplotlib.pyplot as plt\n",
    "import numpy as np\n",
    "from pprint import pprint\n",
    "# import missingno as msno\n",
    "import seaborn as sns"
   ]
  },
  {
   "cell_type": "code",
   "execution_count": 4,
   "metadata": {},
   "outputs": [],
   "source": [
    "df = pd.read_csv(\"../data/ml_compile.csv\")"
   ]
  },
  {
   "cell_type": "code",
   "execution_count": 5,
   "metadata": {
    "scrolled": false
   },
   "outputs": [
    {
     "data": {
      "text/html": [
       "<div>\n",
       "<style scoped>\n",
       "    .dataframe tbody tr th:only-of-type {\n",
       "        vertical-align: middle;\n",
       "    }\n",
       "\n",
       "    .dataframe tbody tr th {\n",
       "        vertical-align: top;\n",
       "    }\n",
       "\n",
       "    .dataframe thead th {\n",
       "        text-align: right;\n",
       "    }\n",
       "</style>\n",
       "<table border=\"1\" class=\"dataframe\">\n",
       "  <thead>\n",
       "    <tr style=\"text-align: right;\">\n",
       "      <th></th>\n",
       "      <th>land_avg_temp</th>\n",
       "      <th>land_max_temp</th>\n",
       "      <th>land_min_temp</th>\n",
       "      <th>land_ocean_avg_temp</th>\n",
       "      <th>north_min_temp_anomoly</th>\n",
       "      <th>north_max_temp_anomoly</th>\n",
       "      <th>north_mean_temp_anomoly</th>\n",
       "      <th>global_avg_co2</th>\n",
       "      <th>seaice_extent</th>\n",
       "      <th>bear_rsf_mean</th>\n",
       "      <th>bear_rsf_var</th>\n",
       "      <th>num_bears</th>\n",
       "      <th>avg_distance_traveled</th>\n",
       "      <th>avg_num_land_dens</th>\n",
       "      <th>avg_num_ice_dens</th>\n",
       "      <th>avg_num_active_dens</th>\n",
       "    </tr>\n",
       "  </thead>\n",
       "  <tbody>\n",
       "    <tr>\n",
       "      <th>count</th>\n",
       "      <td>1392.000000</td>\n",
       "      <td>1392.000000</td>\n",
       "      <td>1392.000000</td>\n",
       "      <td>1392.000000</td>\n",
       "      <td>1428.000000</td>\n",
       "      <td>1434.000000</td>\n",
       "      <td>1446.000000</td>\n",
       "      <td>752.000000</td>\n",
       "      <td>506.000000</td>\n",
       "      <td>334.000000</td>\n",
       "      <td>334.000000</td>\n",
       "      <td>84.000000</td>\n",
       "      <td>8.400000e+01</td>\n",
       "      <td>84.000000</td>\n",
       "      <td>84.000000</td>\n",
       "      <td>84.000000</td>\n",
       "    </tr>\n",
       "    <tr>\n",
       "      <th>mean</th>\n",
       "      <td>8.762454</td>\n",
       "      <td>14.516995</td>\n",
       "      <td>3.000047</td>\n",
       "      <td>15.317030</td>\n",
       "      <td>0.122602</td>\n",
       "      <td>0.213536</td>\n",
       "      <td>0.213620</td>\n",
       "      <td>355.582926</td>\n",
       "      <td>11.405146</td>\n",
       "      <td>15.820979</td>\n",
       "      <td>3.045457</td>\n",
       "      <td>6.690476</td>\n",
       "      <td>5.916332e+08</td>\n",
       "      <td>41.553384</td>\n",
       "      <td>504.157876</td>\n",
       "      <td>40.258267</td>\n",
       "    </tr>\n",
       "    <tr>\n",
       "      <th>std</th>\n",
       "      <td>4.199958</td>\n",
       "      <td>4.294911</td>\n",
       "      <td>4.114758</td>\n",
       "      <td>1.259405</td>\n",
       "      <td>0.709268</td>\n",
       "      <td>0.620087</td>\n",
       "      <td>0.630979</td>\n",
       "      <td>28.949294</td>\n",
       "      <td>3.252910</td>\n",
       "      <td>2.430975</td>\n",
       "      <td>1.087362</td>\n",
       "      <td>3.951441</td>\n",
       "      <td>6.769937e+08</td>\n",
       "      <td>76.629269</td>\n",
       "      <td>481.543071</td>\n",
       "      <td>70.866545</td>\n",
       "    </tr>\n",
       "    <tr>\n",
       "      <th>min</th>\n",
       "      <td>1.395000</td>\n",
       "      <td>7.082000</td>\n",
       "      <td>-4.298000</td>\n",
       "      <td>12.839000</td>\n",
       "      <td>-1.951000</td>\n",
       "      <td>-1.772000</td>\n",
       "      <td>-1.647000</td>\n",
       "      <td>312.430000</td>\n",
       "      <td>3.565600</td>\n",
       "      <td>6.093212</td>\n",
       "      <td>0.000000</td>\n",
       "      <td>1.000000</td>\n",
       "      <td>1.784230e+05</td>\n",
       "      <td>0.000000</td>\n",
       "      <td>0.000000</td>\n",
       "      <td>0.000000</td>\n",
       "    </tr>\n",
       "    <tr>\n",
       "      <th>25%</th>\n",
       "      <td>4.655750</td>\n",
       "      <td>10.426250</td>\n",
       "      <td>-1.103250</td>\n",
       "      <td>14.150750</td>\n",
       "      <td>-0.354250</td>\n",
       "      <td>-0.184750</td>\n",
       "      <td>-0.198000</td>\n",
       "      <td>329.112500</td>\n",
       "      <td>8.571152</td>\n",
       "      <td>14.872230</td>\n",
       "      <td>2.420035</td>\n",
       "      <td>3.000000</td>\n",
       "      <td>1.296206e+08</td>\n",
       "      <td>0.000000</td>\n",
       "      <td>171.946429</td>\n",
       "      <td>0.000000</td>\n",
       "    </tr>\n",
       "    <tr>\n",
       "      <th>50%</th>\n",
       "      <td>9.087500</td>\n",
       "      <td>14.899000</td>\n",
       "      <td>3.213500</td>\n",
       "      <td>15.373000</td>\n",
       "      <td>0.022500</td>\n",
       "      <td>0.140500</td>\n",
       "      <td>0.098000</td>\n",
       "      <td>352.880000</td>\n",
       "      <td>12.095933</td>\n",
       "      <td>16.388356</td>\n",
       "      <td>2.949145</td>\n",
       "      <td>7.000000</td>\n",
       "      <td>2.588397e+08</td>\n",
       "      <td>10.083333</td>\n",
       "      <td>270.750000</td>\n",
       "      <td>0.000000</td>\n",
       "    </tr>\n",
       "    <tr>\n",
       "      <th>75%</th>\n",
       "      <td>12.953000</td>\n",
       "      <td>18.867000</td>\n",
       "      <td>7.048000</td>\n",
       "      <td>16.477750</td>\n",
       "      <td>0.583250</td>\n",
       "      <td>0.563500</td>\n",
       "      <td>0.576500</td>\n",
       "      <td>378.857500</td>\n",
       "      <td>14.318582</td>\n",
       "      <td>17.471275</td>\n",
       "      <td>3.629055</td>\n",
       "      <td>8.000000</td>\n",
       "      <td>9.286488e+08</td>\n",
       "      <td>55.937500</td>\n",
       "      <td>820.386905</td>\n",
       "      <td>68.392857</td>\n",
       "    </tr>\n",
       "    <tr>\n",
       "      <th>max</th>\n",
       "      <td>15.482000</td>\n",
       "      <td>21.320000</td>\n",
       "      <td>9.715000</td>\n",
       "      <td>17.611000</td>\n",
       "      <td>2.970000</td>\n",
       "      <td>2.805000</td>\n",
       "      <td>2.877000</td>\n",
       "      <td>417.070000</td>\n",
       "      <td>16.341938</td>\n",
       "      <td>20.000000</td>\n",
       "      <td>6.027518</td>\n",
       "      <td>17.000000</td>\n",
       "      <td>2.617030e+09</td>\n",
       "      <td>422.333333</td>\n",
       "      <td>2012.500000</td>\n",
       "      <td>333.000000</td>\n",
       "    </tr>\n",
       "  </tbody>\n",
       "</table>\n",
       "</div>"
      ],
      "text/plain": [
       "       land_avg_temp  land_max_temp  land_min_temp  land_ocean_avg_temp  \\\n",
       "count    1392.000000    1392.000000    1392.000000          1392.000000   \n",
       "mean        8.762454      14.516995       3.000047            15.317030   \n",
       "std         4.199958       4.294911       4.114758             1.259405   \n",
       "min         1.395000       7.082000      -4.298000            12.839000   \n",
       "25%         4.655750      10.426250      -1.103250            14.150750   \n",
       "50%         9.087500      14.899000       3.213500            15.373000   \n",
       "75%        12.953000      18.867000       7.048000            16.477750   \n",
       "max        15.482000      21.320000       9.715000            17.611000   \n",
       "\n",
       "       north_min_temp_anomoly  north_max_temp_anomoly  \\\n",
       "count             1428.000000             1434.000000   \n",
       "mean                 0.122602                0.213536   \n",
       "std                  0.709268                0.620087   \n",
       "min                 -1.951000               -1.772000   \n",
       "25%                 -0.354250               -0.184750   \n",
       "50%                  0.022500                0.140500   \n",
       "75%                  0.583250                0.563500   \n",
       "max                  2.970000                2.805000   \n",
       "\n",
       "       north_mean_temp_anomoly  global_avg_co2  seaice_extent  bear_rsf_mean  \\\n",
       "count              1446.000000      752.000000     506.000000     334.000000   \n",
       "mean                  0.213620      355.582926      11.405146      15.820979   \n",
       "std                   0.630979       28.949294       3.252910       2.430975   \n",
       "min                  -1.647000      312.430000       3.565600       6.093212   \n",
       "25%                  -0.198000      329.112500       8.571152      14.872230   \n",
       "50%                   0.098000      352.880000      12.095933      16.388356   \n",
       "75%                   0.576500      378.857500      14.318582      17.471275   \n",
       "max                   2.877000      417.070000      16.341938      20.000000   \n",
       "\n",
       "       bear_rsf_var  num_bears  avg_distance_traveled  avg_num_land_dens  \\\n",
       "count    334.000000  84.000000           8.400000e+01          84.000000   \n",
       "mean       3.045457   6.690476           5.916332e+08          41.553384   \n",
       "std        1.087362   3.951441           6.769937e+08          76.629269   \n",
       "min        0.000000   1.000000           1.784230e+05           0.000000   \n",
       "25%        2.420035   3.000000           1.296206e+08           0.000000   \n",
       "50%        2.949145   7.000000           2.588397e+08          10.083333   \n",
       "75%        3.629055   8.000000           9.286488e+08          55.937500   \n",
       "max        6.027518  17.000000           2.617030e+09         422.333333   \n",
       "\n",
       "       avg_num_ice_dens  avg_num_active_dens  \n",
       "count         84.000000            84.000000  \n",
       "mean         504.157876            40.258267  \n",
       "std          481.543071            70.866545  \n",
       "min            0.000000             0.000000  \n",
       "25%          171.946429             0.000000  \n",
       "50%          270.750000             0.000000  \n",
       "75%          820.386905            68.392857  \n",
       "max         2012.500000           333.000000  "
      ]
     },
     "execution_count": 5,
     "metadata": {},
     "output_type": "execute_result"
    }
   ],
   "source": [
    "df.describe()"
   ]
  },
  {
   "cell_type": "code",
   "execution_count": 6,
   "metadata": {
    "scrolled": true
   },
   "outputs": [],
   "source": [
    "# df = df[['land_avg_temp', 'land_max_temp', 'land_min_temp',\n",
    "#        'land_ocean_avg_temp', 'north_min_temp_anomoly',\n",
    "#        'north_max_temp_anomoly', 'north_mean_temp_anomoly', 'global_avg_co2',\n",
    "#        'seaice_extent', 'bear_rsf_mean']]\n",
    "df = df[['land_avg_temp', 'global_avg_co2',\n",
    "       'seaice_extent', 'bear_rsf_mean']]"
   ]
  },
  {
   "cell_type": "code",
   "execution_count": 7,
   "metadata": {},
   "outputs": [
    {
     "data": {
      "text/html": [
       "<div>\n",
       "<style scoped>\n",
       "    .dataframe tbody tr th:only-of-type {\n",
       "        vertical-align: middle;\n",
       "    }\n",
       "\n",
       "    .dataframe tbody tr th {\n",
       "        vertical-align: top;\n",
       "    }\n",
       "\n",
       "    .dataframe thead th {\n",
       "        text-align: right;\n",
       "    }\n",
       "</style>\n",
       "<table border=\"1\" class=\"dataframe\">\n",
       "  <thead>\n",
       "    <tr style=\"text-align: right;\">\n",
       "      <th></th>\n",
       "      <th>land_avg_temp</th>\n",
       "      <th>global_avg_co2</th>\n",
       "      <th>seaice_extent</th>\n",
       "      <th>bear_rsf_mean</th>\n",
       "    </tr>\n",
       "  </thead>\n",
       "  <tbody>\n",
       "    <tr>\n",
       "      <th>count</th>\n",
       "      <td>331.000000</td>\n",
       "      <td>331.000000</td>\n",
       "      <td>331.000000</td>\n",
       "      <td>331.000000</td>\n",
       "    </tr>\n",
       "    <tr>\n",
       "      <th>mean</th>\n",
       "      <td>9.385082</td>\n",
       "      <td>372.225619</td>\n",
       "      <td>11.357481</td>\n",
       "      <td>15.851405</td>\n",
       "    </tr>\n",
       "    <tr>\n",
       "      <th>std</th>\n",
       "      <td>4.121994</td>\n",
       "      <td>16.649756</td>\n",
       "      <td>3.220250</td>\n",
       "      <td>2.392539</td>\n",
       "    </tr>\n",
       "    <tr>\n",
       "      <th>min</th>\n",
       "      <td>2.710000</td>\n",
       "      <td>343.130000</td>\n",
       "      <td>3.565600</td>\n",
       "      <td>6.093212</td>\n",
       "    </tr>\n",
       "    <tr>\n",
       "      <th>25%</th>\n",
       "      <td>5.552000</td>\n",
       "      <td>356.145000</td>\n",
       "      <td>8.513177</td>\n",
       "      <td>14.928223</td>\n",
       "    </tr>\n",
       "    <tr>\n",
       "      <th>50%</th>\n",
       "      <td>9.618000</td>\n",
       "      <td>372.250000</td>\n",
       "      <td>12.016400</td>\n",
       "      <td>16.396830</td>\n",
       "    </tr>\n",
       "    <tr>\n",
       "      <th>75%</th>\n",
       "      <td>13.443000</td>\n",
       "      <td>386.235000</td>\n",
       "      <td>14.326682</td>\n",
       "      <td>17.470912</td>\n",
       "    </tr>\n",
       "    <tr>\n",
       "      <th>max</th>\n",
       "      <td>15.482000</td>\n",
       "      <td>403.960000</td>\n",
       "      <td>16.050143</td>\n",
       "      <td>20.000000</td>\n",
       "    </tr>\n",
       "  </tbody>\n",
       "</table>\n",
       "</div>"
      ],
      "text/plain": [
       "       land_avg_temp  global_avg_co2  seaice_extent  bear_rsf_mean\n",
       "count     331.000000      331.000000     331.000000     331.000000\n",
       "mean        9.385082      372.225619      11.357481      15.851405\n",
       "std         4.121994       16.649756       3.220250       2.392539\n",
       "min         2.710000      343.130000       3.565600       6.093212\n",
       "25%         5.552000      356.145000       8.513177      14.928223\n",
       "50%         9.618000      372.250000      12.016400      16.396830\n",
       "75%        13.443000      386.235000      14.326682      17.470912\n",
       "max        15.482000      403.960000      16.050143      20.000000"
      ]
     },
     "execution_count": 7,
     "metadata": {},
     "output_type": "execute_result"
    }
   ],
   "source": [
    "df = df.dropna(axis=0, how=\"any\")\n",
    "df.describe()"
   ]
  },
  {
   "cell_type": "code",
   "execution_count": 45,
   "metadata": {},
   "outputs": [
    {
     "name": "stdout",
     "output_type": "stream",
     "text": [
      "16.39683045\n"
     ]
    }
   ],
   "source": [
    "from statistics import median \n",
    "print(median(df[\"bear_rsf_mean\"]))"
   ]
  },
  {
   "cell_type": "markdown",
   "metadata": {},
   "source": [
    "## Categorical Algorithms\n",
    "### Preprocessing - Transform RSF values to Categorical"
   ]
  },
  {
   "cell_type": "code",
   "execution_count": 91,
   "metadata": {},
   "outputs": [],
   "source": [
    "conditions = [(df[\"bear_rsf_mean\"] < 15), (df[\"bear_rsf_mean\"] > 15) & (df[\"bear_rsf_mean\"] < 18), (df[\"bear_rsf_mean\"]>18)]\n",
    "values = ['low', 'mid', 'high']\n",
    "df[\"bear_mean_cat\"] = np.select(conditions,values)"
   ]
  },
  {
   "cell_type": "code",
   "execution_count": 92,
   "metadata": {},
   "outputs": [],
   "source": [
    "#Change Threshold to 9\n",
    "df_cat = df [['land_avg_temp', 'global_avg_co2',\n",
    "       'seaice_extent','bear_mean_cat']]"
   ]
  },
  {
   "cell_type": "markdown",
   "metadata": {},
   "source": [
    "### Assign new variables"
   ]
  },
  {
   "cell_type": "code",
   "execution_count": 93,
   "metadata": {},
   "outputs": [
    {
     "name": "stdout",
     "output_type": "stream",
     "text": [
      "(331, 3) (331,)\n"
     ]
    }
   ],
   "source": [
    "X = df_cat[['land_avg_temp', 'global_avg_co2',\n",
    "       'seaice_extent']]\n",
    "y_cat = df_cat[\"bear_mean_cat\"]\n",
    "print(X.shape, y_cat.shape)"
   ]
  },
  {
   "cell_type": "markdown",
   "metadata": {},
   "source": [
    "### Split the data into testing and training dataset"
   ]
  },
  {
   "cell_type": "code",
   "execution_count": 94,
   "metadata": {},
   "outputs": [],
   "source": [
    "from sklearn.model_selection import train_test_split\n",
    "X_train, X_test, y_cat_train, y_cat_test = train_test_split(X, y_cat, test_size=0.5, random_state=42)"
   ]
  },
  {
   "cell_type": "markdown",
   "metadata": {},
   "source": [
    "### MinMaxScalar to fit and transform X features and y target"
   ]
  },
  {
   "cell_type": "code",
   "execution_count": 95,
   "metadata": {},
   "outputs": [],
   "source": [
    "#Fit Transform using MinMaxScalar for X features\n",
    "from sklearn.preprocessing import MinMaxScaler\n",
    "X_minmax = MinMaxScaler().fit(X_train)\n",
    "\n",
    "X_train_minmax = X_minmax.transform(X_train)\n",
    "X_test_minmax = X_minmax.transform(X_test)"
   ]
  },
  {
   "cell_type": "markdown",
   "metadata": {},
   "source": [
    "# Random Forest Analysis"
   ]
  },
  {
   "cell_type": "code",
   "execution_count": 96,
   "metadata": {},
   "outputs": [],
   "source": [
    "from sklearn.ensemble import RandomForestClassifier\n",
    "y_cat_rf = df_cat[\"bear_mean_cat\"]\n",
    "rf = RandomForestClassifier(n_estimators=200)\n",
    "rf = rf.fit(X_train_minmax, y_cat_train)\n",
    "score = rf.score(X_test_minmax, y_cat_test)"
   ]
  },
  {
   "cell_type": "code",
   "execution_count": 97,
   "metadata": {},
   "outputs": [],
   "source": [
    "from sklearn.preprocessing import LabelEncoder\n",
    "label_encoder = LabelEncoder()\n",
    "label_encoder.fit(y_cat_train)\n",
    "encoded_y_train = label_encoder.transform(y_cat_train)\n",
    "encoded_y_test = label_encoder.transform(y_cat_test)"
   ]
  },
  {
   "cell_type": "code",
   "execution_count": 98,
   "metadata": {},
   "outputs": [
    {
     "name": "stdout",
     "output_type": "stream",
     "text": [
      "{'high': 0, 'low': 1, 'mid': 2}\n"
     ]
    }
   ],
   "source": [
    "from sklearn import preprocessing\n",
    "le = preprocessing.LabelEncoder()\n",
    "le.fit(y_cat_train)\n",
    "le_name_mapping = dict(zip(le.classes_, le.transform(le.classes_)))\n",
    "print(le_name_mapping)"
   ]
  },
  {
   "cell_type": "code",
   "execution_count": 99,
   "metadata": {},
   "outputs": [
    {
     "data": {
      "text/plain": [
       "0.6506024096385542"
      ]
     },
     "execution_count": 99,
     "metadata": {},
     "output_type": "execute_result"
    }
   ],
   "source": [
    "rf2 = RandomForestClassifier(n_estimators=200, min_samples_split =5, min_samples_leaf = 4, max_features='auto', max_depth=60, bootstrap='True')\n",
    "rf2 = rf2.fit(X_train_minmax, encoded_y_train)\n",
    "score = rf2.score(X_test_minmax, encoded_y_test)\n",
    "score"
   ]
  },
  {
   "cell_type": "code",
   "execution_count": 1,
   "metadata": {},
   "outputs": [
    {
     "ename": "NameError",
     "evalue": "name 'rf2' is not defined",
     "output_type": "error",
     "traceback": [
      "\u001b[0;31m---------------------------------------------------------------------------\u001b[0m",
      "\u001b[0;31mNameError\u001b[0m                                 Traceback (most recent call last)",
      "\u001b[0;32m<ipython-input-1-e8ed881e2a3e>\u001b[0m in \u001b[0;36m<module>\u001b[0;34m\u001b[0m\n\u001b[1;32m      1\u001b[0m \u001b[0;32mimport\u001b[0m \u001b[0mpickle\u001b[0m\u001b[0;34m\u001b[0m\u001b[0;34m\u001b[0m\u001b[0m\n\u001b[0;32m----> 2\u001b[0;31m \u001b[0mpickle\u001b[0m\u001b[0;34m.\u001b[0m\u001b[0mdump\u001b[0m\u001b[0;34m(\u001b[0m\u001b[0mrf2\u001b[0m\u001b[0;34m,\u001b[0m \u001b[0mopen\u001b[0m\u001b[0;34m(\u001b[0m\u001b[0;34m\"/../../rf_rsf2.pkl\"\u001b[0m\u001b[0;34m,\u001b[0m \u001b[0;34m\"wb\"\u001b[0m\u001b[0;34m)\u001b[0m\u001b[0;34m)\u001b[0m\u001b[0;34m\u001b[0m\u001b[0;34m\u001b[0m\u001b[0m\n\u001b[0m",
      "\u001b[0;31mNameError\u001b[0m: name 'rf2' is not defined"
     ]
    }
   ],
   "source": [
    "import pickle\n",
    "pickle.dump(rf2, open(\"/../../rf_rsf2.pkl\", \"wb\"))"
   ]
  },
  {
   "cell_type": "code",
   "execution_count": 101,
   "metadata": {},
   "outputs": [],
   "source": [
    "#load_file = open(\"rf_rsf.pkl\", \"rb\")\n",
    "with open(\"/../..mod/rf_rsf2.pkl\", \"rb\") as f:\n",
    "    model_object = pickle.load(f)\n",
    "    f.close()"
   ]
  },
  {
   "cell_type": "code",
   "execution_count": 102,
   "metadata": {},
   "outputs": [
    {
     "data": {
      "text/plain": [
       "RandomForestClassifier(bootstrap='True', ccp_alpha=0.0, class_weight=None,\n",
       "                       criterion='gini', max_depth=60, max_features='auto',\n",
       "                       max_leaf_nodes=None, max_samples=None,\n",
       "                       min_impurity_decrease=0.0, min_impurity_split=None,\n",
       "                       min_samples_leaf=4, min_samples_split=5,\n",
       "                       min_weight_fraction_leaf=0.0, n_estimators=200,\n",
       "                       n_jobs=None, oob_score=False, random_state=None,\n",
       "                       verbose=0, warm_start=False)"
      ]
     },
     "execution_count": 102,
     "metadata": {},
     "output_type": "execute_result"
    }
   ],
   "source": [
    "model_object"
   ]
  },
  {
   "cell_type": "code",
   "execution_count": 103,
   "metadata": {},
   "outputs": [
    {
     "name": "stdout",
     "output_type": "stream",
     "text": [
      "[2]\n"
     ]
    }
   ],
   "source": [
    " #print(model_object)\n",
    "from sklearn.preprocessing import MinMaxScaler\n",
    "seaice = 6\n",
    "temp = 2\n",
    "co2 = 440\n",
    "X_test = [[temp, co2, seaice]]\n",
    "X_minmax = MinMaxScaler().fit(X_test)\n",
    "X_test_minmax = X_minmax.transform(X_test)\n",
    "Ypredict = model_object.predict(X_test_minmax)  \n",
    "print(Ypredict)"
   ]
  },
  {
   "cell_type": "code",
   "execution_count": null,
   "metadata": {},
   "outputs": [],
   "source": []
  }
 ],
 "metadata": {
  "kernelspec": {
   "display_name": "Python 3",
   "language": "python",
   "name": "python3"
  },
  "language_info": {
   "codemirror_mode": {
    "name": "ipython",
    "version": 3
   },
   "file_extension": ".py",
   "mimetype": "text/x-python",
   "name": "python",
   "nbconvert_exporter": "python",
   "pygments_lexer": "ipython3",
   "version": "3.6.10"
  }
 },
 "nbformat": 4,
 "nbformat_minor": 4
}
