{
 "cells": [
  {
   "cell_type": "code",
   "execution_count": 2,
   "metadata": {
    "scrolled": false
   },
   "outputs": [
    {
     "name": "stdout",
     "output_type": "stream",
     "text": [
      "Requirement already up-to-date: sklearn in /opt/anaconda3/envs/PythonAdv/lib/python3.6/site-packages (0.0)\r\n",
      "Requirement already satisfied, skipping upgrade: scikit-learn in /opt/anaconda3/envs/PythonAdv/lib/python3.6/site-packages (from sklearn) (0.23.1)\r\n",
      "Requirement already satisfied, skipping upgrade: joblib>=0.11 in /opt/anaconda3/envs/PythonAdv/lib/python3.6/site-packages (from scikit-learn->sklearn) (0.15.1)\r\n",
      "Requirement already satisfied, skipping upgrade: scipy>=0.19.1 in /opt/anaconda3/envs/PythonAdv/lib/python3.6/site-packages (from scikit-learn->sklearn) (1.5.0)\r\n",
      "Requirement already satisfied, skipping upgrade: numpy>=1.13.3 in /opt/anaconda3/envs/PythonAdv/lib/python3.6/site-packages (from scikit-learn->sklearn) (1.18.5)\r\n",
      "Requirement already satisfied, skipping upgrade: threadpoolctl>=2.0.0 in /opt/anaconda3/envs/PythonAdv/lib/python3.6/site-packages (from scikit-learn->sklearn) (2.1.0)\r\n"
     ]
    }
   ],
   "source": [
    "# Update sklearn to prevent version mismatches\n",
    "!pip install sklearn --upgrade"
   ]
  },
  {
   "cell_type": "code",
   "execution_count": 3,
   "metadata": {},
   "outputs": [
    {
     "name": "stdout",
     "output_type": "stream",
     "text": [
      "Requirement already satisfied: joblib in /opt/anaconda3/envs/PythonAdv/lib/python3.6/site-packages (0.15.1)\r\n"
     ]
    }
   ],
   "source": [
    "# install joblib for saving\n",
    "# Restart kernel after installing \n",
    "!pip install joblib"
   ]
  },
  {
   "cell_type": "code",
   "execution_count": 4,
   "metadata": {},
   "outputs": [],
   "source": [
    "import pandas as pd\n",
    "import matplotlib.pyplot as plt\n",
    "import numpy as np\n",
    "from pprint import pprint"
   ]
  },
  {
   "cell_type": "code",
   "execution_count": 5,
   "metadata": {},
   "outputs": [],
   "source": [
    "#Messed up the path somehow (duplicated file and placed in same folder)\n",
    "data = pd.read_csv(\"ml_compile.csv\")"
   ]
  },
  {
   "cell_type": "code",
   "execution_count": 6,
   "metadata": {},
   "outputs": [],
   "source": [
    "data['year'] = pd.DatetimeIndex(data['year_month']).year\n",
    "data['month']= pd.DatetimeIndex(data['year_month']).month"
   ]
  },
  {
   "cell_type": "markdown",
   "metadata": {},
   "source": [
    "Climate x Mobility"
   ]
  },
  {
   "cell_type": "code",
   "execution_count": 7,
   "metadata": {
    "scrolled": true
   },
   "outputs": [],
   "source": [
    "data = data[['land_avg_temp', 'land_max_temp', 'land_min_temp',\n",
    "       'land_ocean_avg_temp', 'north_min_temp_anomoly',\n",
    "       'north_max_temp_anomoly', 'north_mean_temp_anomoly', 'global_avg_co2',\n",
    "       'seaice_extent',\n",
    "       'avg_distance_traveled', 'year','month']]"
   ]
  },
  {
   "cell_type": "code",
   "execution_count": 8,
   "metadata": {
    "scrolled": true
   },
   "outputs": [
    {
     "data": {
      "text/html": [
       "<div>\n",
       "<style scoped>\n",
       "    .dataframe tbody tr th:only-of-type {\n",
       "        vertical-align: middle;\n",
       "    }\n",
       "\n",
       "    .dataframe tbody tr th {\n",
       "        vertical-align: top;\n",
       "    }\n",
       "\n",
       "    .dataframe thead th {\n",
       "        text-align: right;\n",
       "    }\n",
       "</style>\n",
       "<table border=\"1\" class=\"dataframe\">\n",
       "  <thead>\n",
       "    <tr style=\"text-align: right;\">\n",
       "      <th></th>\n",
       "      <th>land_avg_temp</th>\n",
       "      <th>land_max_temp</th>\n",
       "      <th>land_min_temp</th>\n",
       "      <th>land_ocean_avg_temp</th>\n",
       "      <th>north_min_temp_anomoly</th>\n",
       "      <th>north_max_temp_anomoly</th>\n",
       "      <th>north_mean_temp_anomoly</th>\n",
       "      <th>global_avg_co2</th>\n",
       "      <th>seaice_extent</th>\n",
       "      <th>avg_distance_traveled</th>\n",
       "      <th>year</th>\n",
       "      <th>month</th>\n",
       "    </tr>\n",
       "  </thead>\n",
       "  <tbody>\n",
       "    <tr>\n",
       "      <th>count</th>\n",
       "      <td>1392.000000</td>\n",
       "      <td>1392.000000</td>\n",
       "      <td>1392.000000</td>\n",
       "      <td>1392.000000</td>\n",
       "      <td>1428.000000</td>\n",
       "      <td>1434.000000</td>\n",
       "      <td>1446.000000</td>\n",
       "      <td>752.000000</td>\n",
       "      <td>506.000000</td>\n",
       "      <td>8.400000e+01</td>\n",
       "      <td>1450.000000</td>\n",
       "      <td>1450.000000</td>\n",
       "    </tr>\n",
       "    <tr>\n",
       "      <th>mean</th>\n",
       "      <td>8.762454</td>\n",
       "      <td>14.516995</td>\n",
       "      <td>3.000047</td>\n",
       "      <td>15.317030</td>\n",
       "      <td>0.122602</td>\n",
       "      <td>0.213536</td>\n",
       "      <td>0.213620</td>\n",
       "      <td>355.582926</td>\n",
       "      <td>11.405146</td>\n",
       "      <td>5.916332e+08</td>\n",
       "      <td>1959.917241</td>\n",
       "      <td>6.493103</td>\n",
       "    </tr>\n",
       "    <tr>\n",
       "      <th>std</th>\n",
       "      <td>4.199958</td>\n",
       "      <td>4.294911</td>\n",
       "      <td>4.114758</td>\n",
       "      <td>1.259405</td>\n",
       "      <td>0.709268</td>\n",
       "      <td>0.620087</td>\n",
       "      <td>0.630979</td>\n",
       "      <td>28.949294</td>\n",
       "      <td>3.252910</td>\n",
       "      <td>6.769937e+08</td>\n",
       "      <td>34.893410</td>\n",
       "      <td>3.450571</td>\n",
       "    </tr>\n",
       "    <tr>\n",
       "      <th>min</th>\n",
       "      <td>1.395000</td>\n",
       "      <td>7.082000</td>\n",
       "      <td>-4.298000</td>\n",
       "      <td>12.839000</td>\n",
       "      <td>-1.951000</td>\n",
       "      <td>-1.772000</td>\n",
       "      <td>-1.647000</td>\n",
       "      <td>312.430000</td>\n",
       "      <td>3.565600</td>\n",
       "      <td>1.784230e+05</td>\n",
       "      <td>1900.000000</td>\n",
       "      <td>1.000000</td>\n",
       "    </tr>\n",
       "    <tr>\n",
       "      <th>25%</th>\n",
       "      <td>4.655750</td>\n",
       "      <td>10.426250</td>\n",
       "      <td>-1.103250</td>\n",
       "      <td>14.150750</td>\n",
       "      <td>-0.354250</td>\n",
       "      <td>-0.184750</td>\n",
       "      <td>-0.198000</td>\n",
       "      <td>329.112500</td>\n",
       "      <td>8.571152</td>\n",
       "      <td>1.296206e+08</td>\n",
       "      <td>1930.000000</td>\n",
       "      <td>3.250000</td>\n",
       "    </tr>\n",
       "    <tr>\n",
       "      <th>50%</th>\n",
       "      <td>9.087500</td>\n",
       "      <td>14.899000</td>\n",
       "      <td>3.213500</td>\n",
       "      <td>15.373000</td>\n",
       "      <td>0.022500</td>\n",
       "      <td>0.140500</td>\n",
       "      <td>0.098000</td>\n",
       "      <td>352.880000</td>\n",
       "      <td>12.095933</td>\n",
       "      <td>2.588397e+08</td>\n",
       "      <td>1960.000000</td>\n",
       "      <td>6.000000</td>\n",
       "    </tr>\n",
       "    <tr>\n",
       "      <th>75%</th>\n",
       "      <td>12.953000</td>\n",
       "      <td>18.867000</td>\n",
       "      <td>7.048000</td>\n",
       "      <td>16.477750</td>\n",
       "      <td>0.583250</td>\n",
       "      <td>0.563500</td>\n",
       "      <td>0.576500</td>\n",
       "      <td>378.857500</td>\n",
       "      <td>14.318582</td>\n",
       "      <td>9.286488e+08</td>\n",
       "      <td>1990.000000</td>\n",
       "      <td>9.000000</td>\n",
       "    </tr>\n",
       "    <tr>\n",
       "      <th>max</th>\n",
       "      <td>15.482000</td>\n",
       "      <td>21.320000</td>\n",
       "      <td>9.715000</td>\n",
       "      <td>17.611000</td>\n",
       "      <td>2.970000</td>\n",
       "      <td>2.805000</td>\n",
       "      <td>2.877000</td>\n",
       "      <td>417.070000</td>\n",
       "      <td>16.341938</td>\n",
       "      <td>2.617030e+09</td>\n",
       "      <td>2020.000000</td>\n",
       "      <td>12.000000</td>\n",
       "    </tr>\n",
       "  </tbody>\n",
       "</table>\n",
       "</div>"
      ],
      "text/plain": [
       "       land_avg_temp  land_max_temp  land_min_temp  land_ocean_avg_temp  \\\n",
       "count    1392.000000    1392.000000    1392.000000          1392.000000   \n",
       "mean        8.762454      14.516995       3.000047            15.317030   \n",
       "std         4.199958       4.294911       4.114758             1.259405   \n",
       "min         1.395000       7.082000      -4.298000            12.839000   \n",
       "25%         4.655750      10.426250      -1.103250            14.150750   \n",
       "50%         9.087500      14.899000       3.213500            15.373000   \n",
       "75%        12.953000      18.867000       7.048000            16.477750   \n",
       "max        15.482000      21.320000       9.715000            17.611000   \n",
       "\n",
       "       north_min_temp_anomoly  north_max_temp_anomoly  \\\n",
       "count             1428.000000             1434.000000   \n",
       "mean                 0.122602                0.213536   \n",
       "std                  0.709268                0.620087   \n",
       "min                 -1.951000               -1.772000   \n",
       "25%                 -0.354250               -0.184750   \n",
       "50%                  0.022500                0.140500   \n",
       "75%                  0.583250                0.563500   \n",
       "max                  2.970000                2.805000   \n",
       "\n",
       "       north_mean_temp_anomoly  global_avg_co2  seaice_extent  \\\n",
       "count              1446.000000      752.000000     506.000000   \n",
       "mean                  0.213620      355.582926      11.405146   \n",
       "std                   0.630979       28.949294       3.252910   \n",
       "min                  -1.647000      312.430000       3.565600   \n",
       "25%                  -0.198000      329.112500       8.571152   \n",
       "50%                   0.098000      352.880000      12.095933   \n",
       "75%                   0.576500      378.857500      14.318582   \n",
       "max                   2.877000      417.070000      16.341938   \n",
       "\n",
       "       avg_distance_traveled         year        month  \n",
       "count           8.400000e+01  1450.000000  1450.000000  \n",
       "mean            5.916332e+08  1959.917241     6.493103  \n",
       "std             6.769937e+08    34.893410     3.450571  \n",
       "min             1.784230e+05  1900.000000     1.000000  \n",
       "25%             1.296206e+08  1930.000000     3.250000  \n",
       "50%             2.588397e+08  1960.000000     6.000000  \n",
       "75%             9.286488e+08  1990.000000     9.000000  \n",
       "max             2.617030e+09  2020.000000    12.000000  "
      ]
     },
     "execution_count": 8,
     "metadata": {},
     "output_type": "execute_result"
    }
   ],
   "source": [
    "data.describe()"
   ]
  },
  {
   "cell_type": "code",
   "execution_count": 9,
   "metadata": {
    "scrolled": true
   },
   "outputs": [
    {
     "data": {
      "text/html": [
       "<div>\n",
       "<style scoped>\n",
       "    .dataframe tbody tr th:only-of-type {\n",
       "        vertical-align: middle;\n",
       "    }\n",
       "\n",
       "    .dataframe tbody tr th {\n",
       "        vertical-align: top;\n",
       "    }\n",
       "\n",
       "    .dataframe thead th {\n",
       "        text-align: right;\n",
       "    }\n",
       "</style>\n",
       "<table border=\"1\" class=\"dataframe\">\n",
       "  <thead>\n",
       "    <tr style=\"text-align: right;\">\n",
       "      <th></th>\n",
       "      <th>land_avg_temp</th>\n",
       "      <th>land_max_temp</th>\n",
       "      <th>land_min_temp</th>\n",
       "      <th>land_ocean_avg_temp</th>\n",
       "      <th>north_min_temp_anomoly</th>\n",
       "      <th>north_max_temp_anomoly</th>\n",
       "      <th>north_mean_temp_anomoly</th>\n",
       "      <th>global_avg_co2</th>\n",
       "      <th>seaice_extent</th>\n",
       "      <th>avg_distance_traveled</th>\n",
       "      <th>year</th>\n",
       "      <th>month</th>\n",
       "    </tr>\n",
       "  </thead>\n",
       "  <tbody>\n",
       "    <tr>\n",
       "      <th>land_avg_temp</th>\n",
       "      <td>1.000000</td>\n",
       "      <td>0.999076</td>\n",
       "      <td>0.998209</td>\n",
       "      <td>0.987346</td>\n",
       "      <td>0.069317</td>\n",
       "      <td>0.144458</td>\n",
       "      <td>0.095659</td>\n",
       "      <td>0.088663</td>\n",
       "      <td>-0.667137</td>\n",
       "      <td>0.029090</td>\n",
       "      <td>0.085299</td>\n",
       "      <td>0.266410</td>\n",
       "    </tr>\n",
       "    <tr>\n",
       "      <th>land_max_temp</th>\n",
       "      <td>0.999076</td>\n",
       "      <td>1.000000</td>\n",
       "      <td>0.995339</td>\n",
       "      <td>0.986377</td>\n",
       "      <td>0.058684</td>\n",
       "      <td>0.144888</td>\n",
       "      <td>0.090742</td>\n",
       "      <td>0.091958</td>\n",
       "      <td>-0.652946</td>\n",
       "      <td>0.017592</td>\n",
       "      <td>0.070684</td>\n",
       "      <td>0.247404</td>\n",
       "    </tr>\n",
       "    <tr>\n",
       "      <th>land_min_temp</th>\n",
       "      <td>0.998209</td>\n",
       "      <td>0.995339</td>\n",
       "      <td>1.000000</td>\n",
       "      <td>0.987873</td>\n",
       "      <td>0.096254</td>\n",
       "      <td>0.156020</td>\n",
       "      <td>0.112055</td>\n",
       "      <td>0.084716</td>\n",
       "      <td>-0.686068</td>\n",
       "      <td>0.047454</td>\n",
       "      <td>0.119949</td>\n",
       "      <td>0.290433</td>\n",
       "    </tr>\n",
       "    <tr>\n",
       "      <th>land_ocean_avg_temp</th>\n",
       "      <td>0.987346</td>\n",
       "      <td>0.986377</td>\n",
       "      <td>0.987873</td>\n",
       "      <td>1.000000</td>\n",
       "      <td>0.177083</td>\n",
       "      <td>0.232009</td>\n",
       "      <td>0.190858</td>\n",
       "      <td>0.177876</td>\n",
       "      <td>-0.644335</td>\n",
       "      <td>0.047923</td>\n",
       "      <td>0.209138</td>\n",
       "      <td>0.207240</td>\n",
       "    </tr>\n",
       "    <tr>\n",
       "      <th>north_min_temp_anomoly</th>\n",
       "      <td>0.069317</td>\n",
       "      <td>0.058684</td>\n",
       "      <td>0.096254</td>\n",
       "      <td>0.177083</td>\n",
       "      <td>1.000000</td>\n",
       "      <td>0.918604</td>\n",
       "      <td>0.968153</td>\n",
       "      <td>0.762001</td>\n",
       "      <td>0.090248</td>\n",
       "      <td>-0.052521</td>\n",
       "      <td>0.779902</td>\n",
       "      <td>-0.026357</td>\n",
       "    </tr>\n",
       "    <tr>\n",
       "      <th>north_max_temp_anomoly</th>\n",
       "      <td>0.144458</td>\n",
       "      <td>0.144888</td>\n",
       "      <td>0.156020</td>\n",
       "      <td>0.232009</td>\n",
       "      <td>0.918604</td>\n",
       "      <td>1.000000</td>\n",
       "      <td>0.976367</td>\n",
       "      <td>0.739258</td>\n",
       "      <td>0.043991</td>\n",
       "      <td>-0.173893</td>\n",
       "      <td>0.620750</td>\n",
       "      <td>-0.031309</td>\n",
       "    </tr>\n",
       "    <tr>\n",
       "      <th>north_mean_temp_anomoly</th>\n",
       "      <td>0.095659</td>\n",
       "      <td>0.090742</td>\n",
       "      <td>0.112055</td>\n",
       "      <td>0.190858</td>\n",
       "      <td>0.968153</td>\n",
       "      <td>0.976367</td>\n",
       "      <td>1.000000</td>\n",
       "      <td>0.768406</td>\n",
       "      <td>0.085237</td>\n",
       "      <td>-0.119683</td>\n",
       "      <td>0.674713</td>\n",
       "      <td>-0.060354</td>\n",
       "    </tr>\n",
       "    <tr>\n",
       "      <th>global_avg_co2</th>\n",
       "      <td>0.088663</td>\n",
       "      <td>0.091958</td>\n",
       "      <td>0.084716</td>\n",
       "      <td>0.177876</td>\n",
       "      <td>0.762001</td>\n",
       "      <td>0.739258</td>\n",
       "      <td>0.768406</td>\n",
       "      <td>1.000000</td>\n",
       "      <td>-0.154138</td>\n",
       "      <td>-0.104859</td>\n",
       "      <td>0.988978</td>\n",
       "      <td>-0.044286</td>\n",
       "    </tr>\n",
       "    <tr>\n",
       "      <th>seaice_extent</th>\n",
       "      <td>-0.667137</td>\n",
       "      <td>-0.652946</td>\n",
       "      <td>-0.686068</td>\n",
       "      <td>-0.644335</td>\n",
       "      <td>0.090248</td>\n",
       "      <td>0.043991</td>\n",
       "      <td>0.085237</td>\n",
       "      <td>-0.154138</td>\n",
       "      <td>1.000000</td>\n",
       "      <td>-0.298021</td>\n",
       "      <td>-0.206406</td>\n",
       "      <td>-0.646081</td>\n",
       "    </tr>\n",
       "    <tr>\n",
       "      <th>avg_distance_traveled</th>\n",
       "      <td>0.029090</td>\n",
       "      <td>0.017592</td>\n",
       "      <td>0.047454</td>\n",
       "      <td>0.047923</td>\n",
       "      <td>-0.052521</td>\n",
       "      <td>-0.173893</td>\n",
       "      <td>-0.119683</td>\n",
       "      <td>-0.104859</td>\n",
       "      <td>-0.298021</td>\n",
       "      <td>1.000000</td>\n",
       "      <td>0.035018</td>\n",
       "      <td>0.303767</td>\n",
       "    </tr>\n",
       "    <tr>\n",
       "      <th>year</th>\n",
       "      <td>0.085299</td>\n",
       "      <td>0.070684</td>\n",
       "      <td>0.119949</td>\n",
       "      <td>0.209138</td>\n",
       "      <td>0.779902</td>\n",
       "      <td>0.620750</td>\n",
       "      <td>0.674713</td>\n",
       "      <td>0.988978</td>\n",
       "      <td>-0.206406</td>\n",
       "      <td>0.035018</td>\n",
       "      <td>1.000000</td>\n",
       "      <td>-0.003444</td>\n",
       "    </tr>\n",
       "    <tr>\n",
       "      <th>month</th>\n",
       "      <td>0.266410</td>\n",
       "      <td>0.247404</td>\n",
       "      <td>0.290433</td>\n",
       "      <td>0.207240</td>\n",
       "      <td>-0.026357</td>\n",
       "      <td>-0.031309</td>\n",
       "      <td>-0.060354</td>\n",
       "      <td>-0.044286</td>\n",
       "      <td>-0.646081</td>\n",
       "      <td>0.303767</td>\n",
       "      <td>-0.003444</td>\n",
       "      <td>1.000000</td>\n",
       "    </tr>\n",
       "  </tbody>\n",
       "</table>\n",
       "</div>"
      ],
      "text/plain": [
       "                         land_avg_temp  land_max_temp  land_min_temp  \\\n",
       "land_avg_temp                 1.000000       0.999076       0.998209   \n",
       "land_max_temp                 0.999076       1.000000       0.995339   \n",
       "land_min_temp                 0.998209       0.995339       1.000000   \n",
       "land_ocean_avg_temp           0.987346       0.986377       0.987873   \n",
       "north_min_temp_anomoly        0.069317       0.058684       0.096254   \n",
       "north_max_temp_anomoly        0.144458       0.144888       0.156020   \n",
       "north_mean_temp_anomoly       0.095659       0.090742       0.112055   \n",
       "global_avg_co2                0.088663       0.091958       0.084716   \n",
       "seaice_extent                -0.667137      -0.652946      -0.686068   \n",
       "avg_distance_traveled         0.029090       0.017592       0.047454   \n",
       "year                          0.085299       0.070684       0.119949   \n",
       "month                         0.266410       0.247404       0.290433   \n",
       "\n",
       "                         land_ocean_avg_temp  north_min_temp_anomoly  \\\n",
       "land_avg_temp                       0.987346                0.069317   \n",
       "land_max_temp                       0.986377                0.058684   \n",
       "land_min_temp                       0.987873                0.096254   \n",
       "land_ocean_avg_temp                 1.000000                0.177083   \n",
       "north_min_temp_anomoly              0.177083                1.000000   \n",
       "north_max_temp_anomoly              0.232009                0.918604   \n",
       "north_mean_temp_anomoly             0.190858                0.968153   \n",
       "global_avg_co2                      0.177876                0.762001   \n",
       "seaice_extent                      -0.644335                0.090248   \n",
       "avg_distance_traveled               0.047923               -0.052521   \n",
       "year                                0.209138                0.779902   \n",
       "month                               0.207240               -0.026357   \n",
       "\n",
       "                         north_max_temp_anomoly  north_mean_temp_anomoly  \\\n",
       "land_avg_temp                          0.144458                 0.095659   \n",
       "land_max_temp                          0.144888                 0.090742   \n",
       "land_min_temp                          0.156020                 0.112055   \n",
       "land_ocean_avg_temp                    0.232009                 0.190858   \n",
       "north_min_temp_anomoly                 0.918604                 0.968153   \n",
       "north_max_temp_anomoly                 1.000000                 0.976367   \n",
       "north_mean_temp_anomoly                0.976367                 1.000000   \n",
       "global_avg_co2                         0.739258                 0.768406   \n",
       "seaice_extent                          0.043991                 0.085237   \n",
       "avg_distance_traveled                 -0.173893                -0.119683   \n",
       "year                                   0.620750                 0.674713   \n",
       "month                                 -0.031309                -0.060354   \n",
       "\n",
       "                         global_avg_co2  seaice_extent  avg_distance_traveled  \\\n",
       "land_avg_temp                  0.088663      -0.667137               0.029090   \n",
       "land_max_temp                  0.091958      -0.652946               0.017592   \n",
       "land_min_temp                  0.084716      -0.686068               0.047454   \n",
       "land_ocean_avg_temp            0.177876      -0.644335               0.047923   \n",
       "north_min_temp_anomoly         0.762001       0.090248              -0.052521   \n",
       "north_max_temp_anomoly         0.739258       0.043991              -0.173893   \n",
       "north_mean_temp_anomoly        0.768406       0.085237              -0.119683   \n",
       "global_avg_co2                 1.000000      -0.154138              -0.104859   \n",
       "seaice_extent                 -0.154138       1.000000              -0.298021   \n",
       "avg_distance_traveled         -0.104859      -0.298021               1.000000   \n",
       "year                           0.988978      -0.206406               0.035018   \n",
       "month                         -0.044286      -0.646081               0.303767   \n",
       "\n",
       "                             year     month  \n",
       "land_avg_temp            0.085299  0.266410  \n",
       "land_max_temp            0.070684  0.247404  \n",
       "land_min_temp            0.119949  0.290433  \n",
       "land_ocean_avg_temp      0.209138  0.207240  \n",
       "north_min_temp_anomoly   0.779902 -0.026357  \n",
       "north_max_temp_anomoly   0.620750 -0.031309  \n",
       "north_mean_temp_anomoly  0.674713 -0.060354  \n",
       "global_avg_co2           0.988978 -0.044286  \n",
       "seaice_extent           -0.206406 -0.646081  \n",
       "avg_distance_traveled    0.035018  0.303767  \n",
       "year                     1.000000 -0.003444  \n",
       "month                   -0.003444  1.000000  "
      ]
     },
     "execution_count": 9,
     "metadata": {},
     "output_type": "execute_result"
    }
   ],
   "source": [
    "data.corr()"
   ]
  },
  {
   "cell_type": "markdown",
   "metadata": {},
   "source": [
    "Mobility Correlates\n",
    "1. Weak negative correlation with sea_ice extent\n",
    "2. Weak positive correlation with month\n",
    "\n",
    "new_data: correlated columns except \"avg_distance_traveled\"\n",
    "target_class: column avg_distance_traveled"
   ]
  },
  {
   "cell_type": "markdown",
   "metadata": {},
   "source": [
    "## Preprocessing the Data\n",
    "\n",
    "### Select correlated columns for prediction"
   ]
  },
  {
   "cell_type": "code",
   "execution_count": 19,
   "metadata": {
    "scrolled": true
   },
   "outputs": [],
   "source": [
    "cols = ['month',\n",
    "       'seaice_extent', \"avg_distance_traveled\"]\n",
    "df = data[cols]"
   ]
  },
  {
   "cell_type": "markdown",
   "metadata": {},
   "source": [
    "### Separate rows having null or missing values"
   ]
  },
  {
   "cell_type": "code",
   "execution_count": 21,
   "metadata": {
    "scrolled": false
   },
   "outputs": [],
   "source": [
    "test_df = df[df[\"avg_distance_traveled\"].isnull()]\n",
    "print(test_df.shape)"
   ]
  },
  {
   "cell_type": "code",
   "execution_count": 12,
   "metadata": {
    "scrolled": true
   },
   "outputs": [
    {
     "name": "stdout",
     "output_type": "stream",
     "text": [
      "(84, 3)\n"
     ]
    }
   ],
   "source": [
    "df = df.dropna(axis=0, how=\"any\")\n",
    "print(df.shape)"
   ]
  },
  {
   "cell_type": "markdown",
   "metadata": {},
   "source": [
    "### Split the data into testing and training dataset"
   ]
  },
  {
   "cell_type": "code",
   "execution_count": 13,
   "metadata": {},
   "outputs": [],
   "source": [
    "y_train = df[\"avg_distance_traveled\"]\n",
    "X_train = df.drop(\"avg_distance_traveled\", axis = 1)\n",
    "X_test = test_df.drop(\"avg_distance_traveled\", axis=1)\n",
    "X_test = X_test.dropna()"
   ]
  },
  {
   "cell_type": "markdown",
   "metadata": {},
   "source": [
    "## Linear Regression"
   ]
  },
  {
   "cell_type": "code",
   "execution_count": 14,
   "metadata": {},
   "outputs": [],
   "source": [
    "# Creat model and fit to scaled training data\n",
    "from sklearn.linear_model import LinearRegression\n",
    "model = LinearRegression()\n",
    "model.fit(X_train, y_train)\n",
    "y_pred = model.predict(X_test)"
   ]
  },
  {
   "cell_type": "code",
   "execution_count": 16,
   "metadata": {},
   "outputs": [
    {
     "ename": "ValueError",
     "evalue": "shape mismatch: value array of shape (421,) could not be broadcast to indexing result of shape (1367,)",
     "output_type": "error",
     "traceback": [
      "\u001b[0;31m---------------------------------------------------------------------------\u001b[0m",
      "\u001b[0;31mValueError\u001b[0m                                Traceback (most recent call last)",
      "\u001b[0;32m<ipython-input-16-7e5fa22c436d>\u001b[0m in \u001b[0;36m<module>\u001b[0;34m\u001b[0m\n\u001b[1;32m      1\u001b[0m \u001b[0my_pred\u001b[0m \u001b[0;34m=\u001b[0m \u001b[0mmodel\u001b[0m\u001b[0;34m.\u001b[0m\u001b[0mpredict\u001b[0m\u001b[0;34m(\u001b[0m\u001b[0mX_test\u001b[0m\u001b[0;34m)\u001b[0m\u001b[0;34m\u001b[0m\u001b[0;34m\u001b[0m\u001b[0m\n\u001b[0;32m----> 2\u001b[0;31m \u001b[0mdata\u001b[0m\u001b[0;34m.\u001b[0m\u001b[0mloc\u001b[0m\u001b[0;34m[\u001b[0m\u001b[0mdata\u001b[0m\u001b[0;34m.\u001b[0m\u001b[0mavg_distance_traveled\u001b[0m\u001b[0;34m.\u001b[0m\u001b[0misnull\u001b[0m\u001b[0;34m(\u001b[0m\u001b[0;34m)\u001b[0m\u001b[0;34m,\u001b[0m \u001b[0;34m\"avg_distance_traveled\"\u001b[0m\u001b[0;34m]\u001b[0m \u001b[0;34m=\u001b[0m \u001b[0my_pred\u001b[0m\u001b[0;34m\u001b[0m\u001b[0;34m\u001b[0m\u001b[0m\n\u001b[0m",
      "\u001b[0;32m/opt/anaconda3/envs/PythonAdv/lib/python3.6/site-packages/pandas/core/indexing.py\u001b[0m in \u001b[0;36m__setitem__\u001b[0;34m(self, key, value)\u001b[0m\n\u001b[1;32m    669\u001b[0m             \u001b[0mkey\u001b[0m \u001b[0;34m=\u001b[0m \u001b[0mcom\u001b[0m\u001b[0;34m.\u001b[0m\u001b[0mapply_if_callable\u001b[0m\u001b[0;34m(\u001b[0m\u001b[0mkey\u001b[0m\u001b[0;34m,\u001b[0m \u001b[0mself\u001b[0m\u001b[0;34m.\u001b[0m\u001b[0mobj\u001b[0m\u001b[0;34m)\u001b[0m\u001b[0;34m\u001b[0m\u001b[0;34m\u001b[0m\u001b[0m\n\u001b[1;32m    670\u001b[0m         \u001b[0mindexer\u001b[0m \u001b[0;34m=\u001b[0m \u001b[0mself\u001b[0m\u001b[0;34m.\u001b[0m\u001b[0m_get_setitem_indexer\u001b[0m\u001b[0;34m(\u001b[0m\u001b[0mkey\u001b[0m\u001b[0;34m)\u001b[0m\u001b[0;34m\u001b[0m\u001b[0;34m\u001b[0m\u001b[0m\n\u001b[0;32m--> 671\u001b[0;31m         \u001b[0mself\u001b[0m\u001b[0;34m.\u001b[0m\u001b[0m_setitem_with_indexer\u001b[0m\u001b[0;34m(\u001b[0m\u001b[0mindexer\u001b[0m\u001b[0;34m,\u001b[0m \u001b[0mvalue\u001b[0m\u001b[0;34m)\u001b[0m\u001b[0;34m\u001b[0m\u001b[0;34m\u001b[0m\u001b[0m\n\u001b[0m\u001b[1;32m    672\u001b[0m \u001b[0;34m\u001b[0m\u001b[0m\n\u001b[1;32m    673\u001b[0m     \u001b[0;32mdef\u001b[0m \u001b[0m_validate_key\u001b[0m\u001b[0;34m(\u001b[0m\u001b[0mself\u001b[0m\u001b[0;34m,\u001b[0m \u001b[0mkey\u001b[0m\u001b[0;34m,\u001b[0m \u001b[0maxis\u001b[0m\u001b[0;34m:\u001b[0m \u001b[0mint\u001b[0m\u001b[0;34m)\u001b[0m\u001b[0;34m:\u001b[0m\u001b[0;34m\u001b[0m\u001b[0;34m\u001b[0m\u001b[0m\n",
      "\u001b[0;32m/opt/anaconda3/envs/PythonAdv/lib/python3.6/site-packages/pandas/core/indexing.py\u001b[0m in \u001b[0;36m_setitem_with_indexer\u001b[0;34m(self, indexer, value)\u001b[0m\n\u001b[1;32m   1063\u001b[0m             \u001b[0;31m# actually do the set\u001b[0m\u001b[0;34m\u001b[0m\u001b[0;34m\u001b[0m\u001b[0;34m\u001b[0m\u001b[0m\n\u001b[1;32m   1064\u001b[0m             \u001b[0mself\u001b[0m\u001b[0;34m.\u001b[0m\u001b[0mobj\u001b[0m\u001b[0;34m.\u001b[0m\u001b[0m_consolidate_inplace\u001b[0m\u001b[0;34m(\u001b[0m\u001b[0;34m)\u001b[0m\u001b[0;34m\u001b[0m\u001b[0;34m\u001b[0m\u001b[0m\n\u001b[0;32m-> 1065\u001b[0;31m             \u001b[0mself\u001b[0m\u001b[0;34m.\u001b[0m\u001b[0mobj\u001b[0m\u001b[0;34m.\u001b[0m\u001b[0m_data\u001b[0m \u001b[0;34m=\u001b[0m \u001b[0mself\u001b[0m\u001b[0;34m.\u001b[0m\u001b[0mobj\u001b[0m\u001b[0;34m.\u001b[0m\u001b[0m_data\u001b[0m\u001b[0;34m.\u001b[0m\u001b[0msetitem\u001b[0m\u001b[0;34m(\u001b[0m\u001b[0mindexer\u001b[0m\u001b[0;34m=\u001b[0m\u001b[0mindexer\u001b[0m\u001b[0;34m,\u001b[0m \u001b[0mvalue\u001b[0m\u001b[0;34m=\u001b[0m\u001b[0mvalue\u001b[0m\u001b[0;34m)\u001b[0m\u001b[0;34m\u001b[0m\u001b[0;34m\u001b[0m\u001b[0m\n\u001b[0m\u001b[1;32m   1066\u001b[0m             \u001b[0mself\u001b[0m\u001b[0;34m.\u001b[0m\u001b[0mobj\u001b[0m\u001b[0;34m.\u001b[0m\u001b[0m_maybe_update_cacher\u001b[0m\u001b[0;34m(\u001b[0m\u001b[0mclear\u001b[0m\u001b[0;34m=\u001b[0m\u001b[0;32mTrue\u001b[0m\u001b[0;34m)\u001b[0m\u001b[0;34m\u001b[0m\u001b[0;34m\u001b[0m\u001b[0m\n\u001b[1;32m   1067\u001b[0m \u001b[0;34m\u001b[0m\u001b[0m\n",
      "\u001b[0;32m/opt/anaconda3/envs/PythonAdv/lib/python3.6/site-packages/pandas/core/internals/managers.py\u001b[0m in \u001b[0;36msetitem\u001b[0;34m(self, **kwargs)\u001b[0m\n\u001b[1;32m    559\u001b[0m \u001b[0;34m\u001b[0m\u001b[0m\n\u001b[1;32m    560\u001b[0m     \u001b[0;32mdef\u001b[0m \u001b[0msetitem\u001b[0m\u001b[0;34m(\u001b[0m\u001b[0mself\u001b[0m\u001b[0;34m,\u001b[0m \u001b[0;34m**\u001b[0m\u001b[0mkwargs\u001b[0m\u001b[0;34m)\u001b[0m\u001b[0;34m:\u001b[0m\u001b[0;34m\u001b[0m\u001b[0;34m\u001b[0m\u001b[0m\n\u001b[0;32m--> 561\u001b[0;31m         \u001b[0;32mreturn\u001b[0m \u001b[0mself\u001b[0m\u001b[0;34m.\u001b[0m\u001b[0mapply\u001b[0m\u001b[0;34m(\u001b[0m\u001b[0;34m\"setitem\"\u001b[0m\u001b[0;34m,\u001b[0m \u001b[0;34m**\u001b[0m\u001b[0mkwargs\u001b[0m\u001b[0;34m)\u001b[0m\u001b[0;34m\u001b[0m\u001b[0;34m\u001b[0m\u001b[0m\n\u001b[0m\u001b[1;32m    562\u001b[0m \u001b[0;34m\u001b[0m\u001b[0m\n\u001b[1;32m    563\u001b[0m     \u001b[0;32mdef\u001b[0m \u001b[0mputmask\u001b[0m\u001b[0;34m(\u001b[0m\u001b[0mself\u001b[0m\u001b[0;34m,\u001b[0m \u001b[0;34m**\u001b[0m\u001b[0mkwargs\u001b[0m\u001b[0;34m)\u001b[0m\u001b[0;34m:\u001b[0m\u001b[0;34m\u001b[0m\u001b[0;34m\u001b[0m\u001b[0m\n",
      "\u001b[0;32m/opt/anaconda3/envs/PythonAdv/lib/python3.6/site-packages/pandas/core/internals/managers.py\u001b[0m in \u001b[0;36mapply\u001b[0;34m(self, f, filter, **kwargs)\u001b[0m\n\u001b[1;32m    440\u001b[0m                 \u001b[0mapplied\u001b[0m \u001b[0;34m=\u001b[0m \u001b[0mb\u001b[0m\u001b[0;34m.\u001b[0m\u001b[0mapply\u001b[0m\u001b[0;34m(\u001b[0m\u001b[0mf\u001b[0m\u001b[0;34m,\u001b[0m \u001b[0;34m**\u001b[0m\u001b[0mkwargs\u001b[0m\u001b[0;34m)\u001b[0m\u001b[0;34m\u001b[0m\u001b[0;34m\u001b[0m\u001b[0m\n\u001b[1;32m    441\u001b[0m             \u001b[0;32melse\u001b[0m\u001b[0;34m:\u001b[0m\u001b[0;34m\u001b[0m\u001b[0;34m\u001b[0m\u001b[0m\n\u001b[0;32m--> 442\u001b[0;31m                 \u001b[0mapplied\u001b[0m \u001b[0;34m=\u001b[0m \u001b[0mgetattr\u001b[0m\u001b[0;34m(\u001b[0m\u001b[0mb\u001b[0m\u001b[0;34m,\u001b[0m \u001b[0mf\u001b[0m\u001b[0;34m)\u001b[0m\u001b[0;34m(\u001b[0m\u001b[0;34m**\u001b[0m\u001b[0mkwargs\u001b[0m\u001b[0;34m)\u001b[0m\u001b[0;34m\u001b[0m\u001b[0;34m\u001b[0m\u001b[0m\n\u001b[0m\u001b[1;32m    443\u001b[0m             \u001b[0mresult_blocks\u001b[0m \u001b[0;34m=\u001b[0m \u001b[0m_extend_blocks\u001b[0m\u001b[0;34m(\u001b[0m\u001b[0mapplied\u001b[0m\u001b[0;34m,\u001b[0m \u001b[0mresult_blocks\u001b[0m\u001b[0;34m)\u001b[0m\u001b[0;34m\u001b[0m\u001b[0;34m\u001b[0m\u001b[0m\n\u001b[1;32m    444\u001b[0m \u001b[0;34m\u001b[0m\u001b[0m\n",
      "\u001b[0;32m/opt/anaconda3/envs/PythonAdv/lib/python3.6/site-packages/pandas/core/internals/blocks.py\u001b[0m in \u001b[0;36msetitem\u001b[0;34m(self, indexer, value)\u001b[0m\n\u001b[1;32m    918\u001b[0m         \u001b[0;31m# set\u001b[0m\u001b[0;34m\u001b[0m\u001b[0;34m\u001b[0m\u001b[0;34m\u001b[0m\u001b[0m\n\u001b[1;32m    919\u001b[0m         \u001b[0;32melse\u001b[0m\u001b[0;34m:\u001b[0m\u001b[0;34m\u001b[0m\u001b[0;34m\u001b[0m\u001b[0m\n\u001b[0;32m--> 920\u001b[0;31m             \u001b[0mvalues\u001b[0m\u001b[0;34m[\u001b[0m\u001b[0mindexer\u001b[0m\u001b[0;34m]\u001b[0m \u001b[0;34m=\u001b[0m \u001b[0mvalue\u001b[0m\u001b[0;34m\u001b[0m\u001b[0;34m\u001b[0m\u001b[0m\n\u001b[0m\u001b[1;32m    921\u001b[0m \u001b[0;34m\u001b[0m\u001b[0m\n\u001b[1;32m    922\u001b[0m         \u001b[0;32mif\u001b[0m \u001b[0mtranspose\u001b[0m\u001b[0;34m:\u001b[0m\u001b[0;34m\u001b[0m\u001b[0;34m\u001b[0m\u001b[0m\n",
      "\u001b[0;31mValueError\u001b[0m: shape mismatch: value array of shape (421,) could not be broadcast to indexing result of shape (1367,)"
     ]
    }
   ],
   "source": [
    "y_pred = model.predict(X_test)\n",
    "data.loc[data.avg_distance_traveled.isnull(), \"avg_distance_traveled\"] = y_pred"
   ]
  },
  {
   "cell_type": "markdown",
   "metadata": {},
   "source": [
    "## Multiple Linear Regression Analysis\n",
    "### Resource Selection Factor Mean"
   ]
  },
  {
   "cell_type": "code",
   "execution_count": null,
   "metadata": {},
   "outputs": [],
   "source": [
    "# Make Prediction using a FIT model and plot ==SEE BELOW FOR ALTERNATIVES==\n",
    "predictions = model.predict(X_test_minmax)\n",
    "model.fit(X_train_minmax, y_train_minmax)\n",
    "\n",
    "plt.scatter(model.predict(X_train_minmax), model.predict(X_train_minmax) - y_train_minmax, c=\"blue\", label=\"Training Data\")\n",
    "plt.scatter(model.predict(X_test_minmax), model.predict(X_test_minmax) - y_test_minmax, c=\"orange\", label=\"Testing Data\")\n",
    "plt.legend()\n",
    "plt.hlines(y=0, xmin=y_test_minmax.min(), xmax=y_test_minmax.max())\n",
    "plt.title(\"Residual Plot\")\n",
    "plt.show()"
   ]
  },
  {
   "cell_type": "code",
   "execution_count": null,
   "metadata": {},
   "outputs": [],
   "source": [
    "# Validate the Model with MSE and R2\n",
    "from sklearn.metrics import mean_squared_error\n",
    "\n",
    "MSE = mean_squared_error(y_test_minmax, predictions)\n",
    "r2 = model.score(X_test_minmax, y_test_minmax)\n",
    "\n",
    "print(f\"MSE: {MSE}, R2: {r2}\")"
   ]
  },
  {
   "cell_type": "markdown",
   "metadata": {},
   "source": [
    "## Categorical Algorithms\n",
    "### Preprocessing - Transform RSF values to Categorical"
   ]
  },
  {
   "cell_type": "code",
   "execution_count": null,
   "metadata": {},
   "outputs": [],
   "source": [
    "df[\"avg_distance_traveled\"].describe()"
   ]
  },
  {
   "cell_type": "code",
   "execution_count": null,
   "metadata": {},
   "outputs": [],
   "source": [
    "conditions = [(df[\"avg_distance_traveled\"] < 1.5e+08 ), (df[\"avg_distance_traveled\"] > 1.5e+08 ) & (df[\"avg_distance_traveled\"] < 8e+08 ), (df[\"avg_distance_traveled\"] > 8e+08)]\n",
    "values = ['low', 'mid', 'high']\n",
    "df[\"avg_distance_traveled\"] = np.select(conditions,values)"
   ]
  },
  {
   "cell_type": "code",
   "execution_count": null,
   "metadata": {},
   "outputs": [],
   "source": [
    "df_cat = df [['year', 'month', 'land_avg_temp', \n",
    "       'land_ocean_avg_temp', 'global_avg_co2',\n",
    "       'seaice_extent','avg_distance_traveled']]"
   ]
  },
  {
   "cell_type": "markdown",
   "metadata": {},
   "source": [
    "### Assign new variables"
   ]
  },
  {
   "cell_type": "code",
   "execution_count": null,
   "metadata": {},
   "outputs": [],
   "source": [
    "X = df_cat[['year', 'month', 'land_avg_temp', \n",
    "       'land_ocean_avg_temp', 'global_avg_co2',\n",
    "       'seaice_extent']]\n",
    "y_cat = df_cat[\"avg_distance_traveled\"]\n",
    "print(X.shape, y_cat.shape)"
   ]
  },
  {
   "cell_type": "markdown",
   "metadata": {},
   "source": [
    "### Split the data into testing and training dataset"
   ]
  },
  {
   "cell_type": "code",
   "execution_count": null,
   "metadata": {},
   "outputs": [],
   "source": [
    "from sklearn.model_selection import train_test_split\n",
    "X_train, X_test, y_cat_train, y_cat_test = train_test_split(X, y_cat, test_size=0.5, random_state=42)"
   ]
  },
  {
   "cell_type": "markdown",
   "metadata": {},
   "source": [
    "### MinMaxScalar to fit and transform X features and y target"
   ]
  },
  {
   "cell_type": "code",
   "execution_count": null,
   "metadata": {},
   "outputs": [],
   "source": [
    "#Fit Transform using MinMaxScalar for X features\n",
    "from sklearn.preprocessing import MinMaxScaler\n",
    "X_minmax = MinMaxScaler().fit(X_train)\n",
    "\n",
    "X_train_minmax = X_minmax.transform(X_train)\n",
    "X_test_minmax = X_minmax.transform(X_test)"
   ]
  },
  {
   "cell_type": "markdown",
   "metadata": {},
   "source": [
    "## 1. Logistic Regression Analysis"
   ]
  },
  {
   "cell_type": "code",
   "execution_count": null,
   "metadata": {
    "scrolled": true
   },
   "outputs": [],
   "source": [
    "# Creat model and fit to scaled training data\n",
    "from sklearn.linear_model import LogisticRegression\n",
    "classifier = LogisticRegression()\n",
    "classifier.fit(X_train_minmax, y_cat_train)\n",
    "print(f\"Training Data Score: {classifier.score(X_train, y_cat_train)}\")\n",
    "print(f\"Testing Data Score: {classifier.score(X_test, y_cat_test)}\")"
   ]
  },
  {
   "cell_type": "markdown",
   "metadata": {},
   "source": [
    "## 2. Random Forest Analysis"
   ]
  },
  {
   "cell_type": "code",
   "execution_count": null,
   "metadata": {},
   "outputs": [],
   "source": [
    "from sklearn.ensemble import RandomForestClassifier\n",
    "y_cat_rf = df_cat[\"avg_distance_traveled\"]\n",
    "\n",
    "rf = RandomForestClassifier(n_estimators=200)\n",
    "rf = rf.fit(X_train_minmax, y_cat_train)\n",
    "score = rf.score(X_test_minmax, y_cat_test)"
   ]
  },
  {
   "cell_type": "code",
   "execution_count": null,
   "metadata": {},
   "outputs": [],
   "source": [
    "importances = rf.feature_importances_\n",
    "sorted(zip(rf.feature_importances_, X.columns), reverse=True)"
   ]
  },
  {
   "cell_type": "code",
   "execution_count": null,
   "metadata": {},
   "outputs": [],
   "source": [
    "print(f\"Random Forest Testing Score: {score}\")"
   ]
  },
  {
   "cell_type": "markdown",
   "metadata": {},
   "source": [
    "### hypertune the model"
   ]
  },
  {
   "cell_type": "code",
   "execution_count": null,
   "metadata": {},
   "outputs": [],
   "source": [
    "rf.get_params().keys()"
   ]
  },
  {
   "cell_type": "code",
   "execution_count": null,
   "metadata": {
    "scrolled": true
   },
   "outputs": [],
   "source": [
    "from sklearn.model_selection import RandomizedSearchCV# Number of trees in random forest\n",
    "n_estimators = [int(x) for x in np.linspace(start = 200, stop = 2000, num = 5)]\n",
    "# Number of features to consider at every split\n",
    "max_features = ['auto', 'sqrt']\n",
    "# Maximum number of levels in tree\n",
    "max_depth = [int(x) for x in np.linspace(10, 110, num = 3)]\n",
    "max_depth.append(None)\n",
    "# Minimum number of samples required to split a node\n",
    "min_samples_split = [2, 5, 10]\n",
    "# Minimum number of samples required at each leaf node\n",
    "min_samples_leaf = [1, 2, 4]\n",
    "# Method of selecting samples for training each tree\n",
    "bootstrap = [True, False]# Create the random grid\n",
    "random_grid = {'n_estimators': n_estimators,\n",
    "               'max_features': max_features,\n",
    "               'max_depth': max_depth,\n",
    "               'min_samples_split': min_samples_split,\n",
    "               'min_samples_leaf': min_samples_leaf,\n",
    "               'bootstrap': bootstrap}\n",
    "pprint(random_grid)"
   ]
  },
  {
   "cell_type": "markdown",
   "metadata": {},
   "source": [
    "### Label encoding y_cat"
   ]
  },
  {
   "cell_type": "code",
   "execution_count": null,
   "metadata": {},
   "outputs": [],
   "source": [
    "from sklearn.preprocessing import LabelEncoder\n",
    "label_encoder = LabelEncoder()\n",
    "label_encoder.fit(y_cat_train)\n",
    "\n",
    "encoded_y_train = label_encoder.transform(y_cat_train)\n",
    "encoded_y_test = label_encoder.transform(y_cat_test)"
   ]
  },
  {
   "cell_type": "code",
   "execution_count": null,
   "metadata": {},
   "outputs": [],
   "source": [
    "from sklearn.ensemble import RandomForestRegressor\n",
    "# Use the random grid to search for best hyperparameters\n",
    "# First create the base model to tune\n",
    "rf = RandomForestRegressor()\n",
    "# Random search of parameters, using 3 fold cross validation, \n",
    "# search across 100 different combinations, and use all available cores\n",
    "rf_random = RandomizedSearchCV(estimator = rf, param_distributions = random_grid, n_iter = 100, cv = 3, verbose=2, random_state=42, n_jobs = -1)# Fit the random search model\n",
    "rf_random.fit(X_train_minmax, encoded_y_train)"
   ]
  },
  {
   "cell_type": "code",
   "execution_count": null,
   "metadata": {},
   "outputs": [],
   "source": [
    "rf_random.best_params_"
   ]
  },
  {
   "cell_type": "code",
   "execution_count": null,
   "metadata": {
    "scrolled": true
   },
   "outputs": [],
   "source": [
    "rf2 = RandomForestClassifier(n_estimators=2000, min_samples_split =2, min_samples_leaf = 1, max_features='sqrt', max_depth=10, bootstrap='True')\n",
    "rf2 = rf2.fit(X_train_minmax, encoded_y_train)\n",
    "score = rf2.score(X_test_minmax, encoded_y_test)\n",
    "\n",
    "print(f\"Random Forest Testing Score: {score}\")"
   ]
  },
  {
   "cell_type": "code",
   "execution_count": null,
   "metadata": {},
   "outputs": [],
   "source": [
    "import pickle\n",
    "pickle.dump(rf2, open(\"../../models/rf_mob.pkl\", \"wb\"))"
   ]
  },
  {
   "cell_type": "code",
   "execution_count": null,
   "metadata": {},
   "outputs": [],
   "source": [
    "with open(\"../../models/rf_mob.pkl\", \"rb\") as f:\n",
    "    model_object = pickle.load(f)\n",
    "    f.close()"
   ]
  },
  {
   "cell_type": "markdown",
   "metadata": {},
   "source": [
    "## 3. Mobility KNN"
   ]
  },
  {
   "cell_type": "code",
   "execution_count": null,
   "metadata": {},
   "outputs": [],
   "source": [
    "from sklearn.neighbors import KNeighborsClassifier\n",
    "\n",
    "train_scores = []\n",
    "test_scores = []\n",
    "for k in range (1, 20, 2):\n",
    "    knn = KNeighborsClassifier(n_neighbors = k)\n",
    "    knn.fit(X_train_minmax, y_cat_train)\n",
    "    train_score = knn.score(X_train_minmax, y_cat_train)\n",
    "    test_score = knn.score(X_test_minmax, y_cat_test)\n",
    "    train_scores.append(train_score)\n",
    "    test_scores.append(test_score)\n",
    "    print(f\"k: {k}, Train/Test Score: {train_score:.3f}/{test_score:.3f}\")\n",
    "    \n",
    "    \n",
    "plt.plot(range(1, 20, 2), train_scores, marker='o')\n",
    "plt.plot(range(1, 20, 2), test_scores, marker=\"x\")\n",
    "plt.xlabel(\"k neighbors\")\n",
    "plt.ylabel(\"Testing accuracy Score\")\n",
    "plt.show()"
   ]
  },
  {
   "cell_type": "code",
   "execution_count": null,
   "metadata": {
    "scrolled": true
   },
   "outputs": [],
   "source": [
    "#STEP 5: re-fit classifier with optimal k value\n",
    "knn = KNeighborsClassifier(n_neighbors = 5)\n",
    "knn.fit(X_train_minmax, y_cat_train)\n",
    "print(\"k=5 Test Acc: %.3f\" %knn.score(X_test_minmax, y_cat_test))"
   ]
  },
  {
   "cell_type": "code",
   "execution_count": null,
   "metadata": {},
   "outputs": [],
   "source": [
    "import pickle\n",
    "pickle.dump(knn, open(\"../../knn_mob.pkl\", \"wb\"))"
   ]
  },
  {
   "cell_type": "code",
   "execution_count": null,
   "metadata": {},
   "outputs": [],
   "source": [
    "with open(\"../../knn_mob.pkl\", \"rb\") as f:\n",
    "    model_object = pickle.load(f)\n",
    "    f.close()"
   ]
  }
 ],
 "metadata": {
  "kernelspec": {
   "display_name": "Python [conda env:PythonAdv] *",
   "language": "python",
   "name": "conda-env-PythonAdv-py"
  },
  "language_info": {
   "codemirror_mode": {
    "name": "ipython",
    "version": 3
   },
   "file_extension": ".py",
   "mimetype": "text/x-python",
   "name": "python",
   "nbconvert_exporter": "python",
   "pygments_lexer": "ipython3",
   "version": "3.6.10"
  }
 },
 "nbformat": 4,
 "nbformat_minor": 4
}
