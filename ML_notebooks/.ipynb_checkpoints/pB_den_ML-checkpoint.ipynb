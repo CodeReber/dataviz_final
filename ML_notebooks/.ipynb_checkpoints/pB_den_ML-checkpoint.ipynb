{
 "cells": [
  {
   "cell_type": "code",
   "execution_count": null,
   "metadata": {
    "colab": {
     "base_uri": "https://localhost:8080/"
    },
    "id": "5WosHdRWdmpw",
    "outputId": "61d8c8f6-4bbd-478c-9bfb-206bcbb7b992"
   },
   "outputs": [
    {
     "name": "stdout",
     "output_type": "stream",
     "text": [
      "\r",
      "0% [Working]\r",
      "            \r",
      "Ign:1 https://developer.download.nvidia.com/compute/cuda/repos/ubuntu1804/x86_64  InRelease\n",
      "\r",
      "0% [Waiting for headers] [Connecting to security.ubuntu.com (91.189.88.142)] [C\r",
      "                                                                               \r",
      "Hit:2 https://cloud.r-project.org/bin/linux/ubuntu bionic-cran40/ InRelease\n",
      "\r",
      "0% [Waiting for headers] [Connecting to security.ubuntu.com (91.189.88.142)] [W\r",
      "0% [2 InRelease gpgv 3,626 B] [Waiting for headers] [Connecting to security.ubu\r",
      "                                                                               \r",
      "Ign:3 https://developer.download.nvidia.com/compute/machine-learning/repos/ubuntu1804/x86_64  InRelease\n",
      "\r",
      "0% [2 InRelease gpgv 3,626 B] [Waiting for headers] [Connecting to security.ubu\r",
      "                                                                               \r",
      "Hit:4 http://archive.ubuntu.com/ubuntu bionic InRelease\n",
      "\r",
      "                                                                               \r",
      "Hit:5 https://developer.download.nvidia.com/compute/cuda/repos/ubuntu1804/x86_64  Release\n",
      "Hit:6 http://ppa.launchpad.net/c2d4u.team/c2d4u4.0+/ubuntu bionic InRelease\n",
      "Hit:7 https://developer.download.nvidia.com/compute/machine-learning/repos/ubuntu1804/x86_64  Release\n",
      "Get:8 http://security.ubuntu.com/ubuntu bionic-security InRelease [88.7 kB]\n",
      "Get:9 http://archive.ubuntu.com/ubuntu bionic-updates InRelease [88.7 kB]\n",
      "Hit:10 http://ppa.launchpad.net/graphics-drivers/ppa/ubuntu bionic InRelease\n",
      "Get:11 http://archive.ubuntu.com/ubuntu bionic-backports InRelease [74.6 kB]\n",
      "Fetched 252 kB in 2s (136 kB/s)\n",
      "Reading package lists... Done\n"
     ]
    }
   ],
   "source": [
    "import os\n",
    "# Find the latest version of spark 3.0  from http://www-us.apache.org/dist/spark/ and enter as the spark version\n",
    "# For example:\n",
    "# spark_version = 'spark-3.0.1'\n",
    "spark_version = 'spark-3.0.1'\n",
    "os.environ['SPARK_VERSION']=spark_version\n",
    "\n",
    "# Install Spark and Java\n",
    "!apt-get update\n",
    "!apt-get install openjdk-11-jdk-headless -qq > /dev/null\n",
    "!wget -q http://www-us.apache.org/dist/spark/$SPARK_VERSION/$SPARK_VERSION-bin-hadoop2.7.tgz\n",
    "!tar xf $SPARK_VERSION-bin-hadoop2.7.tgz\n",
    "!pip install -q findspark\n",
    "\n",
    "# Set Environment Variables\n",
    "os.environ[\"JAVA_HOME\"] = \"/usr/lib/jvm/java-11-openjdk-amd64\"\n",
    "os.environ[\"SPARK_HOME\"] = f\"/content/{spark_version}-bin-hadoop2.7\"\n",
    "\n",
    "# Start a SparkSession\n",
    "import findspark\n",
    "findspark.init()"
   ]
  },
  {
   "cell_type": "code",
   "execution_count": null,
   "metadata": {
    "colab": {
     "base_uri": "https://localhost:8080/"
    },
    "id": "xISV-9eR6Yah",
    "outputId": "e66b1af2-c179-4aaf-c892-5e193efad83e"
   },
   "outputs": [
    {
     "name": "stdout",
     "output_type": "stream",
     "text": [
      "--2020-11-20 16:27:54--  https://jdbc.postgresql.org/download/postgresql-42.2.9.jar\n",
      "Resolving jdbc.postgresql.org (jdbc.postgresql.org)... 72.32.157.228, 2001:4800:3e1:1::228\n",
      "Connecting to jdbc.postgresql.org (jdbc.postgresql.org)|72.32.157.228|:443... connected.\n",
      "HTTP request sent, awaiting response... 200 OK\n",
      "Length: 914037 (893K) [application/java-archive]\n",
      "Saving to: ‘postgresql-42.2.9.jar.1’\n",
      "\n",
      "postgresql-42.2.9.j 100%[===================>] 892.61K  5.01MB/s    in 0.2s    \n",
      "\n",
      "2020-11-20 16:27:54 (5.01 MB/s) - ‘postgresql-42.2.9.jar.1’ saved [914037/914037]\n",
      "\n"
     ]
    }
   ],
   "source": [
    "!wget https://jdbc.postgresql.org/download/postgresql-42.2.9.jar"
   ]
  },
  {
   "cell_type": "code",
   "execution_count": null,
   "metadata": {
    "id": "aEQFTWiV6g2h"
   },
   "outputs": [],
   "source": [
    "from pyspark.sql import SparkSession\n",
    "spark = SparkSession.builder.appName(\"OperationPolarBear\").config(\"spark.driver.extraClassPath\",\"/content/postgresql-42.2.9.jar\").getOrCreate()"
   ]
  },
  {
   "cell_type": "code",
   "execution_count": null,
   "metadata": {
    "colab": {
     "base_uri": "https://localhost:8080/"
    },
    "id": "P88ZKeeIz2NV",
    "outputId": "3cb03a05-11f2-4efe-be29-3fd342b0c7d2"
   },
   "outputs": [
    {
     "name": "stdout",
     "output_type": "stream",
     "text": [
      "+--------+---------+--------+------------+-----------+-------+------------+----------+-------+\n",
      "| bear_id|  GMTdate| GMTtime|        long|        lat|raw_act|standard_act|active_den|habitat|\n",
      "+--------+---------+--------+------------+-----------+-------+------------+----------+-------+\n",
      "|pb_20132|4/29/2009| 8:30:00|-148.0326888|70.52573552|  131.0|       131.0|         0|   land|\n",
      "|pb_20132|4/29/2009| 9:00:00|-148.0327367|70.52573183|  194.0|       194.0|         0|   land|\n",
      "|pb_20132|4/29/2009| 9:30:00|-148.0327791|70.52577487|    9.0|         9.0|         0|   land|\n",
      "|pb_20132|4/29/2009|10:00:00|-148.0328216|70.52581791|  205.0|       205.0|         0|   land|\n",
      "|pb_20132|4/29/2009|10:30:00|-148.0327916| 70.5258169|  542.0|       542.0|         0|   land|\n",
      "|pb_20132|4/29/2009|11:00:00|-148.0327617| 70.5258159|  494.0|       494.0|         0|   land|\n",
      "|pb_20132|4/29/2009|11:30:00|-148.0327961|70.52581656|   78.0|        78.0|         0|   land|\n",
      "|pb_20132|4/29/2009|12:00:00|-148.0328306|70.52581722|    7.0|         7.0|         0|   land|\n",
      "|pb_20132|4/29/2009|12:30:00|-148.0328596| 70.5258183|    0.0|         0.0|         0|   land|\n",
      "|pb_20132|4/29/2009|13:00:00|-148.0328886|70.52581938|  185.0|       185.0|         0|   land|\n",
      "|pb_20132|4/29/2009|13:30:00|-148.0328265|70.52586053|  606.0|       606.0|         0|   land|\n",
      "|pb_20132|4/29/2009|14:00:00|-148.0327643|70.52590169|  133.0|       133.0|         0|   land|\n",
      "|pb_20132|4/29/2009|14:30:00|-148.0327487| 70.5259029|  133.0|       133.0|         0|   land|\n",
      "|pb_20132|4/29/2009|15:00:00| -148.032733|70.52590411|  161.0|       161.0|         0|   land|\n",
      "|pb_20132|4/29/2009|15:30:00|-148.0326651|70.52590603|  103.0|       103.0|         0|   land|\n",
      "|pb_20132|4/29/2009|16:00:00|-148.0325972|70.52590796|   26.0|        26.0|         0|   land|\n",
      "|pb_20132|4/29/2009|16:30:00|-148.0322903|70.52593167|   23.0|        23.0|         0|   land|\n",
      "|pb_20132|4/29/2009|17:00:00|-148.0319833|70.52595536|  223.0|       223.0|         0|   land|\n",
      "|pb_20132|4/29/2009|17:30:00|-148.0287008|70.52563328|  613.0|       613.0|         0|   land|\n",
      "|pb_20132|4/29/2009|18:00:00|-148.0254186|70.52531113|  618.0|       618.0|         0|   land|\n",
      "+--------+---------+--------+------------+-----------+-------+------------+----------+-------+\n",
      "only showing top 20 rows\n",
      "\n"
     ]
    }
   ],
   "source": [
    "# Read in data from S3 Buckets\n",
    "#from pyspark import SparkFiles\n",
    "from pyspark import SparkFiles\n",
    "url=\"https://jim2020.s3.us-east-2.amazonaws.com/pB_2009_2016.csv\"\n",
    "spark.sparkContext.addFile(url)\n",
    "pB1_2009_2016_df = spark.read.csv(SparkFiles.get(\"pB_2009_2016.csv\"), sep=\",\", header=True, inferSchema=True)\n",
    "\n",
    "# Show DataFrame\n",
    "pB_2009_2016_df = pB1_2009_2016_df.drop('_c9','_c10','_c11')\n",
    "pB_2009_2016_df.show()"
   ]
  },
  {
   "cell_type": "code",
   "execution_count": null,
   "metadata": {
    "colab": {
     "base_uri": "https://localhost:8080/"
    },
    "id": "a4nehMcPGjeT",
    "outputId": "1bd2ec10-57c5-4871-daa6-3cf085065787"
   },
   "outputs": [
    {
     "name": "stdout",
     "output_type": "stream",
     "text": [
      "+--------+---------+----------+-------+\n",
      "| bear_id|  GMTdate|active_den|habitat|\n",
      "+--------+---------+----------+-------+\n",
      "|pb_20132|4/29/2009|         0|   land|\n",
      "|pb_20132|4/29/2009|         0|   land|\n",
      "|pb_20132|4/29/2009|         0|   land|\n",
      "|pb_20132|4/29/2009|         0|   land|\n",
      "|pb_20132|4/29/2009|         0|   land|\n",
      "|pb_20132|4/29/2009|         0|   land|\n",
      "|pb_20132|4/29/2009|         0|   land|\n",
      "|pb_20132|4/29/2009|         0|   land|\n",
      "|pb_20132|4/29/2009|         0|   land|\n",
      "|pb_20132|4/29/2009|         0|   land|\n",
      "|pb_20132|4/29/2009|         0|   land|\n",
      "|pb_20132|4/29/2009|         0|   land|\n",
      "|pb_20132|4/29/2009|         0|   land|\n",
      "|pb_20132|4/29/2009|         0|   land|\n",
      "|pb_20132|4/29/2009|         0|   land|\n",
      "|pb_20132|4/29/2009|         0|   land|\n",
      "|pb_20132|4/29/2009|         0|   land|\n",
      "|pb_20132|4/29/2009|         0|   land|\n",
      "|pb_20132|4/29/2009|         0|   land|\n",
      "|pb_20132|4/29/2009|         0|   land|\n",
      "+--------+---------+----------+-------+\n",
      "only showing top 20 rows\n",
      "\n"
     ]
    }
   ],
   "source": [
    "pB_den_df = pB1_2009_2016_df.drop(\"GMTtime\", \"long\", \"lat\", \"raw_act\", \"standard_act\", '_c9','_c10','_c11')\n",
    "pB_den_df.show()"
   ]
  },
  {
   "cell_type": "code",
   "execution_count": null,
   "metadata": {
    "colab": {
     "base_uri": "https://localhost:8080/"
    },
    "id": "m-xe0c0XHxtC",
    "outputId": "a019e4dd-fcc8-4a1f-ceae-d4a9c4d80a90"
   },
   "outputs": [
    {
     "name": "stdout",
     "output_type": "stream",
     "text": [
      "root\n",
      " |-- bear_id: string (nullable = true)\n",
      " |-- GMTdate: string (nullable = true)\n",
      " |-- active_den: integer (nullable = true)\n",
      " |-- habitat: string (nullable = true)\n",
      "\n"
     ]
    }
   ],
   "source": [
    "pB_den_df.printSchema()"
   ]
  },
  {
   "cell_type": "code",
   "execution_count": null,
   "metadata": {
    "colab": {
     "base_uri": "https://localhost:8080/"
    },
    "id": "B9t6irCMIEwI",
    "outputId": "41eedf50-1115-47ca-f9f5-8eb9c16f7e0f"
   },
   "outputs": [
    {
     "name": "stdout",
     "output_type": "stream",
     "text": [
      "+--------+---------+----------+-------+----------+\n",
      "| bear_id|  GMTdate|active_den|habitat|      Date|\n",
      "+--------+---------+----------+-------+----------+\n",
      "|pb_20132|4/29/2009|         0|   land|2009-04-29|\n",
      "|pb_20132|4/29/2009|         0|   land|2009-04-29|\n",
      "|pb_20132|4/29/2009|         0|   land|2009-04-29|\n",
      "|pb_20132|4/29/2009|         0|   land|2009-04-29|\n",
      "|pb_20132|4/29/2009|         0|   land|2009-04-29|\n",
      "|pb_20132|4/29/2009|         0|   land|2009-04-29|\n",
      "|pb_20132|4/29/2009|         0|   land|2009-04-29|\n",
      "|pb_20132|4/29/2009|         0|   land|2009-04-29|\n",
      "|pb_20132|4/29/2009|         0|   land|2009-04-29|\n",
      "|pb_20132|4/29/2009|         0|   land|2009-04-29|\n",
      "|pb_20132|4/29/2009|         0|   land|2009-04-29|\n",
      "|pb_20132|4/29/2009|         0|   land|2009-04-29|\n",
      "|pb_20132|4/29/2009|         0|   land|2009-04-29|\n",
      "|pb_20132|4/29/2009|         0|   land|2009-04-29|\n",
      "|pb_20132|4/29/2009|         0|   land|2009-04-29|\n",
      "|pb_20132|4/29/2009|         0|   land|2009-04-29|\n",
      "|pb_20132|4/29/2009|         0|   land|2009-04-29|\n",
      "|pb_20132|4/29/2009|         0|   land|2009-04-29|\n",
      "|pb_20132|4/29/2009|         0|   land|2009-04-29|\n",
      "|pb_20132|4/29/2009|         0|   land|2009-04-29|\n",
      "+--------+---------+----------+-------+----------+\n",
      "only showing top 20 rows\n",
      "\n"
     ]
    }
   ],
   "source": [
    "from datetime import datetime\n",
    "from pyspark.sql.functions import col, udf\n",
    "from pyspark.sql.types import DateType\n",
    "\n",
    "#Set user defined function\n",
    "func =  udf (lambda x: datetime.strptime(x, '%m/%d/%Y'), DateType())\n",
    "\n",
    "pB_den_df2 = pB_den_df.withColumn('Date', func(col('GMTdate')))\n",
    "pB_den_df2.show()"
   ]
  },
  {
   "cell_type": "code",
   "execution_count": null,
   "metadata": {
    "colab": {
     "base_uri": "https://localhost:8080/"
    },
    "id": "EUZzaW8THWkv",
    "outputId": "63b44835-b95d-4a04-e5a1-9afbe4d9d3f8"
   },
   "outputs": [
    {
     "name": "stdout",
     "output_type": "stream",
     "text": [
      "+--------+----+-----+----------+-------+\n",
      "| bear_id|year|month|active_den|habitat|\n",
      "+--------+----+-----+----------+-------+\n",
      "|pb_20132|2009|    4|         0|   land|\n",
      "|pb_20132|2009|    4|         0|   land|\n",
      "|pb_20132|2009|    4|         0|   land|\n",
      "|pb_20132|2009|    4|         0|   land|\n",
      "|pb_20132|2009|    4|         0|   land|\n",
      "|pb_20132|2009|    4|         0|   land|\n",
      "|pb_20132|2009|    4|         0|   land|\n",
      "|pb_20132|2009|    4|         0|   land|\n",
      "|pb_20132|2009|    4|         0|   land|\n",
      "|pb_20132|2009|    4|         0|   land|\n",
      "|pb_20132|2009|    4|         0|   land|\n",
      "|pb_20132|2009|    4|         0|   land|\n",
      "|pb_20132|2009|    4|         0|   land|\n",
      "|pb_20132|2009|    4|         0|   land|\n",
      "|pb_20132|2009|    4|         0|   land|\n",
      "|pb_20132|2009|    4|         0|   land|\n",
      "|pb_20132|2009|    4|         0|   land|\n",
      "|pb_20132|2009|    4|         0|   land|\n",
      "|pb_20132|2009|    4|         0|   land|\n",
      "|pb_20132|2009|    4|         0|   land|\n",
      "+--------+----+-----+----------+-------+\n",
      "only showing top 20 rows\n",
      "\n"
     ]
    }
   ],
   "source": [
    "from pyspark.sql.functions import year, month\n",
    "pB_den_df3 = pB_den_df2.select(\"bear_id\",year(\"Date\").alias(\"year\"), month(\"Date\").alias(\"month\"), \"active_den\", \"habitat\")\n",
    "pB_den_df3.show()"
   ]
  },
  {
   "cell_type": "code",
   "execution_count": null,
   "metadata": {
    "id": "ClkvFWjUTLgQ"
   },
   "outputs": [],
   "source": [
    "#Create an index for the habitat for aggregation\n",
    "## Ended up going a different route (left syntax for learnign purposes)\n",
    "\n",
    "# from pyspark.ml.feature import StringIndexer\n",
    "# indexer = StringIndexer(inputCol = \"habitat\", outputCol = \"habitatIndex\")\n",
    "# indexed = indexer.fit(pB_den_df3).transform(pB_den_df3)\n",
    "# indexed.show()"
   ]
  },
  {
   "cell_type": "code",
   "execution_count": null,
   "metadata": {
    "colab": {
     "base_uri": "https://localhost:8080/"
    },
    "id": "qqEMlnzlUWS9",
    "outputId": "de276bc9-a3ba-4641-a778-84b9d20b8dfd"
   },
   "outputs": [
    {
     "name": "stdout",
     "output_type": "stream",
     "text": [
      "+--------+----+-----+----------+-------+----+---+\n",
      "| bear_id|year|month|active_den|habitat|land|ice|\n",
      "+--------+----+-----+----------+-------+----+---+\n",
      "|pb_20132|2009|    4|         0|   land|   1|  0|\n",
      "|pb_20132|2009|    4|         0|   land|   1|  0|\n",
      "|pb_20132|2009|    4|         0|   land|   1|  0|\n",
      "|pb_20132|2009|    4|         0|   land|   1|  0|\n",
      "|pb_20132|2009|    4|         0|   land|   1|  0|\n",
      "|pb_20132|2009|    4|         0|   land|   1|  0|\n",
      "|pb_20132|2009|    4|         0|   land|   1|  0|\n",
      "|pb_20132|2009|    4|         0|   land|   1|  0|\n",
      "|pb_20132|2009|    4|         0|   land|   1|  0|\n",
      "|pb_20132|2009|    4|         0|   land|   1|  0|\n",
      "|pb_20132|2009|    4|         0|   land|   1|  0|\n",
      "|pb_20132|2009|    4|         0|   land|   1|  0|\n",
      "|pb_20132|2009|    4|         0|   land|   1|  0|\n",
      "|pb_20132|2009|    4|         0|   land|   1|  0|\n",
      "|pb_20132|2009|    4|         0|   land|   1|  0|\n",
      "|pb_20132|2009|    4|         0|   land|   1|  0|\n",
      "|pb_20132|2009|    4|         0|   land|   1|  0|\n",
      "|pb_20132|2009|    4|         0|   land|   1|  0|\n",
      "|pb_20132|2009|    4|         0|   land|   1|  0|\n",
      "|pb_20132|2009|    4|         0|   land|   1|  0|\n",
      "+--------+----+-----+----------+-------+----+---+\n",
      "only showing top 20 rows\n",
      "\n"
     ]
    }
   ],
   "source": [
    "#Group by month and year\n",
    "from pyspark.sql import functions as F\n",
    "\n",
    "pB_den_df3 = pB_den_df3.withColumn(\"land\", F.when(col(\"habitat\") == 'land', 1).otherwise(0))\n",
    "pB_den_df3 = pB_den_df3.withColumn(\"ice\", F.when(col(\"habitat\") == 'ice', 1).otherwise(0))\n",
    "pB_den_df3.show()\n"
   ]
  },
  {
   "cell_type": "code",
   "execution_count": null,
   "metadata": {
    "colab": {
     "base_uri": "https://localhost:8080/"
    },
    "id": "ZtDdA8OiCmay",
    "outputId": "ce81f95c-bf60-4add-b413-10d321393a76"
   },
   "outputs": [
    {
     "name": "stdout",
     "output_type": "stream",
     "text": [
      "+----+-----+---------+--------+---------------+\n",
      "|year|month|sum(land)|sum(ice)|sum(active_den)|\n",
      "+----+-----+---------+--------+---------------+\n",
      "|2009|    4|       59|     775|              0|\n",
      "|2009|    5|      490|   16192|              0|\n",
      "|2009|    6|        0|   19622|              0|\n",
      "|2009|    7|      640|   16163|              0|\n",
      "|2009|    8|     4401|   11665|              0|\n",
      "|2009|    9|     1499|   11596|              0|\n",
      "|2009|   10|     1101|   10118|             83|\n",
      "|2009|   11|       99|    5920|              0|\n",
      "|2009|   12|      141|    5459|              0|\n",
      "|2010|    1|        5|    4707|              0|\n",
      "|2010|    2|       16|    3999|              0|\n",
      "|2010|    3|      120|    3941|              0|\n",
      "|2010|    4|       94|    1559|              0|\n",
      "|2010|    5|        0|     840|              0|\n",
      "|2011|    3|        0|      30|              0|\n",
      "|2011|    4|       17|    1387|              0|\n",
      "|2011|    5|       49|    1993|              0|\n",
      "|2011|    6|       53|    1446|              0|\n",
      "|2011|    7|        0|    1527|              0|\n",
      "|2011|    8|      362|     959|              0|\n",
      "+----+-----+---------+--------+---------------+\n",
      "only showing top 20 rows\n",
      "\n"
     ]
    }
   ],
   "source": [
    "# Write DataFrame to pB_dens_1910_2018 table in RDS\n",
    "pB_den_agg = pB_den_df3.select([\"year\", \"month\", \"active_den\", \"land\", \"ice\"])\\\n",
    "  .groupby(\"year\", \"month\")\\\n",
    "  .agg({\"active_den\": \"sum\", \"land\": \"sum\", \"ice\": \"sum\"})\\\n",
    "  .orderBy(\"year\", \"month\")\n",
    "pB_den_agg.show()"
   ]
  },
  {
   "cell_type": "code",
   "execution_count": null,
   "metadata": {
    "id": "LokN97vMVcUH"
   },
   "outputs": [],
   "source": [
    "pB_den_agg = pB_den_agg.withColumnRenamed(\"sum(land)\", \"num_land_dens\")\\\n",
    ".withColumnRenamed(\"sum(ice)\", \"num_ice_dens\")\\\n",
    ".withColumnRenamed(\"sum(active_den)\", \"num_active_dens\")"
   ]
  },
  {
   "cell_type": "code",
   "execution_count": null,
   "metadata": {
    "id": "1zrxObxU2txB"
   },
   "outputs": [],
   "source": [
    "# Configure settings for RDS\n",
    "mode = \"append\"\n",
    "jdbc_url=\"jdbc:postgresql://polarbear.c6c40hihvfwz.us-east-2.rds.amazonaws.com:5432/polarbear_db\"\n",
    "config = {\"user\":\"xxx\", \n",
    "          \"password\": \"xxxx\", \n",
    "          \"driver\":\"org.postgresql.Driver\"}"
   ]
  },
  {
   "cell_type": "code",
   "execution_count": null,
   "metadata": {
    "id": "2CeZbP0RdmBk"
   },
   "outputs": [],
   "source": [
    "# Write DataFrame to table\n",
    "pB_den_agg.write.jdbc(url=jdbc_url, table='public.pb_den_agg', mode=mode, properties=config)"
   ]
  }
 ],
 "metadata": {
  "colab": {
   "name": "pB_den_ML.ipynb",
   "provenance": []
  },
  "kernelspec": {
   "display_name": "Python 3",
   "language": "python",
   "name": "python3"
  },
  "language_info": {
   "codemirror_mode": {
    "name": "ipython",
    "version": 3
   },
   "file_extension": ".py",
   "mimetype": "text/x-python",
   "name": "python",
   "nbconvert_exporter": "python",
   "pygments_lexer": "ipython3",
   "version": "3.6.10"
  }
 },
 "nbformat": 4,
 "nbformat_minor": 1
}
